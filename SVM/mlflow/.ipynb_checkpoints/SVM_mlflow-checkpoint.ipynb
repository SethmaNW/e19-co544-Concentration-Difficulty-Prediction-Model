{
 "cells": [
  {
   "cell_type": "code",
   "execution_count": 31,
   "metadata": {},
   "outputs": [
    {
     "name": "stdout",
     "output_type": "stream",
     "text": [
      "C:\\Users\\ASUS\\anaconda3\\envs\\mycondaenv\\python.exe\n"
     ]
    }
   ],
   "source": [
    "import sys\n",
    "\n",
    "print(sys.executable)"
   ]
  },
  {
   "cell_type": "code",
   "execution_count": 32,
   "id": "ff37a39e",
   "metadata": {},
   "outputs": [
    {
     "name": "stdout",
     "output_type": "stream",
     "text": [
      "     Age  Sex  Relationship Status  Occupation  Social Media User?  \\\n",
      "0     24    0                    1           2                   1   \n",
      "1     46    0                    2           2                   1   \n",
      "2     30    1                    2           2                   1   \n",
      "3     56    1                    2           3                   1   \n",
      "4     19    0                    1           1                   1   \n",
      "..   ...  ...                  ...         ...                 ...   \n",
      "379   23    1                    1           0                   1   \n",
      "380   19    1                    1           1                   1   \n",
      "381   24    0                    0           0                   1   \n",
      "382   22    1                    0           0                   1   \n",
      "383   22    0                    1           0                   1   \n",
      "\n",
      "     Time Spent  Q1  Q2  Q3  Q4  ...  Difficulty_level  Facebook  Instagram  \\\n",
      "0             2   3   3   2   2  ...                 0         1          1   \n",
      "1             0   2   1   1   1  ...                 0         1          0   \n",
      "2             4   2   4   4   2  ...                 1         1          1   \n",
      "3             1   1   1   1   1  ...                 0         0          0   \n",
      "4             4   3   3   4   3  ...                 1         1          1   \n",
      "..          ...  ..  ..  ..  ..  ...               ...       ...        ...   \n",
      "379           2   3   2   2   3  ...                 1         1          1   \n",
      "380           5   3   2   1   1  ...                 1         1          1   \n",
      "381           4   4   5   3   1  ...                 1         1          1   \n",
      "382           5   1   5   2   2  ...                 1         1          1   \n",
      "383           3   3   4   3   3  ...                 1         0          1   \n",
      "\n",
      "     YouTube  Snapchat  Twitter  Discord  Reddit  Pinterest  TikTok  \n",
      "0          1         0        1        0       0          0       0  \n",
      "1          1         0        0        0       0          0       0  \n",
      "2          0         0        0        0       0          0       0  \n",
      "3          1         0        0        0       0          0       0  \n",
      "4          1         0        0        0       0          0       1  \n",
      "..       ...       ...      ...      ...     ...        ...     ...  \n",
      "379        0         0        0        0       0          0       1  \n",
      "380        1         1        1        1       1          1       1  \n",
      "381        1         1        1        1       1          0       0  \n",
      "382        1         0        0        0       1          0       1  \n",
      "383        0         0        0        0       0          0       0  \n",
      "\n",
      "[384 rows x 24 columns]\n"
     ]
    }
   ],
   "source": [
    "import pandas as pd\n",
    "\n",
    "# Read the CSV file into a DataFrame\n",
    "train_df = pd.read_csv(\"../../Preprocessing_pipeline/final_data_sets/train_set.csv\")\n",
    "test_df = pd.read_csv(\"../../Preprocessing_pipeline/final_data_sets/test_set.csv\")\n",
    "# Display the DataFrame\n",
    "print(train_df)"
   ]
  },
  {
   "cell_type": "code",
   "execution_count": 33,
   "id": "e5d92986",
   "metadata": {},
   "outputs": [
    {
     "data": {
      "text/plain": [
       "Index(['Age', 'Sex', 'Relationship Status', 'Occupation', 'Social Media User?',\n",
       "       'Time Spent', 'Q1', 'Q2', 'Q3', 'Q4', 'Q5', 'Q6', 'Q7', 'Q8',\n",
       "       'Difficulty_level', 'Facebook', 'Instagram', 'YouTube', 'Snapchat',\n",
       "       'Twitter', 'Discord', 'Reddit', 'Pinterest', 'TikTok'],\n",
       "      dtype='object')"
      ]
     },
     "execution_count": 33,
     "metadata": {},
     "output_type": "execute_result"
    }
   ],
   "source": [
    "train_df.columns"
   ]
  },
  {
   "cell_type": "code",
   "execution_count": 34,
   "id": "083a6e91",
   "metadata": {},
   "outputs": [
    {
     "data": {
      "text/plain": [
       "<Experiment: artifact_location='file:///C:/Users/ASUS/e19-co544-Concentration-Difficulty-Prediction-Model-1/SVM/mlflow/mlruns/1', creation_time=1719248952662, experiment_id='1', last_update_time=1719248952662, lifecycle_stage='active', name='SVM Experiments', tags={}>"
      ]
     },
     "execution_count": 34,
     "metadata": {},
     "output_type": "execute_result"
    }
   ],
   "source": [
    "import mlflow\n",
    "import mlflow.sklearn\n",
    "\n",
    "# Set up the experiment\n",
    "mlflow.set_tracking_uri(\"sqlite:///mlflow.db\")\n",
    "mlflow.set_experiment(\"SVM Experiments\")"
   ]
  },
  {
   "cell_type": "code",
   "execution_count": 35,
   "id": "9a2ef33b",
   "metadata": {},
   "outputs": [],
   "source": [
    "X_train = train_df.drop(columns=[\"Difficulty_level\"])\n",
    "y_train = train_df[\"Difficulty_level\"]\n",
    "\n",
    "X_test = test_df.drop(columns=[\"Difficulty_level\"])\n",
    "y_test = test_df[\"Difficulty_level\"]"
   ]
  },
  {
   "cell_type": "markdown",
   "id": "d608db2b",
   "metadata": {},
   "source": [
    "Define the SVM Training and Logging Function"
   ]
  },
  {
   "cell_type": "code",
   "execution_count": 37,
   "id": "6f661bbc",
   "metadata": {},
   "outputs": [],
   "source": [
    "from sklearn.svm import SVC\n",
    "from sklearn.metrics import accuracy_score, precision_score, recall_score, f1_score\n",
    "from sklearn.preprocessing import LabelBinarizer\n",
    "\n",
    "\n",
    "def train_and_log_model(kernel, C, gamma, feature_subset):\n",
    "    # Select the subset of features\n",
    "    X_train_subset = X_train[feature_subset]\n",
    "    X_test_subset = X_test[feature_subset]\n",
    "\n",
    "    # Initialize the SVM model with parameters\n",
    "    model = SVC(kernel=kernel, C=C, gamma=gamma)\n",
    "\n",
    "    # Create a unique run name\n",
    "    run_name = f\"SVM_{kernel}_C={C}_gamma={gamma}_features={'_'.join(feature_subset)}\"\n",
    "\n",
    "    # Start an MLFlow run\n",
    "    with mlflow.start_run(run_name=run_name):\n",
    "        # Train the model\n",
    "        model.fit(X_train_subset, y_train)\n",
    "\n",
    "        # Make predictions\n",
    "        y_pred = model.predict(X_test_subset)\n",
    "\n",
    "        # Calculate metrics\n",
    "        accuracy = accuracy_score(y_test, y_pred)\n",
    "        precision = precision_score(y_test, y_pred, average=\"weighted\")\n",
    "        recall = recall_score(y_test, y_pred, average=\"weighted\")\n",
    "        f1 = f1_score(y_test, y_pred, average=\"weighted\")\n",
    "\n",
    "        # Log parameters and metrics\n",
    "        mlflow.log_param(\"kernel\", kernel)\n",
    "        mlflow.log_param(\"C\", C)\n",
    "        mlflow.log_param(\"gamma\", gamma)\n",
    "        mlflow.log_param(\"features\", feature_subset)\n",
    "\n",
    "        mlflow.log_metric(\"accuracy\", accuracy)\n",
    "        mlflow.log_metric(\"precision\", precision)\n",
    "        mlflow.log_metric(\"recall\", recall)\n",
    "        mlflow.log_metric(\"f1_score\", f1)\n",
    "\n",
    "        # Log the model\n",
    "        mlflow.sklearn.log_model(model, \"model\")\n",
    "\n",
    "        print(\n",
    "            f\"Logged run: {run_name} with accuracy={accuracy}, precision={precision}, recall={recall}, f1_score={f1}\"\n",
    "        )"
   ]
  },
  {
   "cell_type": "code",
   "execution_count": 21,
   "id": "b1fc2e83",
   "metadata": {},
   "outputs": [
    {
     "data": {
      "text/plain": [
       "Index(['Age', 'Sex', 'Relationship Status', 'Occupation', 'Social Media User?',\n",
       "       'Time Spent', 'Q1', 'Q2', 'Q3', 'Q4', 'Q5', 'Q6', 'Q7', 'Q8',\n",
       "       'Difficulty_level', 'Facebook', 'Instagram', 'YouTube', 'Snapchat',\n",
       "       'Twitter', 'Discord', 'Reddit', 'Pinterest', 'TikTok'],\n",
       "      dtype='object')"
      ]
     },
     "execution_count": 21,
     "metadata": {},
     "output_type": "execute_result"
    }
   ],
   "source": [
    "train_df.columns"
   ]
  },
  {
   "cell_type": "code",
   "execution_count": 38,
   "id": "3985065f",
   "metadata": {},
   "outputs": [
    {
     "name": "stderr",
     "output_type": "stream",
     "text": [
      "C:\\Users\\ASUS\\anaconda3\\envs\\mycondaenv\\Lib\\site-packages\\sklearn\\metrics\\_classification.py:1517: UndefinedMetricWarning: Precision is ill-defined and being set to 0.0 in labels with no predicted samples. Use `zero_division` parameter to control this behavior.\n",
      "  _warn_prf(average, modifier, f\"{metric.capitalize()} is\", len(result))\n"
     ]
    },
    {
     "name": "stdout",
     "output_type": "stream",
     "text": [
      "Logged run: SVM_linear_C=0.1_gamma=scale_features=Age_Sex_Relationship Status_Occupation_Time Spent_Social Media User?_Q1_Q2_Q3_Q4_Q5_Q6_Q7_Q8_Facebook_Instagram_YouTube_Snapchat_Twitter_Discord_Reddit_Pinterest_TikTok with accuracy=0.7291666666666666, precision=0.6353383458646618, recall=0.7291666666666666, f1_score=0.6787941787941789\n"
     ]
    },
    {
     "name": "stderr",
     "output_type": "stream",
     "text": [
      "C:\\Users\\ASUS\\anaconda3\\envs\\mycondaenv\\Lib\\site-packages\\sklearn\\metrics\\_classification.py:1517: UndefinedMetricWarning: Precision is ill-defined and being set to 0.0 in labels with no predicted samples. Use `zero_division` parameter to control this behavior.\n",
      "  _warn_prf(average, modifier, f\"{metric.capitalize()} is\", len(result))\n"
     ]
    },
    {
     "name": "stdout",
     "output_type": "stream",
     "text": [
      "Logged run: SVM_linear_C=0.1_gamma=scale_features=Age_Relationship Status_Occupation_Time Spent_Social Media User?_Q1_Q2_Q3_Q4_Q5_Q6_Q7_Facebook_Instagram_YouTube_Snapchat_Twitter_Discord_Reddit_Pinterest_TikTok with accuracy=0.7395833333333334, precision=0.6434294871794872, recall=0.7395833333333334, f1_score=0.6875\n"
     ]
    },
    {
     "name": "stderr",
     "output_type": "stream",
     "text": [
      "C:\\Users\\ASUS\\anaconda3\\envs\\mycondaenv\\Lib\\site-packages\\sklearn\\metrics\\_classification.py:1517: UndefinedMetricWarning: Precision is ill-defined and being set to 0.0 in labels with no predicted samples. Use `zero_division` parameter to control this behavior.\n",
      "  _warn_prf(average, modifier, f\"{metric.capitalize()} is\", len(result))\n"
     ]
    },
    {
     "name": "stdout",
     "output_type": "stream",
     "text": [
      "Logged run: SVM_linear_C=0.1_gamma=scale_features=Age_Sex_Relationship Status_Time Spent_Social Media User?_Q1_Q2_Q3_Q4_Q5_Q6_Q7_Q8_Facebook_Instagram_YouTube_Snapchat_Twitter_Discord_Reddit_Pinterest_TikTok with accuracy=0.7395833333333334, precision=0.6434294871794872, recall=0.7395833333333334, f1_score=0.6875\n"
     ]
    },
    {
     "name": "stderr",
     "output_type": "stream",
     "text": [
      "C:\\Users\\ASUS\\anaconda3\\envs\\mycondaenv\\Lib\\site-packages\\sklearn\\metrics\\_classification.py:1517: UndefinedMetricWarning: Precision is ill-defined and being set to 0.0 in labels with no predicted samples. Use `zero_division` parameter to control this behavior.\n",
      "  _warn_prf(average, modifier, f\"{metric.capitalize()} is\", len(result))\n"
     ]
    },
    {
     "name": "stdout",
     "output_type": "stream",
     "text": [
      "Logged run: SVM_linear_C=0.1_gamma=auto_features=Age_Sex_Relationship Status_Occupation_Time Spent_Social Media User?_Q1_Q2_Q3_Q4_Q5_Q6_Q7_Q8_Facebook_Instagram_YouTube_Snapchat_Twitter_Discord_Reddit_Pinterest_TikTok with accuracy=0.7291666666666666, precision=0.6353383458646618, recall=0.7291666666666666, f1_score=0.6787941787941789\n"
     ]
    },
    {
     "name": "stderr",
     "output_type": "stream",
     "text": [
      "C:\\Users\\ASUS\\anaconda3\\envs\\mycondaenv\\Lib\\site-packages\\sklearn\\metrics\\_classification.py:1517: UndefinedMetricWarning: Precision is ill-defined and being set to 0.0 in labels with no predicted samples. Use `zero_division` parameter to control this behavior.\n",
      "  _warn_prf(average, modifier, f\"{metric.capitalize()} is\", len(result))\n"
     ]
    },
    {
     "name": "stdout",
     "output_type": "stream",
     "text": [
      "Logged run: SVM_linear_C=0.1_gamma=auto_features=Age_Relationship Status_Occupation_Time Spent_Social Media User?_Q1_Q2_Q3_Q4_Q5_Q6_Q7_Facebook_Instagram_YouTube_Snapchat_Twitter_Discord_Reddit_Pinterest_TikTok with accuracy=0.7395833333333334, precision=0.6434294871794872, recall=0.7395833333333334, f1_score=0.6875\n"
     ]
    },
    {
     "name": "stderr",
     "output_type": "stream",
     "text": [
      "C:\\Users\\ASUS\\anaconda3\\envs\\mycondaenv\\Lib\\site-packages\\sklearn\\metrics\\_classification.py:1517: UndefinedMetricWarning: Precision is ill-defined and being set to 0.0 in labels with no predicted samples. Use `zero_division` parameter to control this behavior.\n",
      "  _warn_prf(average, modifier, f\"{metric.capitalize()} is\", len(result))\n"
     ]
    },
    {
     "name": "stdout",
     "output_type": "stream",
     "text": [
      "Logged run: SVM_linear_C=0.1_gamma=auto_features=Age_Sex_Relationship Status_Time Spent_Social Media User?_Q1_Q2_Q3_Q4_Q5_Q6_Q7_Q8_Facebook_Instagram_YouTube_Snapchat_Twitter_Discord_Reddit_Pinterest_TikTok with accuracy=0.7395833333333334, precision=0.6434294871794872, recall=0.7395833333333334, f1_score=0.6875\n",
      "Logged run: SVM_linear_C=1_gamma=scale_features=Age_Sex_Relationship Status_Occupation_Time Spent_Social Media User?_Q1_Q2_Q3_Q4_Q5_Q6_Q7_Q8_Facebook_Instagram_YouTube_Snapchat_Twitter_Discord_Reddit_Pinterest_TikTok with accuracy=0.6979166666666666, precision=0.6237179487179487, recall=0.6979166666666666, f1_score=0.6560921717171717\n",
      "Logged run: SVM_linear_C=1_gamma=scale_features=Age_Relationship Status_Occupation_Time Spent_Social Media User?_Q1_Q2_Q3_Q4_Q5_Q6_Q7_Facebook_Instagram_YouTube_Snapchat_Twitter_Discord_Reddit_Pinterest_TikTok with accuracy=0.71875, precision=0.6766318369453045, recall=0.71875, f1_score=0.6854292421193829\n",
      "Logged run: SVM_linear_C=1_gamma=scale_features=Age_Sex_Relationship Status_Time Spent_Social Media User?_Q1_Q2_Q3_Q4_Q5_Q6_Q7_Q8_Facebook_Instagram_YouTube_Snapchat_Twitter_Discord_Reddit_Pinterest_TikTok with accuracy=0.7083333333333334, precision=0.6616071428571428, recall=0.7083333333333334, f1_score=0.6755900349650349\n",
      "Logged run: SVM_linear_C=1_gamma=auto_features=Age_Sex_Relationship Status_Occupation_Time Spent_Social Media User?_Q1_Q2_Q3_Q4_Q5_Q6_Q7_Q8_Facebook_Instagram_YouTube_Snapchat_Twitter_Discord_Reddit_Pinterest_TikTok with accuracy=0.6979166666666666, precision=0.6237179487179487, recall=0.6979166666666666, f1_score=0.6560921717171717\n",
      "Logged run: SVM_linear_C=1_gamma=auto_features=Age_Relationship Status_Occupation_Time Spent_Social Media User?_Q1_Q2_Q3_Q4_Q5_Q6_Q7_Facebook_Instagram_YouTube_Snapchat_Twitter_Discord_Reddit_Pinterest_TikTok with accuracy=0.71875, precision=0.6766318369453045, recall=0.71875, f1_score=0.6854292421193829\n",
      "Logged run: SVM_linear_C=1_gamma=auto_features=Age_Sex_Relationship Status_Time Spent_Social Media User?_Q1_Q2_Q3_Q4_Q5_Q6_Q7_Q8_Facebook_Instagram_YouTube_Snapchat_Twitter_Discord_Reddit_Pinterest_TikTok with accuracy=0.7083333333333334, precision=0.6616071428571428, recall=0.7083333333333334, f1_score=0.6755900349650349\n",
      "Logged run: SVM_linear_C=10_gamma=scale_features=Age_Sex_Relationship Status_Occupation_Time Spent_Social Media User?_Q1_Q2_Q3_Q4_Q5_Q6_Q7_Q8_Facebook_Instagram_YouTube_Snapchat_Twitter_Discord_Reddit_Pinterest_TikTok with accuracy=0.7083333333333334, precision=0.6259493670886075, recall=0.7083333333333334, f1_score=0.6617554858934169\n",
      "Logged run: SVM_linear_C=10_gamma=scale_features=Age_Relationship Status_Occupation_Time Spent_Social Media User?_Q1_Q2_Q3_Q4_Q5_Q6_Q7_Facebook_Instagram_YouTube_Snapchat_Twitter_Discord_Reddit_Pinterest_TikTok with accuracy=0.7083333333333334, precision=0.6281512605042017, recall=0.7083333333333334, f1_score=0.6648351648351648\n",
      "Logged run: SVM_linear_C=10_gamma=scale_features=Age_Sex_Relationship Status_Time Spent_Social Media User?_Q1_Q2_Q3_Q4_Q5_Q6_Q7_Q8_Facebook_Instagram_YouTube_Snapchat_Twitter_Discord_Reddit_Pinterest_TikTok with accuracy=0.7083333333333334, precision=0.6616071428571428, recall=0.7083333333333334, f1_score=0.6755900349650349\n",
      "Logged run: SVM_linear_C=10_gamma=auto_features=Age_Sex_Relationship Status_Occupation_Time Spent_Social Media User?_Q1_Q2_Q3_Q4_Q5_Q6_Q7_Q8_Facebook_Instagram_YouTube_Snapchat_Twitter_Discord_Reddit_Pinterest_TikTok with accuracy=0.7083333333333334, precision=0.6259493670886075, recall=0.7083333333333334, f1_score=0.6617554858934169\n",
      "Logged run: SVM_linear_C=10_gamma=auto_features=Age_Relationship Status_Occupation_Time Spent_Social Media User?_Q1_Q2_Q3_Q4_Q5_Q6_Q7_Facebook_Instagram_YouTube_Snapchat_Twitter_Discord_Reddit_Pinterest_TikTok with accuracy=0.7083333333333334, precision=0.6281512605042017, recall=0.7083333333333334, f1_score=0.6648351648351648\n",
      "Logged run: SVM_linear_C=10_gamma=auto_features=Age_Sex_Relationship Status_Time Spent_Social Media User?_Q1_Q2_Q3_Q4_Q5_Q6_Q7_Q8_Facebook_Instagram_YouTube_Snapchat_Twitter_Discord_Reddit_Pinterest_TikTok with accuracy=0.7083333333333334, precision=0.6616071428571428, recall=0.7083333333333334, f1_score=0.6755900349650349\n"
     ]
    },
    {
     "name": "stderr",
     "output_type": "stream",
     "text": [
      "C:\\Users\\ASUS\\anaconda3\\envs\\mycondaenv\\Lib\\site-packages\\sklearn\\metrics\\_classification.py:1517: UndefinedMetricWarning: Precision is ill-defined and being set to 0.0 in labels with no predicted samples. Use `zero_division` parameter to control this behavior.\n",
      "  _warn_prf(average, modifier, f\"{metric.capitalize()} is\", len(result))\n"
     ]
    },
    {
     "name": "stdout",
     "output_type": "stream",
     "text": [
      "Logged run: SVM_rbf_C=0.1_gamma=scale_features=Age_Sex_Relationship Status_Occupation_Time Spent_Social Media User?_Q1_Q2_Q3_Q4_Q5_Q6_Q7_Q8_Facebook_Instagram_YouTube_Snapchat_Twitter_Discord_Reddit_Pinterest_TikTok with accuracy=0.7083333333333334, precision=0.609375, recall=0.7083333333333334, f1_score=0.6346153846153846\n"
     ]
    },
    {
     "name": "stderr",
     "output_type": "stream",
     "text": [
      "C:\\Users\\ASUS\\anaconda3\\envs\\mycondaenv\\Lib\\site-packages\\sklearn\\metrics\\_classification.py:1517: UndefinedMetricWarning: Precision is ill-defined and being set to 0.0 in labels with no predicted samples. Use `zero_division` parameter to control this behavior.\n",
      "  _warn_prf(average, modifier, f\"{metric.capitalize()} is\", len(result))\n"
     ]
    },
    {
     "name": "stdout",
     "output_type": "stream",
     "text": [
      "Logged run: SVM_rbf_C=0.1_gamma=scale_features=Age_Relationship Status_Occupation_Time Spent_Social Media User?_Q1_Q2_Q3_Q4_Q5_Q6_Q7_Facebook_Instagram_YouTube_Snapchat_Twitter_Discord_Reddit_Pinterest_TikTok with accuracy=0.7083333333333334, precision=0.609375, recall=0.7083333333333334, f1_score=0.6346153846153846\n"
     ]
    },
    {
     "name": "stderr",
     "output_type": "stream",
     "text": [
      "C:\\Users\\ASUS\\anaconda3\\envs\\mycondaenv\\Lib\\site-packages\\sklearn\\metrics\\_classification.py:1517: UndefinedMetricWarning: Precision is ill-defined and being set to 0.0 in labels with no predicted samples. Use `zero_division` parameter to control this behavior.\n",
      "  _warn_prf(average, modifier, f\"{metric.capitalize()} is\", len(result))\n"
     ]
    },
    {
     "name": "stdout",
     "output_type": "stream",
     "text": [
      "Logged run: SVM_rbf_C=0.1_gamma=scale_features=Age_Sex_Relationship Status_Time Spent_Social Media User?_Q1_Q2_Q3_Q4_Q5_Q6_Q7_Q8_Facebook_Instagram_YouTube_Snapchat_Twitter_Discord_Reddit_Pinterest_TikTok with accuracy=0.7083333333333334, precision=0.609375, recall=0.7083333333333334, f1_score=0.6346153846153846\n"
     ]
    },
    {
     "name": "stderr",
     "output_type": "stream",
     "text": [
      "C:\\Users\\ASUS\\anaconda3\\envs\\mycondaenv\\Lib\\site-packages\\sklearn\\metrics\\_classification.py:1517: UndefinedMetricWarning: Precision is ill-defined and being set to 0.0 in labels with no predicted samples. Use `zero_division` parameter to control this behavior.\n",
      "  _warn_prf(average, modifier, f\"{metric.capitalize()} is\", len(result))\n"
     ]
    },
    {
     "name": "stdout",
     "output_type": "stream",
     "text": [
      "Logged run: SVM_rbf_C=0.1_gamma=auto_features=Age_Sex_Relationship Status_Occupation_Time Spent_Social Media User?_Q1_Q2_Q3_Q4_Q5_Q6_Q7_Q8_Facebook_Instagram_YouTube_Snapchat_Twitter_Discord_Reddit_Pinterest_TikTok with accuracy=0.6875, precision=0.47265625, recall=0.6875, f1_score=0.5601851851851851\n"
     ]
    },
    {
     "name": "stderr",
     "output_type": "stream",
     "text": [
      "C:\\Users\\ASUS\\anaconda3\\envs\\mycondaenv\\Lib\\site-packages\\sklearn\\metrics\\_classification.py:1517: UndefinedMetricWarning: Precision is ill-defined and being set to 0.0 in labels with no predicted samples. Use `zero_division` parameter to control this behavior.\n",
      "  _warn_prf(average, modifier, f\"{metric.capitalize()} is\", len(result))\n"
     ]
    },
    {
     "name": "stdout",
     "output_type": "stream",
     "text": [
      "Logged run: SVM_rbf_C=0.1_gamma=auto_features=Age_Relationship Status_Occupation_Time Spent_Social Media User?_Q1_Q2_Q3_Q4_Q5_Q6_Q7_Facebook_Instagram_YouTube_Snapchat_Twitter_Discord_Reddit_Pinterest_TikTok with accuracy=0.6875, precision=0.47265625, recall=0.6875, f1_score=0.5601851851851851\n"
     ]
    },
    {
     "name": "stderr",
     "output_type": "stream",
     "text": [
      "C:\\Users\\ASUS\\anaconda3\\envs\\mycondaenv\\Lib\\site-packages\\sklearn\\metrics\\_classification.py:1517: UndefinedMetricWarning: Precision is ill-defined and being set to 0.0 in labels with no predicted samples. Use `zero_division` parameter to control this behavior.\n",
      "  _warn_prf(average, modifier, f\"{metric.capitalize()} is\", len(result))\n"
     ]
    },
    {
     "name": "stdout",
     "output_type": "stream",
     "text": [
      "Logged run: SVM_rbf_C=0.1_gamma=auto_features=Age_Sex_Relationship Status_Time Spent_Social Media User?_Q1_Q2_Q3_Q4_Q5_Q6_Q7_Q8_Facebook_Instagram_YouTube_Snapchat_Twitter_Discord_Reddit_Pinterest_TikTok with accuracy=0.6875, precision=0.47265625, recall=0.6875, f1_score=0.5601851851851851\n"
     ]
    },
    {
     "name": "stderr",
     "output_type": "stream",
     "text": [
      "C:\\Users\\ASUS\\anaconda3\\envs\\mycondaenv\\Lib\\site-packages\\sklearn\\metrics\\_classification.py:1517: UndefinedMetricWarning: Precision is ill-defined and being set to 0.0 in labels with no predicted samples. Use `zero_division` parameter to control this behavior.\n",
      "  _warn_prf(average, modifier, f\"{metric.capitalize()} is\", len(result))\n"
     ]
    },
    {
     "name": "stdout",
     "output_type": "stream",
     "text": [
      "Logged run: SVM_rbf_C=1_gamma=scale_features=Age_Sex_Relationship Status_Occupation_Time Spent_Social Media User?_Q1_Q2_Q3_Q4_Q5_Q6_Q7_Q8_Facebook_Instagram_YouTube_Snapchat_Twitter_Discord_Reddit_Pinterest_TikTok with accuracy=0.7395833333333334, precision=0.6433619091751621, recall=0.7395833333333334, f1_score=0.6810186187486469\n"
     ]
    },
    {
     "name": "stderr",
     "output_type": "stream",
     "text": [
      "C:\\Users\\ASUS\\anaconda3\\envs\\mycondaenv\\Lib\\site-packages\\sklearn\\metrics\\_classification.py:1517: UndefinedMetricWarning: Precision is ill-defined and being set to 0.0 in labels with no predicted samples. Use `zero_division` parameter to control this behavior.\n",
      "  _warn_prf(average, modifier, f\"{metric.capitalize()} is\", len(result))\n"
     ]
    },
    {
     "name": "stdout",
     "output_type": "stream",
     "text": [
      "Logged run: SVM_rbf_C=1_gamma=scale_features=Age_Relationship Status_Occupation_Time Spent_Social Media User?_Q1_Q2_Q3_Q4_Q5_Q6_Q7_Facebook_Instagram_YouTube_Snapchat_Twitter_Discord_Reddit_Pinterest_TikTok with accuracy=0.7395833333333334, precision=0.6433619091751621, recall=0.7395833333333334, f1_score=0.6810186187486469\n"
     ]
    },
    {
     "name": "stderr",
     "output_type": "stream",
     "text": [
      "C:\\Users\\ASUS\\anaconda3\\envs\\mycondaenv\\Lib\\site-packages\\sklearn\\metrics\\_classification.py:1517: UndefinedMetricWarning: Precision is ill-defined and being set to 0.0 in labels with no predicted samples. Use `zero_division` parameter to control this behavior.\n",
      "  _warn_prf(average, modifier, f\"{metric.capitalize()} is\", len(result))\n"
     ]
    },
    {
     "name": "stdout",
     "output_type": "stream",
     "text": [
      "Logged run: SVM_rbf_C=1_gamma=scale_features=Age_Sex_Relationship Status_Time Spent_Social Media User?_Q1_Q2_Q3_Q4_Q5_Q6_Q7_Q8_Facebook_Instagram_YouTube_Snapchat_Twitter_Discord_Reddit_Pinterest_TikTok with accuracy=0.7395833333333334, precision=0.6433619091751621, recall=0.7395833333333334, f1_score=0.6810186187486469\n"
     ]
    },
    {
     "name": "stderr",
     "output_type": "stream",
     "text": [
      "C:\\Users\\ASUS\\anaconda3\\envs\\mycondaenv\\Lib\\site-packages\\sklearn\\metrics\\_classification.py:1517: UndefinedMetricWarning: Precision is ill-defined and being set to 0.0 in labels with no predicted samples. Use `zero_division` parameter to control this behavior.\n",
      "  _warn_prf(average, modifier, f\"{metric.capitalize()} is\", len(result))\n"
     ]
    },
    {
     "name": "stdout",
     "output_type": "stream",
     "text": [
      "Logged run: SVM_rbf_C=1_gamma=auto_features=Age_Sex_Relationship Status_Occupation_Time Spent_Social Media User?_Q1_Q2_Q3_Q4_Q5_Q6_Q7_Q8_Facebook_Instagram_YouTube_Snapchat_Twitter_Discord_Reddit_Pinterest_TikTok with accuracy=0.7395833333333334, precision=0.64140625, recall=0.7395833333333334, f1_score=0.6847804190169219\n"
     ]
    },
    {
     "name": "stderr",
     "output_type": "stream",
     "text": [
      "C:\\Users\\ASUS\\anaconda3\\envs\\mycondaenv\\Lib\\site-packages\\sklearn\\metrics\\_classification.py:1517: UndefinedMetricWarning: Precision is ill-defined and being set to 0.0 in labels with no predicted samples. Use `zero_division` parameter to control this behavior.\n",
      "  _warn_prf(average, modifier, f\"{metric.capitalize()} is\", len(result))\n"
     ]
    },
    {
     "name": "stdout",
     "output_type": "stream",
     "text": [
      "Logged run: SVM_rbf_C=1_gamma=auto_features=Age_Relationship Status_Occupation_Time Spent_Social Media User?_Q1_Q2_Q3_Q4_Q5_Q6_Q7_Facebook_Instagram_YouTube_Snapchat_Twitter_Discord_Reddit_Pinterest_TikTok with accuracy=0.7604166666666666, precision=0.6621297909407665, recall=0.7604166666666666, f1_score=0.7024915540540541\n"
     ]
    },
    {
     "name": "stderr",
     "output_type": "stream",
     "text": [
      "C:\\Users\\ASUS\\anaconda3\\envs\\mycondaenv\\Lib\\site-packages\\sklearn\\metrics\\_classification.py:1517: UndefinedMetricWarning: Precision is ill-defined and being set to 0.0 in labels with no predicted samples. Use `zero_division` parameter to control this behavior.\n",
      "  _warn_prf(average, modifier, f\"{metric.capitalize()} is\", len(result))\n"
     ]
    },
    {
     "name": "stdout",
     "output_type": "stream",
     "text": [
      "Logged run: SVM_rbf_C=1_gamma=auto_features=Age_Sex_Relationship Status_Time Spent_Social Media User?_Q1_Q2_Q3_Q4_Q5_Q6_Q7_Q8_Facebook_Instagram_YouTube_Snapchat_Twitter_Discord_Reddit_Pinterest_TikTok with accuracy=0.7395833333333334, precision=0.64140625, recall=0.7395833333333334, f1_score=0.6847804190169219\n"
     ]
    },
    {
     "name": "stderr",
     "output_type": "stream",
     "text": [
      "C:\\Users\\ASUS\\anaconda3\\envs\\mycondaenv\\Lib\\site-packages\\sklearn\\metrics\\_classification.py:1517: UndefinedMetricWarning: Precision is ill-defined and being set to 0.0 in labels with no predicted samples. Use `zero_division` parameter to control this behavior.\n",
      "  _warn_prf(average, modifier, f\"{metric.capitalize()} is\", len(result))\n"
     ]
    },
    {
     "name": "stdout",
     "output_type": "stream",
     "text": [
      "Logged run: SVM_rbf_C=10_gamma=scale_features=Age_Sex_Relationship Status_Occupation_Time Spent_Social Media User?_Q1_Q2_Q3_Q4_Q5_Q6_Q7_Q8_Facebook_Instagram_YouTube_Snapchat_Twitter_Discord_Reddit_Pinterest_TikTok with accuracy=0.7395833333333334, precision=0.6434294871794872, recall=0.7395833333333334, f1_score=0.6875\n"
     ]
    },
    {
     "name": "stderr",
     "output_type": "stream",
     "text": [
      "C:\\Users\\ASUS\\anaconda3\\envs\\mycondaenv\\Lib\\site-packages\\sklearn\\metrics\\_classification.py:1517: UndefinedMetricWarning: Precision is ill-defined and being set to 0.0 in labels with no predicted samples. Use `zero_division` parameter to control this behavior.\n",
      "  _warn_prf(average, modifier, f\"{metric.capitalize()} is\", len(result))\n"
     ]
    },
    {
     "name": "stdout",
     "output_type": "stream",
     "text": [
      "Logged run: SVM_rbf_C=10_gamma=scale_features=Age_Relationship Status_Occupation_Time Spent_Social Media User?_Q1_Q2_Q3_Q4_Q5_Q6_Q7_Facebook_Instagram_YouTube_Snapchat_Twitter_Discord_Reddit_Pinterest_TikTok with accuracy=0.7708333333333334, precision=0.67435125115848, recall=0.7708333333333334, f1_score=0.7115717687811215\n"
     ]
    },
    {
     "name": "stderr",
     "output_type": "stream",
     "text": [
      "C:\\Users\\ASUS\\anaconda3\\envs\\mycondaenv\\Lib\\site-packages\\sklearn\\metrics\\_classification.py:1517: UndefinedMetricWarning: Precision is ill-defined and being set to 0.0 in labels with no predicted samples. Use `zero_division` parameter to control this behavior.\n",
      "  _warn_prf(average, modifier, f\"{metric.capitalize()} is\", len(result))\n"
     ]
    },
    {
     "name": "stdout",
     "output_type": "stream",
     "text": [
      "Logged run: SVM_rbf_C=10_gamma=scale_features=Age_Sex_Relationship Status_Time Spent_Social Media User?_Q1_Q2_Q3_Q4_Q5_Q6_Q7_Q8_Facebook_Instagram_YouTube_Snapchat_Twitter_Discord_Reddit_Pinterest_TikTok with accuracy=0.7395833333333334, precision=0.6434294871794872, recall=0.7395833333333334, f1_score=0.6875\n",
      "Logged run: SVM_rbf_C=10_gamma=auto_features=Age_Sex_Relationship Status_Occupation_Time Spent_Social Media User?_Q1_Q2_Q3_Q4_Q5_Q6_Q7_Q8_Facebook_Instagram_YouTube_Snapchat_Twitter_Discord_Reddit_Pinterest_TikTok with accuracy=0.6979166666666666, precision=0.6912600267379679, recall=0.6979166666666666, f1_score=0.6943091220914063\n",
      "Logged run: SVM_rbf_C=10_gamma=auto_features=Age_Relationship Status_Occupation_Time Spent_Social Media User?_Q1_Q2_Q3_Q4_Q5_Q6_Q7_Facebook_Instagram_YouTube_Snapchat_Twitter_Discord_Reddit_Pinterest_TikTok with accuracy=0.65625, precision=0.6519021739130434, recall=0.65625, f1_score=0.6529671717171718\n",
      "Logged run: SVM_rbf_C=10_gamma=auto_features=Age_Sex_Relationship Status_Time Spent_Social Media User?_Q1_Q2_Q3_Q4_Q5_Q6_Q7_Q8_Facebook_Instagram_YouTube_Snapchat_Twitter_Discord_Reddit_Pinterest_TikTok with accuracy=0.6875, precision=0.6678526017214398, recall=0.6875, f1_score=0.6760744443762907\n"
     ]
    },
    {
     "name": "stderr",
     "output_type": "stream",
     "text": [
      "C:\\Users\\ASUS\\anaconda3\\envs\\mycondaenv\\Lib\\site-packages\\sklearn\\metrics\\_classification.py:1517: UndefinedMetricWarning: Precision is ill-defined and being set to 0.0 in labels with no predicted samples. Use `zero_division` parameter to control this behavior.\n",
      "  _warn_prf(average, modifier, f\"{metric.capitalize()} is\", len(result))\n"
     ]
    },
    {
     "name": "stdout",
     "output_type": "stream",
     "text": [
      "Logged run: SVM_poly_C=0.1_gamma=scale_features=Age_Sex_Relationship Status_Occupation_Time Spent_Social Media User?_Q1_Q2_Q3_Q4_Q5_Q6_Q7_Q8_Facebook_Instagram_YouTube_Snapchat_Twitter_Discord_Reddit_Pinterest_TikTok with accuracy=0.7083333333333334, precision=0.609375, recall=0.7083333333333334, f1_score=0.6346153846153846\n"
     ]
    },
    {
     "name": "stderr",
     "output_type": "stream",
     "text": [
      "C:\\Users\\ASUS\\anaconda3\\envs\\mycondaenv\\Lib\\site-packages\\sklearn\\metrics\\_classification.py:1517: UndefinedMetricWarning: Precision is ill-defined and being set to 0.0 in labels with no predicted samples. Use `zero_division` parameter to control this behavior.\n",
      "  _warn_prf(average, modifier, f\"{metric.capitalize()} is\", len(result))\n"
     ]
    },
    {
     "name": "stdout",
     "output_type": "stream",
     "text": [
      "Logged run: SVM_poly_C=0.1_gamma=scale_features=Age_Relationship Status_Occupation_Time Spent_Social Media User?_Q1_Q2_Q3_Q4_Q5_Q6_Q7_Facebook_Instagram_YouTube_Snapchat_Twitter_Discord_Reddit_Pinterest_TikTok with accuracy=0.7083333333333334, precision=0.609375, recall=0.7083333333333334, f1_score=0.6346153846153846\n"
     ]
    },
    {
     "name": "stderr",
     "output_type": "stream",
     "text": [
      "C:\\Users\\ASUS\\anaconda3\\envs\\mycondaenv\\Lib\\site-packages\\sklearn\\metrics\\_classification.py:1517: UndefinedMetricWarning: Precision is ill-defined and being set to 0.0 in labels with no predicted samples. Use `zero_division` parameter to control this behavior.\n",
      "  _warn_prf(average, modifier, f\"{metric.capitalize()} is\", len(result))\n"
     ]
    },
    {
     "name": "stdout",
     "output_type": "stream",
     "text": [
      "Logged run: SVM_poly_C=0.1_gamma=scale_features=Age_Sex_Relationship Status_Time Spent_Social Media User?_Q1_Q2_Q3_Q4_Q5_Q6_Q7_Q8_Facebook_Instagram_YouTube_Snapchat_Twitter_Discord_Reddit_Pinterest_TikTok with accuracy=0.7083333333333334, precision=0.609375, recall=0.7083333333333334, f1_score=0.6346153846153846\n",
      "Logged run: SVM_poly_C=0.1_gamma=auto_features=Age_Sex_Relationship Status_Occupation_Time Spent_Social Media User?_Q1_Q2_Q3_Q4_Q5_Q6_Q7_Q8_Facebook_Instagram_YouTube_Snapchat_Twitter_Discord_Reddit_Pinterest_TikTok with accuracy=0.59375, precision=0.575, recall=0.59375, f1_score=0.5836397058823529\n",
      "Logged run: SVM_poly_C=0.1_gamma=auto_features=Age_Relationship Status_Occupation_Time Spent_Social Media User?_Q1_Q2_Q3_Q4_Q5_Q6_Q7_Facebook_Instagram_YouTube_Snapchat_Twitter_Discord_Reddit_Pinterest_TikTok with accuracy=0.59375, precision=0.6011904761904762, recall=0.59375, f1_score=0.5970493966817496\n",
      "Logged run: SVM_poly_C=0.1_gamma=auto_features=Age_Sex_Relationship Status_Time Spent_Social Media User?_Q1_Q2_Q3_Q4_Q5_Q6_Q7_Q8_Facebook_Instagram_YouTube_Snapchat_Twitter_Discord_Reddit_Pinterest_TikTok with accuracy=0.6041666666666666, precision=0.5933382740447958, recall=0.6041666666666666, f1_score=0.5981789334091124\n"
     ]
    },
    {
     "name": "stderr",
     "output_type": "stream",
     "text": [
      "C:\\Users\\ASUS\\anaconda3\\envs\\mycondaenv\\Lib\\site-packages\\sklearn\\metrics\\_classification.py:1517: UndefinedMetricWarning: Precision is ill-defined and being set to 0.0 in labels with no predicted samples. Use `zero_division` parameter to control this behavior.\n",
      "  _warn_prf(average, modifier, f\"{metric.capitalize()} is\", len(result))\n"
     ]
    },
    {
     "name": "stdout",
     "output_type": "stream",
     "text": [
      "Logged run: SVM_poly_C=1_gamma=scale_features=Age_Sex_Relationship Status_Occupation_Time Spent_Social Media User?_Q1_Q2_Q3_Q4_Q5_Q6_Q7_Q8_Facebook_Instagram_YouTube_Snapchat_Twitter_Discord_Reddit_Pinterest_TikTok with accuracy=0.71875, precision=0.6283105939004816, recall=0.71875, f1_score=0.6427419354838709\n"
     ]
    },
    {
     "name": "stderr",
     "output_type": "stream",
     "text": [
      "C:\\Users\\ASUS\\anaconda3\\envs\\mycondaenv\\Lib\\site-packages\\sklearn\\metrics\\_classification.py:1517: UndefinedMetricWarning: Precision is ill-defined and being set to 0.0 in labels with no predicted samples. Use `zero_division` parameter to control this behavior.\n",
      "  _warn_prf(average, modifier, f\"{metric.capitalize()} is\", len(result))\n"
     ]
    },
    {
     "name": "stdout",
     "output_type": "stream",
     "text": [
      "Logged run: SVM_poly_C=1_gamma=scale_features=Age_Relationship Status_Occupation_Time Spent_Social Media User?_Q1_Q2_Q3_Q4_Q5_Q6_Q7_Facebook_Instagram_YouTube_Snapchat_Twitter_Discord_Reddit_Pinterest_TikTok with accuracy=0.7083333333333334, precision=0.6138888888888889, recall=0.7083333333333334, f1_score=0.6266025641025641\n"
     ]
    },
    {
     "name": "stderr",
     "output_type": "stream",
     "text": [
      "C:\\Users\\ASUS\\anaconda3\\envs\\mycondaenv\\Lib\\site-packages\\sklearn\\metrics\\_classification.py:1517: UndefinedMetricWarning: Precision is ill-defined and being set to 0.0 in labels with no predicted samples. Use `zero_division` parameter to control this behavior.\n",
      "  _warn_prf(average, modifier, f\"{metric.capitalize()} is\", len(result))\n"
     ]
    },
    {
     "name": "stdout",
     "output_type": "stream",
     "text": [
      "Logged run: SVM_poly_C=1_gamma=scale_features=Age_Sex_Relationship Status_Time Spent_Social Media User?_Q1_Q2_Q3_Q4_Q5_Q6_Q7_Q8_Facebook_Instagram_YouTube_Snapchat_Twitter_Discord_Reddit_Pinterest_TikTok with accuracy=0.71875, precision=0.6283105939004816, recall=0.71875, f1_score=0.6427419354838709\n",
      "Logged run: SVM_poly_C=1_gamma=auto_features=Age_Sex_Relationship Status_Occupation_Time Spent_Social Media User?_Q1_Q2_Q3_Q4_Q5_Q6_Q7_Q8_Facebook_Instagram_YouTube_Snapchat_Twitter_Discord_Reddit_Pinterest_TikTok with accuracy=0.46875, precision=0.5240942028985507, recall=0.46875, f1_score=0.4911862527716186\n",
      "Logged run: SVM_poly_C=1_gamma=auto_features=Age_Relationship Status_Occupation_Time Spent_Social Media User?_Q1_Q2_Q3_Q4_Q5_Q6_Q7_Facebook_Instagram_YouTube_Snapchat_Twitter_Discord_Reddit_Pinterest_TikTok with accuracy=0.5520833333333334, precision=0.5916126620139581, recall=0.5520833333333334, f1_score=0.56825\n",
      "Logged run: SVM_poly_C=1_gamma=auto_features=Age_Sex_Relationship Status_Time Spent_Social Media User?_Q1_Q2_Q3_Q4_Q5_Q6_Q7_Q8_Facebook_Instagram_YouTube_Snapchat_Twitter_Discord_Reddit_Pinterest_TikTok with accuracy=0.5, precision=0.5597225670307845, recall=0.5, f1_score=0.5214150176199513\n"
     ]
    },
    {
     "name": "stderr",
     "output_type": "stream",
     "text": [
      "C:\\Users\\ASUS\\anaconda3\\envs\\mycondaenv\\Lib\\site-packages\\sklearn\\metrics\\_classification.py:1517: UndefinedMetricWarning: Precision is ill-defined and being set to 0.0 in labels with no predicted samples. Use `zero_division` parameter to control this behavior.\n",
      "  _warn_prf(average, modifier, f\"{metric.capitalize()} is\", len(result))\n"
     ]
    },
    {
     "name": "stdout",
     "output_type": "stream",
     "text": [
      "Logged run: SVM_poly_C=10_gamma=scale_features=Age_Sex_Relationship Status_Occupation_Time Spent_Social Media User?_Q1_Q2_Q3_Q4_Q5_Q6_Q7_Q8_Facebook_Instagram_YouTube_Snapchat_Twitter_Discord_Reddit_Pinterest_TikTok with accuracy=0.7395833333333334, precision=0.64140625, recall=0.7395833333333334, f1_score=0.6847804190169219\n"
     ]
    },
    {
     "name": "stderr",
     "output_type": "stream",
     "text": [
      "C:\\Users\\ASUS\\anaconda3\\envs\\mycondaenv\\Lib\\site-packages\\sklearn\\metrics\\_classification.py:1517: UndefinedMetricWarning: Precision is ill-defined and being set to 0.0 in labels with no predicted samples. Use `zero_division` parameter to control this behavior.\n",
      "  _warn_prf(average, modifier, f\"{metric.capitalize()} is\", len(result))\n"
     ]
    },
    {
     "name": "stdout",
     "output_type": "stream",
     "text": [
      "Logged run: SVM_poly_C=10_gamma=scale_features=Age_Relationship Status_Occupation_Time Spent_Social Media User?_Q1_Q2_Q3_Q4_Q5_Q6_Q7_Facebook_Instagram_YouTube_Snapchat_Twitter_Discord_Reddit_Pinterest_TikTok with accuracy=0.7395833333333334, precision=0.64140625, recall=0.7395833333333334, f1_score=0.6847804190169219\n"
     ]
    },
    {
     "name": "stderr",
     "output_type": "stream",
     "text": [
      "C:\\Users\\ASUS\\anaconda3\\envs\\mycondaenv\\Lib\\site-packages\\sklearn\\metrics\\_classification.py:1517: UndefinedMetricWarning: Precision is ill-defined and being set to 0.0 in labels with no predicted samples. Use `zero_division` parameter to control this behavior.\n",
      "  _warn_prf(average, modifier, f\"{metric.capitalize()} is\", len(result))\n"
     ]
    },
    {
     "name": "stdout",
     "output_type": "stream",
     "text": [
      "Logged run: SVM_poly_C=10_gamma=scale_features=Age_Sex_Relationship Status_Time Spent_Social Media User?_Q1_Q2_Q3_Q4_Q5_Q6_Q7_Q8_Facebook_Instagram_YouTube_Snapchat_Twitter_Discord_Reddit_Pinterest_TikTok with accuracy=0.7291666666666666, precision=0.6324460163812361, recall=0.7291666666666666, f1_score=0.6761083743842363\n",
      "Logged run: SVM_poly_C=10_gamma=auto_features=Age_Sex_Relationship Status_Occupation_Time Spent_Social Media User?_Q1_Q2_Q3_Q4_Q5_Q6_Q7_Q8_Facebook_Instagram_YouTube_Snapchat_Twitter_Discord_Reddit_Pinterest_TikTok with accuracy=0.4895833333333333, precision=0.5368303571428571, recall=0.4895833333333333, f1_score=0.5086358313817331\n",
      "Logged run: SVM_poly_C=10_gamma=auto_features=Age_Relationship Status_Occupation_Time Spent_Social Media User?_Q1_Q2_Q3_Q4_Q5_Q6_Q7_Facebook_Instagram_YouTube_Snapchat_Twitter_Discord_Reddit_Pinterest_TikTok with accuracy=0.5416666666666666, precision=0.5835883994746224, recall=0.5416666666666666, f1_score=0.5584410919540229\n",
      "Logged run: SVM_poly_C=10_gamma=auto_features=Age_Sex_Relationship Status_Time Spent_Social Media User?_Q1_Q2_Q3_Q4_Q5_Q6_Q7_Q8_Facebook_Instagram_YouTube_Snapchat_Twitter_Discord_Reddit_Pinterest_TikTok with accuracy=0.5208333333333334, precision=0.5801700034150089, recall=0.5208333333333334, f1_score=0.5418381694370539\n"
     ]
    }
   ],
   "source": [
    "kernels = [\"linear\", \"rbf\", \"poly\"]\n",
    "C_values = [0.1, 1, 10]\n",
    "gamma_values = [\"scale\", \"auto\"]\n",
    "feature_combinations = [\n",
    "    [\n",
    "        \"Age\",\n",
    "        \"Sex\",\n",
    "        \"Relationship Status\",\n",
    "        \"Occupation\",\n",
    "        \"Time Spent\",\n",
    "        \"Social Media User?\",\n",
    "        \"Q1\",\n",
    "        \"Q2\",\n",
    "        \"Q3\",\n",
    "        \"Q4\",\n",
    "        \"Q5\",\n",
    "        \"Q6\",\n",
    "        \"Q7\",\n",
    "        \"Q8\",\n",
    "        \"Facebook\",\n",
    "        \"Instagram\",\n",
    "        \"YouTube\",\n",
    "        \"Snapchat\",\n",
    "        \"Twitter\",\n",
    "        \"Discord\",\n",
    "        \"Reddit\",\n",
    "        \"Pinterest\",\n",
    "        \"TikTok\",\n",
    "    ],\n",
    "    [\n",
    "        \"Age\",\n",
    "        \"Relationship Status\",\n",
    "        \"Occupation\",\n",
    "        \"Time Spent\",\n",
    "        \"Social Media User?\",\n",
    "        \"Q1\",\n",
    "        \"Q2\",\n",
    "        \"Q3\",\n",
    "        \"Q4\",\n",
    "        \"Q5\",\n",
    "        \"Q6\",\n",
    "        \"Q7\",\n",
    "        \"Facebook\",\n",
    "        \"Instagram\",\n",
    "        \"YouTube\",\n",
    "        \"Snapchat\",\n",
    "        \"Twitter\",\n",
    "        \"Discord\",\n",
    "        \"Reddit\",\n",
    "        \"Pinterest\",\n",
    "        \"TikTok\",\n",
    "    ],\n",
    "    [\n",
    "        \"Age\",\n",
    "        \"Sex\",\n",
    "        \"Relationship Status\",\n",
    "      \n",
    "        \"Time Spent\",\n",
    "        \"Social Media User?\",\n",
    "        \"Q1\",\n",
    "        \"Q2\",\n",
    "        \"Q3\",\n",
    "        \"Q4\",\n",
    "        \"Q5\",\n",
    "        \"Q6\",\n",
    "        \"Q7\",\n",
    "        \"Q8\",\n",
    "        \"Facebook\",\n",
    "        \"Instagram\",\n",
    "        \"YouTube\",\n",
    "        \"Snapchat\",\n",
    "        \"Twitter\",\n",
    "        \"Discord\",\n",
    "        \"Reddit\",\n",
    "        \"Pinterest\",\n",
    "        \"TikTok\",\n",
    "    ],\n",
    "    # Add more feature combinations as needed\n",
    "]\n",
    "\n",
    "for kernel in kernels:\n",
    "    for C in C_values:\n",
    "        for gamma in gamma_values:\n",
    "            for feature_subset in feature_combinations:\n",
    "                train_and_log_model(kernel, C, gamma, feature_subset)"
   ]
  },
  {
   "cell_type": "code",
   "execution_count": 39,
   "id": "291642af",
   "metadata": {},
   "outputs": [],
   "source": [
    "def train_and_log_model(kernel, C, gamma, feature_subset):\n",
    "    # Select the subset of features\n",
    "    X_train_subset = X_train[feature_subset]\n",
    "    X_test_subset = X_test[feature_subset]\n",
    "\n",
    "    # Initialize the SVM model with parameters\n",
    "    model = SVC(kernel=kernel, C=C, gamma=gamma)\n",
    "\n",
    "    # Create a unique run name\n",
    "    run_name = f\"SVM_{kernel}_C={C}_gamma={gamma}_features={'_'.join(feature_subset)}\"\n",
    "\n",
    "    # Print the run details for debugging\n",
    "    print(f\"Starting run: {run_name}\")\n",
    "\n",
    "    # Start an MLFlow run\n",
    "    with mlflow.start_run(run_name=run_name):\n",
    "        # Train the model\n",
    "        model.fit(X_train_subset, y_train)\n",
    "\n",
    "        # Make predictions\n",
    "        y_pred = model.predict(X_test_subset)\n",
    "\n",
    "        # Calculate metrics\n",
    "        accuracy = accuracy_score(y_test, y_pred)\n",
    "        precision = precision_score(y_test, y_pred, average=\"weighted\")\n",
    "        recall = recall_score(y_test, y_pred, average=\"weighted\")\n",
    "        f1 = f1_score(y_test, y_pred, average=\"weighted\")\n",
    "\n",
    "        # Log parameters and metrics\n",
    "        mlflow.log_param(\"kernel\", kernel)\n",
    "        mlflow.log_param(\"C\", C)\n",
    "        mlflow.log_param(\"gamma\", gamma)\n",
    "        mlflow.log_param(\"features\", feature_subset)\n",
    "\n",
    "        mlflow.log_metric(\"accuracy\", accuracy)\n",
    "        mlflow.log_metric(\"precision\", precision)\n",
    "        mlflow.log_metric(\"recall\", recall)\n",
    "        mlflow.log_metric(\"f1_score\", f1)\n",
    "\n",
    "        # Log the model\n",
    "        mlflow.sklearn.log_model(model, \"model\")\n",
    "\n",
    "        # Print the metrics for debugging\n",
    "        print(\n",
    "            f\"Logged run: {run_name} with accuracy={accuracy}, precision={precision}, recall={recall}, f1_score={f1}\"\n",
    "        )"
   ]
  },
  {
   "cell_type": "code",
   "execution_count": 40,
   "id": "4b2c8b41",
   "metadata": {},
   "outputs": [
    {
     "name": "stdout",
     "output_type": "stream",
     "text": [
      "Starting run: SVM_linear_C=0.1_gamma=scale_features=Age_Sex_Relationship Status_Occupation_Time Spent_Social Media User?_Q1_Q2_Q3_Q4_Q5_Q6_Q7_Q8_Facebook_Instagram_YouTube_Snapchat_Twitter_Discord_Reddit_Pinterest_TikTok\n"
     ]
    },
    {
     "name": "stderr",
     "output_type": "stream",
     "text": [
      "C:\\Users\\ASUS\\anaconda3\\envs\\mycondaenv\\Lib\\site-packages\\sklearn\\metrics\\_classification.py:1517: UndefinedMetricWarning: Precision is ill-defined and being set to 0.0 in labels with no predicted samples. Use `zero_division` parameter to control this behavior.\n",
      "  _warn_prf(average, modifier, f\"{metric.capitalize()} is\", len(result))\n"
     ]
    },
    {
     "name": "stdout",
     "output_type": "stream",
     "text": [
      "Logged run: SVM_linear_C=0.1_gamma=scale_features=Age_Sex_Relationship Status_Occupation_Time Spent_Social Media User?_Q1_Q2_Q3_Q4_Q5_Q6_Q7_Q8_Facebook_Instagram_YouTube_Snapchat_Twitter_Discord_Reddit_Pinterest_TikTok with accuracy=0.7291666666666666, precision=0.6353383458646618, recall=0.7291666666666666, f1_score=0.6787941787941789\n",
      "Starting run: SVM_linear_C=0.1_gamma=scale_features=Age_Relationship Status_Occupation_Time Spent_Social Media User?_Q1_Q2_Q3_Q4_Q5_Q6_Q7_Facebook_Instagram_YouTube_Snapchat_Twitter_Discord_Reddit_Pinterest_TikTok\n"
     ]
    },
    {
     "name": "stderr",
     "output_type": "stream",
     "text": [
      "C:\\Users\\ASUS\\anaconda3\\envs\\mycondaenv\\Lib\\site-packages\\sklearn\\metrics\\_classification.py:1517: UndefinedMetricWarning: Precision is ill-defined and being set to 0.0 in labels with no predicted samples. Use `zero_division` parameter to control this behavior.\n",
      "  _warn_prf(average, modifier, f\"{metric.capitalize()} is\", len(result))\n"
     ]
    },
    {
     "name": "stdout",
     "output_type": "stream",
     "text": [
      "Logged run: SVM_linear_C=0.1_gamma=scale_features=Age_Relationship Status_Occupation_Time Spent_Social Media User?_Q1_Q2_Q3_Q4_Q5_Q6_Q7_Facebook_Instagram_YouTube_Snapchat_Twitter_Discord_Reddit_Pinterest_TikTok with accuracy=0.7395833333333334, precision=0.6434294871794872, recall=0.7395833333333334, f1_score=0.6875\n",
      "Starting run: SVM_linear_C=0.1_gamma=scale_features=Age_Sex_Relationship Status_Time Spent_Social Media User?_Q1_Q2_Q3_Q4_Q5_Q6_Q7_Q8_Facebook_Instagram_YouTube_Snapchat_Twitter_Discord_Reddit_Pinterest_TikTok\n"
     ]
    },
    {
     "name": "stderr",
     "output_type": "stream",
     "text": [
      "C:\\Users\\ASUS\\anaconda3\\envs\\mycondaenv\\Lib\\site-packages\\sklearn\\metrics\\_classification.py:1517: UndefinedMetricWarning: Precision is ill-defined and being set to 0.0 in labels with no predicted samples. Use `zero_division` parameter to control this behavior.\n",
      "  _warn_prf(average, modifier, f\"{metric.capitalize()} is\", len(result))\n"
     ]
    },
    {
     "name": "stdout",
     "output_type": "stream",
     "text": [
      "Logged run: SVM_linear_C=0.1_gamma=scale_features=Age_Sex_Relationship Status_Time Spent_Social Media User?_Q1_Q2_Q3_Q4_Q5_Q6_Q7_Q8_Facebook_Instagram_YouTube_Snapchat_Twitter_Discord_Reddit_Pinterest_TikTok with accuracy=0.7395833333333334, precision=0.6434294871794872, recall=0.7395833333333334, f1_score=0.6875\n",
      "Starting run: SVM_linear_C=0.1_gamma=auto_features=Age_Sex_Relationship Status_Occupation_Time Spent_Social Media User?_Q1_Q2_Q3_Q4_Q5_Q6_Q7_Q8_Facebook_Instagram_YouTube_Snapchat_Twitter_Discord_Reddit_Pinterest_TikTok\n"
     ]
    },
    {
     "name": "stderr",
     "output_type": "stream",
     "text": [
      "C:\\Users\\ASUS\\anaconda3\\envs\\mycondaenv\\Lib\\site-packages\\sklearn\\metrics\\_classification.py:1517: UndefinedMetricWarning: Precision is ill-defined and being set to 0.0 in labels with no predicted samples. Use `zero_division` parameter to control this behavior.\n",
      "  _warn_prf(average, modifier, f\"{metric.capitalize()} is\", len(result))\n"
     ]
    },
    {
     "name": "stdout",
     "output_type": "stream",
     "text": [
      "Logged run: SVM_linear_C=0.1_gamma=auto_features=Age_Sex_Relationship Status_Occupation_Time Spent_Social Media User?_Q1_Q2_Q3_Q4_Q5_Q6_Q7_Q8_Facebook_Instagram_YouTube_Snapchat_Twitter_Discord_Reddit_Pinterest_TikTok with accuracy=0.7291666666666666, precision=0.6353383458646618, recall=0.7291666666666666, f1_score=0.6787941787941789\n",
      "Starting run: SVM_linear_C=0.1_gamma=auto_features=Age_Relationship Status_Occupation_Time Spent_Social Media User?_Q1_Q2_Q3_Q4_Q5_Q6_Q7_Facebook_Instagram_YouTube_Snapchat_Twitter_Discord_Reddit_Pinterest_TikTok\n"
     ]
    },
    {
     "name": "stderr",
     "output_type": "stream",
     "text": [
      "C:\\Users\\ASUS\\anaconda3\\envs\\mycondaenv\\Lib\\site-packages\\sklearn\\metrics\\_classification.py:1517: UndefinedMetricWarning: Precision is ill-defined and being set to 0.0 in labels with no predicted samples. Use `zero_division` parameter to control this behavior.\n",
      "  _warn_prf(average, modifier, f\"{metric.capitalize()} is\", len(result))\n"
     ]
    },
    {
     "name": "stdout",
     "output_type": "stream",
     "text": [
      "Logged run: SVM_linear_C=0.1_gamma=auto_features=Age_Relationship Status_Occupation_Time Spent_Social Media User?_Q1_Q2_Q3_Q4_Q5_Q6_Q7_Facebook_Instagram_YouTube_Snapchat_Twitter_Discord_Reddit_Pinterest_TikTok with accuracy=0.7395833333333334, precision=0.6434294871794872, recall=0.7395833333333334, f1_score=0.6875\n",
      "Starting run: SVM_linear_C=0.1_gamma=auto_features=Age_Sex_Relationship Status_Time Spent_Social Media User?_Q1_Q2_Q3_Q4_Q5_Q6_Q7_Q8_Facebook_Instagram_YouTube_Snapchat_Twitter_Discord_Reddit_Pinterest_TikTok\n"
     ]
    },
    {
     "name": "stderr",
     "output_type": "stream",
     "text": [
      "C:\\Users\\ASUS\\anaconda3\\envs\\mycondaenv\\Lib\\site-packages\\sklearn\\metrics\\_classification.py:1517: UndefinedMetricWarning: Precision is ill-defined and being set to 0.0 in labels with no predicted samples. Use `zero_division` parameter to control this behavior.\n",
      "  _warn_prf(average, modifier, f\"{metric.capitalize()} is\", len(result))\n"
     ]
    },
    {
     "name": "stdout",
     "output_type": "stream",
     "text": [
      "Logged run: SVM_linear_C=0.1_gamma=auto_features=Age_Sex_Relationship Status_Time Spent_Social Media User?_Q1_Q2_Q3_Q4_Q5_Q6_Q7_Q8_Facebook_Instagram_YouTube_Snapchat_Twitter_Discord_Reddit_Pinterest_TikTok with accuracy=0.7395833333333334, precision=0.6434294871794872, recall=0.7395833333333334, f1_score=0.6875\n",
      "Starting run: SVM_linear_C=1_gamma=scale_features=Age_Sex_Relationship Status_Occupation_Time Spent_Social Media User?_Q1_Q2_Q3_Q4_Q5_Q6_Q7_Q8_Facebook_Instagram_YouTube_Snapchat_Twitter_Discord_Reddit_Pinterest_TikTok\n",
      "Logged run: SVM_linear_C=1_gamma=scale_features=Age_Sex_Relationship Status_Occupation_Time Spent_Social Media User?_Q1_Q2_Q3_Q4_Q5_Q6_Q7_Q8_Facebook_Instagram_YouTube_Snapchat_Twitter_Discord_Reddit_Pinterest_TikTok with accuracy=0.6979166666666666, precision=0.6237179487179487, recall=0.6979166666666666, f1_score=0.6560921717171717\n",
      "Starting run: SVM_linear_C=1_gamma=scale_features=Age_Relationship Status_Occupation_Time Spent_Social Media User?_Q1_Q2_Q3_Q4_Q5_Q6_Q7_Facebook_Instagram_YouTube_Snapchat_Twitter_Discord_Reddit_Pinterest_TikTok\n",
      "Logged run: SVM_linear_C=1_gamma=scale_features=Age_Relationship Status_Occupation_Time Spent_Social Media User?_Q1_Q2_Q3_Q4_Q5_Q6_Q7_Facebook_Instagram_YouTube_Snapchat_Twitter_Discord_Reddit_Pinterest_TikTok with accuracy=0.71875, precision=0.6766318369453045, recall=0.71875, f1_score=0.6854292421193829\n",
      "Starting run: SVM_linear_C=1_gamma=scale_features=Age_Sex_Relationship Status_Time Spent_Social Media User?_Q1_Q2_Q3_Q4_Q5_Q6_Q7_Q8_Facebook_Instagram_YouTube_Snapchat_Twitter_Discord_Reddit_Pinterest_TikTok\n",
      "Logged run: SVM_linear_C=1_gamma=scale_features=Age_Sex_Relationship Status_Time Spent_Social Media User?_Q1_Q2_Q3_Q4_Q5_Q6_Q7_Q8_Facebook_Instagram_YouTube_Snapchat_Twitter_Discord_Reddit_Pinterest_TikTok with accuracy=0.7083333333333334, precision=0.6616071428571428, recall=0.7083333333333334, f1_score=0.6755900349650349\n",
      "Starting run: SVM_linear_C=1_gamma=auto_features=Age_Sex_Relationship Status_Occupation_Time Spent_Social Media User?_Q1_Q2_Q3_Q4_Q5_Q6_Q7_Q8_Facebook_Instagram_YouTube_Snapchat_Twitter_Discord_Reddit_Pinterest_TikTok\n",
      "Logged run: SVM_linear_C=1_gamma=auto_features=Age_Sex_Relationship Status_Occupation_Time Spent_Social Media User?_Q1_Q2_Q3_Q4_Q5_Q6_Q7_Q8_Facebook_Instagram_YouTube_Snapchat_Twitter_Discord_Reddit_Pinterest_TikTok with accuracy=0.6979166666666666, precision=0.6237179487179487, recall=0.6979166666666666, f1_score=0.6560921717171717\n",
      "Starting run: SVM_linear_C=1_gamma=auto_features=Age_Relationship Status_Occupation_Time Spent_Social Media User?_Q1_Q2_Q3_Q4_Q5_Q6_Q7_Facebook_Instagram_YouTube_Snapchat_Twitter_Discord_Reddit_Pinterest_TikTok\n",
      "Logged run: SVM_linear_C=1_gamma=auto_features=Age_Relationship Status_Occupation_Time Spent_Social Media User?_Q1_Q2_Q3_Q4_Q5_Q6_Q7_Facebook_Instagram_YouTube_Snapchat_Twitter_Discord_Reddit_Pinterest_TikTok with accuracy=0.71875, precision=0.6766318369453045, recall=0.71875, f1_score=0.6854292421193829\n",
      "Starting run: SVM_linear_C=1_gamma=auto_features=Age_Sex_Relationship Status_Time Spent_Social Media User?_Q1_Q2_Q3_Q4_Q5_Q6_Q7_Q8_Facebook_Instagram_YouTube_Snapchat_Twitter_Discord_Reddit_Pinterest_TikTok\n",
      "Logged run: SVM_linear_C=1_gamma=auto_features=Age_Sex_Relationship Status_Time Spent_Social Media User?_Q1_Q2_Q3_Q4_Q5_Q6_Q7_Q8_Facebook_Instagram_YouTube_Snapchat_Twitter_Discord_Reddit_Pinterest_TikTok with accuracy=0.7083333333333334, precision=0.6616071428571428, recall=0.7083333333333334, f1_score=0.6755900349650349\n",
      "Starting run: SVM_linear_C=10_gamma=scale_features=Age_Sex_Relationship Status_Occupation_Time Spent_Social Media User?_Q1_Q2_Q3_Q4_Q5_Q6_Q7_Q8_Facebook_Instagram_YouTube_Snapchat_Twitter_Discord_Reddit_Pinterest_TikTok\n",
      "Logged run: SVM_linear_C=10_gamma=scale_features=Age_Sex_Relationship Status_Occupation_Time Spent_Social Media User?_Q1_Q2_Q3_Q4_Q5_Q6_Q7_Q8_Facebook_Instagram_YouTube_Snapchat_Twitter_Discord_Reddit_Pinterest_TikTok with accuracy=0.7083333333333334, precision=0.6259493670886075, recall=0.7083333333333334, f1_score=0.6617554858934169\n",
      "Starting run: SVM_linear_C=10_gamma=scale_features=Age_Relationship Status_Occupation_Time Spent_Social Media User?_Q1_Q2_Q3_Q4_Q5_Q6_Q7_Facebook_Instagram_YouTube_Snapchat_Twitter_Discord_Reddit_Pinterest_TikTok\n",
      "Logged run: SVM_linear_C=10_gamma=scale_features=Age_Relationship Status_Occupation_Time Spent_Social Media User?_Q1_Q2_Q3_Q4_Q5_Q6_Q7_Facebook_Instagram_YouTube_Snapchat_Twitter_Discord_Reddit_Pinterest_TikTok with accuracy=0.7083333333333334, precision=0.6281512605042017, recall=0.7083333333333334, f1_score=0.6648351648351648\n",
      "Starting run: SVM_linear_C=10_gamma=scale_features=Age_Sex_Relationship Status_Time Spent_Social Media User?_Q1_Q2_Q3_Q4_Q5_Q6_Q7_Q8_Facebook_Instagram_YouTube_Snapchat_Twitter_Discord_Reddit_Pinterest_TikTok\n",
      "Logged run: SVM_linear_C=10_gamma=scale_features=Age_Sex_Relationship Status_Time Spent_Social Media User?_Q1_Q2_Q3_Q4_Q5_Q6_Q7_Q8_Facebook_Instagram_YouTube_Snapchat_Twitter_Discord_Reddit_Pinterest_TikTok with accuracy=0.7083333333333334, precision=0.6616071428571428, recall=0.7083333333333334, f1_score=0.6755900349650349\n",
      "Starting run: SVM_linear_C=10_gamma=auto_features=Age_Sex_Relationship Status_Occupation_Time Spent_Social Media User?_Q1_Q2_Q3_Q4_Q5_Q6_Q7_Q8_Facebook_Instagram_YouTube_Snapchat_Twitter_Discord_Reddit_Pinterest_TikTok\n",
      "Logged run: SVM_linear_C=10_gamma=auto_features=Age_Sex_Relationship Status_Occupation_Time Spent_Social Media User?_Q1_Q2_Q3_Q4_Q5_Q6_Q7_Q8_Facebook_Instagram_YouTube_Snapchat_Twitter_Discord_Reddit_Pinterest_TikTok with accuracy=0.7083333333333334, precision=0.6259493670886075, recall=0.7083333333333334, f1_score=0.6617554858934169\n",
      "Starting run: SVM_linear_C=10_gamma=auto_features=Age_Relationship Status_Occupation_Time Spent_Social Media User?_Q1_Q2_Q3_Q4_Q5_Q6_Q7_Facebook_Instagram_YouTube_Snapchat_Twitter_Discord_Reddit_Pinterest_TikTok\n",
      "Logged run: SVM_linear_C=10_gamma=auto_features=Age_Relationship Status_Occupation_Time Spent_Social Media User?_Q1_Q2_Q3_Q4_Q5_Q6_Q7_Facebook_Instagram_YouTube_Snapchat_Twitter_Discord_Reddit_Pinterest_TikTok with accuracy=0.7083333333333334, precision=0.6281512605042017, recall=0.7083333333333334, f1_score=0.6648351648351648\n",
      "Starting run: SVM_linear_C=10_gamma=auto_features=Age_Sex_Relationship Status_Time Spent_Social Media User?_Q1_Q2_Q3_Q4_Q5_Q6_Q7_Q8_Facebook_Instagram_YouTube_Snapchat_Twitter_Discord_Reddit_Pinterest_TikTok\n",
      "Logged run: SVM_linear_C=10_gamma=auto_features=Age_Sex_Relationship Status_Time Spent_Social Media User?_Q1_Q2_Q3_Q4_Q5_Q6_Q7_Q8_Facebook_Instagram_YouTube_Snapchat_Twitter_Discord_Reddit_Pinterest_TikTok with accuracy=0.7083333333333334, precision=0.6616071428571428, recall=0.7083333333333334, f1_score=0.6755900349650349\n",
      "Starting run: SVM_rbf_C=0.1_gamma=scale_features=Age_Sex_Relationship Status_Occupation_Time Spent_Social Media User?_Q1_Q2_Q3_Q4_Q5_Q6_Q7_Q8_Facebook_Instagram_YouTube_Snapchat_Twitter_Discord_Reddit_Pinterest_TikTok\n"
     ]
    },
    {
     "name": "stderr",
     "output_type": "stream",
     "text": [
      "C:\\Users\\ASUS\\anaconda3\\envs\\mycondaenv\\Lib\\site-packages\\sklearn\\metrics\\_classification.py:1517: UndefinedMetricWarning: Precision is ill-defined and being set to 0.0 in labels with no predicted samples. Use `zero_division` parameter to control this behavior.\n",
      "  _warn_prf(average, modifier, f\"{metric.capitalize()} is\", len(result))\n"
     ]
    },
    {
     "name": "stdout",
     "output_type": "stream",
     "text": [
      "Logged run: SVM_rbf_C=0.1_gamma=scale_features=Age_Sex_Relationship Status_Occupation_Time Spent_Social Media User?_Q1_Q2_Q3_Q4_Q5_Q6_Q7_Q8_Facebook_Instagram_YouTube_Snapchat_Twitter_Discord_Reddit_Pinterest_TikTok with accuracy=0.7083333333333334, precision=0.609375, recall=0.7083333333333334, f1_score=0.6346153846153846\n",
      "Starting run: SVM_rbf_C=0.1_gamma=scale_features=Age_Relationship Status_Occupation_Time Spent_Social Media User?_Q1_Q2_Q3_Q4_Q5_Q6_Q7_Facebook_Instagram_YouTube_Snapchat_Twitter_Discord_Reddit_Pinterest_TikTok\n"
     ]
    },
    {
     "name": "stderr",
     "output_type": "stream",
     "text": [
      "C:\\Users\\ASUS\\anaconda3\\envs\\mycondaenv\\Lib\\site-packages\\sklearn\\metrics\\_classification.py:1517: UndefinedMetricWarning: Precision is ill-defined and being set to 0.0 in labels with no predicted samples. Use `zero_division` parameter to control this behavior.\n",
      "  _warn_prf(average, modifier, f\"{metric.capitalize()} is\", len(result))\n"
     ]
    },
    {
     "name": "stdout",
     "output_type": "stream",
     "text": [
      "Logged run: SVM_rbf_C=0.1_gamma=scale_features=Age_Relationship Status_Occupation_Time Spent_Social Media User?_Q1_Q2_Q3_Q4_Q5_Q6_Q7_Facebook_Instagram_YouTube_Snapchat_Twitter_Discord_Reddit_Pinterest_TikTok with accuracy=0.7083333333333334, precision=0.609375, recall=0.7083333333333334, f1_score=0.6346153846153846\n",
      "Starting run: SVM_rbf_C=0.1_gamma=scale_features=Age_Sex_Relationship Status_Time Spent_Social Media User?_Q1_Q2_Q3_Q4_Q5_Q6_Q7_Q8_Facebook_Instagram_YouTube_Snapchat_Twitter_Discord_Reddit_Pinterest_TikTok\n"
     ]
    },
    {
     "name": "stderr",
     "output_type": "stream",
     "text": [
      "C:\\Users\\ASUS\\anaconda3\\envs\\mycondaenv\\Lib\\site-packages\\sklearn\\metrics\\_classification.py:1517: UndefinedMetricWarning: Precision is ill-defined and being set to 0.0 in labels with no predicted samples. Use `zero_division` parameter to control this behavior.\n",
      "  _warn_prf(average, modifier, f\"{metric.capitalize()} is\", len(result))\n"
     ]
    },
    {
     "name": "stdout",
     "output_type": "stream",
     "text": [
      "Logged run: SVM_rbf_C=0.1_gamma=scale_features=Age_Sex_Relationship Status_Time Spent_Social Media User?_Q1_Q2_Q3_Q4_Q5_Q6_Q7_Q8_Facebook_Instagram_YouTube_Snapchat_Twitter_Discord_Reddit_Pinterest_TikTok with accuracy=0.7083333333333334, precision=0.609375, recall=0.7083333333333334, f1_score=0.6346153846153846\n",
      "Starting run: SVM_rbf_C=0.1_gamma=auto_features=Age_Sex_Relationship Status_Occupation_Time Spent_Social Media User?_Q1_Q2_Q3_Q4_Q5_Q6_Q7_Q8_Facebook_Instagram_YouTube_Snapchat_Twitter_Discord_Reddit_Pinterest_TikTok\n"
     ]
    },
    {
     "name": "stderr",
     "output_type": "stream",
     "text": [
      "C:\\Users\\ASUS\\anaconda3\\envs\\mycondaenv\\Lib\\site-packages\\sklearn\\metrics\\_classification.py:1517: UndefinedMetricWarning: Precision is ill-defined and being set to 0.0 in labels with no predicted samples. Use `zero_division` parameter to control this behavior.\n",
      "  _warn_prf(average, modifier, f\"{metric.capitalize()} is\", len(result))\n"
     ]
    },
    {
     "name": "stdout",
     "output_type": "stream",
     "text": [
      "Logged run: SVM_rbf_C=0.1_gamma=auto_features=Age_Sex_Relationship Status_Occupation_Time Spent_Social Media User?_Q1_Q2_Q3_Q4_Q5_Q6_Q7_Q8_Facebook_Instagram_YouTube_Snapchat_Twitter_Discord_Reddit_Pinterest_TikTok with accuracy=0.6875, precision=0.47265625, recall=0.6875, f1_score=0.5601851851851851\n",
      "Starting run: SVM_rbf_C=0.1_gamma=auto_features=Age_Relationship Status_Occupation_Time Spent_Social Media User?_Q1_Q2_Q3_Q4_Q5_Q6_Q7_Facebook_Instagram_YouTube_Snapchat_Twitter_Discord_Reddit_Pinterest_TikTok\n"
     ]
    },
    {
     "name": "stderr",
     "output_type": "stream",
     "text": [
      "C:\\Users\\ASUS\\anaconda3\\envs\\mycondaenv\\Lib\\site-packages\\sklearn\\metrics\\_classification.py:1517: UndefinedMetricWarning: Precision is ill-defined and being set to 0.0 in labels with no predicted samples. Use `zero_division` parameter to control this behavior.\n",
      "  _warn_prf(average, modifier, f\"{metric.capitalize()} is\", len(result))\n"
     ]
    },
    {
     "name": "stdout",
     "output_type": "stream",
     "text": [
      "Logged run: SVM_rbf_C=0.1_gamma=auto_features=Age_Relationship Status_Occupation_Time Spent_Social Media User?_Q1_Q2_Q3_Q4_Q5_Q6_Q7_Facebook_Instagram_YouTube_Snapchat_Twitter_Discord_Reddit_Pinterest_TikTok with accuracy=0.6875, precision=0.47265625, recall=0.6875, f1_score=0.5601851851851851\n",
      "Starting run: SVM_rbf_C=0.1_gamma=auto_features=Age_Sex_Relationship Status_Time Spent_Social Media User?_Q1_Q2_Q3_Q4_Q5_Q6_Q7_Q8_Facebook_Instagram_YouTube_Snapchat_Twitter_Discord_Reddit_Pinterest_TikTok\n"
     ]
    },
    {
     "name": "stderr",
     "output_type": "stream",
     "text": [
      "C:\\Users\\ASUS\\anaconda3\\envs\\mycondaenv\\Lib\\site-packages\\sklearn\\metrics\\_classification.py:1517: UndefinedMetricWarning: Precision is ill-defined and being set to 0.0 in labels with no predicted samples. Use `zero_division` parameter to control this behavior.\n",
      "  _warn_prf(average, modifier, f\"{metric.capitalize()} is\", len(result))\n"
     ]
    },
    {
     "name": "stdout",
     "output_type": "stream",
     "text": [
      "Logged run: SVM_rbf_C=0.1_gamma=auto_features=Age_Sex_Relationship Status_Time Spent_Social Media User?_Q1_Q2_Q3_Q4_Q5_Q6_Q7_Q8_Facebook_Instagram_YouTube_Snapchat_Twitter_Discord_Reddit_Pinterest_TikTok with accuracy=0.6875, precision=0.47265625, recall=0.6875, f1_score=0.5601851851851851\n",
      "Starting run: SVM_rbf_C=1_gamma=scale_features=Age_Sex_Relationship Status_Occupation_Time Spent_Social Media User?_Q1_Q2_Q3_Q4_Q5_Q6_Q7_Q8_Facebook_Instagram_YouTube_Snapchat_Twitter_Discord_Reddit_Pinterest_TikTok\n"
     ]
    },
    {
     "name": "stderr",
     "output_type": "stream",
     "text": [
      "C:\\Users\\ASUS\\anaconda3\\envs\\mycondaenv\\Lib\\site-packages\\sklearn\\metrics\\_classification.py:1517: UndefinedMetricWarning: Precision is ill-defined and being set to 0.0 in labels with no predicted samples. Use `zero_division` parameter to control this behavior.\n",
      "  _warn_prf(average, modifier, f\"{metric.capitalize()} is\", len(result))\n"
     ]
    },
    {
     "name": "stdout",
     "output_type": "stream",
     "text": [
      "Logged run: SVM_rbf_C=1_gamma=scale_features=Age_Sex_Relationship Status_Occupation_Time Spent_Social Media User?_Q1_Q2_Q3_Q4_Q5_Q6_Q7_Q8_Facebook_Instagram_YouTube_Snapchat_Twitter_Discord_Reddit_Pinterest_TikTok with accuracy=0.7395833333333334, precision=0.6433619091751621, recall=0.7395833333333334, f1_score=0.6810186187486469\n",
      "Starting run: SVM_rbf_C=1_gamma=scale_features=Age_Relationship Status_Occupation_Time Spent_Social Media User?_Q1_Q2_Q3_Q4_Q5_Q6_Q7_Facebook_Instagram_YouTube_Snapchat_Twitter_Discord_Reddit_Pinterest_TikTok\n"
     ]
    },
    {
     "name": "stderr",
     "output_type": "stream",
     "text": [
      "C:\\Users\\ASUS\\anaconda3\\envs\\mycondaenv\\Lib\\site-packages\\sklearn\\metrics\\_classification.py:1517: UndefinedMetricWarning: Precision is ill-defined and being set to 0.0 in labels with no predicted samples. Use `zero_division` parameter to control this behavior.\n",
      "  _warn_prf(average, modifier, f\"{metric.capitalize()} is\", len(result))\n"
     ]
    },
    {
     "name": "stdout",
     "output_type": "stream",
     "text": [
      "Logged run: SVM_rbf_C=1_gamma=scale_features=Age_Relationship Status_Occupation_Time Spent_Social Media User?_Q1_Q2_Q3_Q4_Q5_Q6_Q7_Facebook_Instagram_YouTube_Snapchat_Twitter_Discord_Reddit_Pinterest_TikTok with accuracy=0.7395833333333334, precision=0.6433619091751621, recall=0.7395833333333334, f1_score=0.6810186187486469\n",
      "Starting run: SVM_rbf_C=1_gamma=scale_features=Age_Sex_Relationship Status_Time Spent_Social Media User?_Q1_Q2_Q3_Q4_Q5_Q6_Q7_Q8_Facebook_Instagram_YouTube_Snapchat_Twitter_Discord_Reddit_Pinterest_TikTok\n"
     ]
    },
    {
     "name": "stderr",
     "output_type": "stream",
     "text": [
      "C:\\Users\\ASUS\\anaconda3\\envs\\mycondaenv\\Lib\\site-packages\\sklearn\\metrics\\_classification.py:1517: UndefinedMetricWarning: Precision is ill-defined and being set to 0.0 in labels with no predicted samples. Use `zero_division` parameter to control this behavior.\n",
      "  _warn_prf(average, modifier, f\"{metric.capitalize()} is\", len(result))\n"
     ]
    },
    {
     "name": "stdout",
     "output_type": "stream",
     "text": [
      "Logged run: SVM_rbf_C=1_gamma=scale_features=Age_Sex_Relationship Status_Time Spent_Social Media User?_Q1_Q2_Q3_Q4_Q5_Q6_Q7_Q8_Facebook_Instagram_YouTube_Snapchat_Twitter_Discord_Reddit_Pinterest_TikTok with accuracy=0.7395833333333334, precision=0.6433619091751621, recall=0.7395833333333334, f1_score=0.6810186187486469\n",
      "Starting run: SVM_rbf_C=1_gamma=auto_features=Age_Sex_Relationship Status_Occupation_Time Spent_Social Media User?_Q1_Q2_Q3_Q4_Q5_Q6_Q7_Q8_Facebook_Instagram_YouTube_Snapchat_Twitter_Discord_Reddit_Pinterest_TikTok\n"
     ]
    },
    {
     "name": "stderr",
     "output_type": "stream",
     "text": [
      "C:\\Users\\ASUS\\anaconda3\\envs\\mycondaenv\\Lib\\site-packages\\sklearn\\metrics\\_classification.py:1517: UndefinedMetricWarning: Precision is ill-defined and being set to 0.0 in labels with no predicted samples. Use `zero_division` parameter to control this behavior.\n",
      "  _warn_prf(average, modifier, f\"{metric.capitalize()} is\", len(result))\n"
     ]
    },
    {
     "name": "stdout",
     "output_type": "stream",
     "text": [
      "Logged run: SVM_rbf_C=1_gamma=auto_features=Age_Sex_Relationship Status_Occupation_Time Spent_Social Media User?_Q1_Q2_Q3_Q4_Q5_Q6_Q7_Q8_Facebook_Instagram_YouTube_Snapchat_Twitter_Discord_Reddit_Pinterest_TikTok with accuracy=0.7395833333333334, precision=0.64140625, recall=0.7395833333333334, f1_score=0.6847804190169219\n",
      "Starting run: SVM_rbf_C=1_gamma=auto_features=Age_Relationship Status_Occupation_Time Spent_Social Media User?_Q1_Q2_Q3_Q4_Q5_Q6_Q7_Facebook_Instagram_YouTube_Snapchat_Twitter_Discord_Reddit_Pinterest_TikTok\n"
     ]
    },
    {
     "name": "stderr",
     "output_type": "stream",
     "text": [
      "C:\\Users\\ASUS\\anaconda3\\envs\\mycondaenv\\Lib\\site-packages\\sklearn\\metrics\\_classification.py:1517: UndefinedMetricWarning: Precision is ill-defined and being set to 0.0 in labels with no predicted samples. Use `zero_division` parameter to control this behavior.\n",
      "  _warn_prf(average, modifier, f\"{metric.capitalize()} is\", len(result))\n"
     ]
    },
    {
     "name": "stdout",
     "output_type": "stream",
     "text": [
      "Logged run: SVM_rbf_C=1_gamma=auto_features=Age_Relationship Status_Occupation_Time Spent_Social Media User?_Q1_Q2_Q3_Q4_Q5_Q6_Q7_Facebook_Instagram_YouTube_Snapchat_Twitter_Discord_Reddit_Pinterest_TikTok with accuracy=0.7604166666666666, precision=0.6621297909407665, recall=0.7604166666666666, f1_score=0.7024915540540541\n",
      "Starting run: SVM_rbf_C=1_gamma=auto_features=Age_Sex_Relationship Status_Time Spent_Social Media User?_Q1_Q2_Q3_Q4_Q5_Q6_Q7_Q8_Facebook_Instagram_YouTube_Snapchat_Twitter_Discord_Reddit_Pinterest_TikTok\n"
     ]
    },
    {
     "name": "stderr",
     "output_type": "stream",
     "text": [
      "C:\\Users\\ASUS\\anaconda3\\envs\\mycondaenv\\Lib\\site-packages\\sklearn\\metrics\\_classification.py:1517: UndefinedMetricWarning: Precision is ill-defined and being set to 0.0 in labels with no predicted samples. Use `zero_division` parameter to control this behavior.\n",
      "  _warn_prf(average, modifier, f\"{metric.capitalize()} is\", len(result))\n"
     ]
    },
    {
     "name": "stdout",
     "output_type": "stream",
     "text": [
      "Logged run: SVM_rbf_C=1_gamma=auto_features=Age_Sex_Relationship Status_Time Spent_Social Media User?_Q1_Q2_Q3_Q4_Q5_Q6_Q7_Q8_Facebook_Instagram_YouTube_Snapchat_Twitter_Discord_Reddit_Pinterest_TikTok with accuracy=0.7395833333333334, precision=0.64140625, recall=0.7395833333333334, f1_score=0.6847804190169219\n",
      "Starting run: SVM_rbf_C=10_gamma=scale_features=Age_Sex_Relationship Status_Occupation_Time Spent_Social Media User?_Q1_Q2_Q3_Q4_Q5_Q6_Q7_Q8_Facebook_Instagram_YouTube_Snapchat_Twitter_Discord_Reddit_Pinterest_TikTok\n"
     ]
    },
    {
     "name": "stderr",
     "output_type": "stream",
     "text": [
      "C:\\Users\\ASUS\\anaconda3\\envs\\mycondaenv\\Lib\\site-packages\\sklearn\\metrics\\_classification.py:1517: UndefinedMetricWarning: Precision is ill-defined and being set to 0.0 in labels with no predicted samples. Use `zero_division` parameter to control this behavior.\n",
      "  _warn_prf(average, modifier, f\"{metric.capitalize()} is\", len(result))\n"
     ]
    },
    {
     "name": "stdout",
     "output_type": "stream",
     "text": [
      "Logged run: SVM_rbf_C=10_gamma=scale_features=Age_Sex_Relationship Status_Occupation_Time Spent_Social Media User?_Q1_Q2_Q3_Q4_Q5_Q6_Q7_Q8_Facebook_Instagram_YouTube_Snapchat_Twitter_Discord_Reddit_Pinterest_TikTok with accuracy=0.7395833333333334, precision=0.6434294871794872, recall=0.7395833333333334, f1_score=0.6875\n",
      "Starting run: SVM_rbf_C=10_gamma=scale_features=Age_Relationship Status_Occupation_Time Spent_Social Media User?_Q1_Q2_Q3_Q4_Q5_Q6_Q7_Facebook_Instagram_YouTube_Snapchat_Twitter_Discord_Reddit_Pinterest_TikTok\n"
     ]
    },
    {
     "name": "stderr",
     "output_type": "stream",
     "text": [
      "C:\\Users\\ASUS\\anaconda3\\envs\\mycondaenv\\Lib\\site-packages\\sklearn\\metrics\\_classification.py:1517: UndefinedMetricWarning: Precision is ill-defined and being set to 0.0 in labels with no predicted samples. Use `zero_division` parameter to control this behavior.\n",
      "  _warn_prf(average, modifier, f\"{metric.capitalize()} is\", len(result))\n"
     ]
    },
    {
     "name": "stdout",
     "output_type": "stream",
     "text": [
      "Logged run: SVM_rbf_C=10_gamma=scale_features=Age_Relationship Status_Occupation_Time Spent_Social Media User?_Q1_Q2_Q3_Q4_Q5_Q6_Q7_Facebook_Instagram_YouTube_Snapchat_Twitter_Discord_Reddit_Pinterest_TikTok with accuracy=0.7708333333333334, precision=0.67435125115848, recall=0.7708333333333334, f1_score=0.7115717687811215\n",
      "Starting run: SVM_rbf_C=10_gamma=scale_features=Age_Sex_Relationship Status_Time Spent_Social Media User?_Q1_Q2_Q3_Q4_Q5_Q6_Q7_Q8_Facebook_Instagram_YouTube_Snapchat_Twitter_Discord_Reddit_Pinterest_TikTok\n"
     ]
    },
    {
     "name": "stderr",
     "output_type": "stream",
     "text": [
      "C:\\Users\\ASUS\\anaconda3\\envs\\mycondaenv\\Lib\\site-packages\\sklearn\\metrics\\_classification.py:1517: UndefinedMetricWarning: Precision is ill-defined and being set to 0.0 in labels with no predicted samples. Use `zero_division` parameter to control this behavior.\n",
      "  _warn_prf(average, modifier, f\"{metric.capitalize()} is\", len(result))\n"
     ]
    },
    {
     "name": "stdout",
     "output_type": "stream",
     "text": [
      "Logged run: SVM_rbf_C=10_gamma=scale_features=Age_Sex_Relationship Status_Time Spent_Social Media User?_Q1_Q2_Q3_Q4_Q5_Q6_Q7_Q8_Facebook_Instagram_YouTube_Snapchat_Twitter_Discord_Reddit_Pinterest_TikTok with accuracy=0.7395833333333334, precision=0.6434294871794872, recall=0.7395833333333334, f1_score=0.6875\n",
      "Starting run: SVM_rbf_C=10_gamma=auto_features=Age_Sex_Relationship Status_Occupation_Time Spent_Social Media User?_Q1_Q2_Q3_Q4_Q5_Q6_Q7_Q8_Facebook_Instagram_YouTube_Snapchat_Twitter_Discord_Reddit_Pinterest_TikTok\n",
      "Logged run: SVM_rbf_C=10_gamma=auto_features=Age_Sex_Relationship Status_Occupation_Time Spent_Social Media User?_Q1_Q2_Q3_Q4_Q5_Q6_Q7_Q8_Facebook_Instagram_YouTube_Snapchat_Twitter_Discord_Reddit_Pinterest_TikTok with accuracy=0.6979166666666666, precision=0.6912600267379679, recall=0.6979166666666666, f1_score=0.6943091220914063\n",
      "Starting run: SVM_rbf_C=10_gamma=auto_features=Age_Relationship Status_Occupation_Time Spent_Social Media User?_Q1_Q2_Q3_Q4_Q5_Q6_Q7_Facebook_Instagram_YouTube_Snapchat_Twitter_Discord_Reddit_Pinterest_TikTok\n",
      "Logged run: SVM_rbf_C=10_gamma=auto_features=Age_Relationship Status_Occupation_Time Spent_Social Media User?_Q1_Q2_Q3_Q4_Q5_Q6_Q7_Facebook_Instagram_YouTube_Snapchat_Twitter_Discord_Reddit_Pinterest_TikTok with accuracy=0.65625, precision=0.6519021739130434, recall=0.65625, f1_score=0.6529671717171718\n",
      "Starting run: SVM_rbf_C=10_gamma=auto_features=Age_Sex_Relationship Status_Time Spent_Social Media User?_Q1_Q2_Q3_Q4_Q5_Q6_Q7_Q8_Facebook_Instagram_YouTube_Snapchat_Twitter_Discord_Reddit_Pinterest_TikTok\n",
      "Logged run: SVM_rbf_C=10_gamma=auto_features=Age_Sex_Relationship Status_Time Spent_Social Media User?_Q1_Q2_Q3_Q4_Q5_Q6_Q7_Q8_Facebook_Instagram_YouTube_Snapchat_Twitter_Discord_Reddit_Pinterest_TikTok with accuracy=0.6875, precision=0.6678526017214398, recall=0.6875, f1_score=0.6760744443762907\n",
      "Starting run: SVM_poly_C=0.1_gamma=scale_features=Age_Sex_Relationship Status_Occupation_Time Spent_Social Media User?_Q1_Q2_Q3_Q4_Q5_Q6_Q7_Q8_Facebook_Instagram_YouTube_Snapchat_Twitter_Discord_Reddit_Pinterest_TikTok\n"
     ]
    },
    {
     "name": "stderr",
     "output_type": "stream",
     "text": [
      "C:\\Users\\ASUS\\anaconda3\\envs\\mycondaenv\\Lib\\site-packages\\sklearn\\metrics\\_classification.py:1517: UndefinedMetricWarning: Precision is ill-defined and being set to 0.0 in labels with no predicted samples. Use `zero_division` parameter to control this behavior.\n",
      "  _warn_prf(average, modifier, f\"{metric.capitalize()} is\", len(result))\n"
     ]
    },
    {
     "name": "stdout",
     "output_type": "stream",
     "text": [
      "Logged run: SVM_poly_C=0.1_gamma=scale_features=Age_Sex_Relationship Status_Occupation_Time Spent_Social Media User?_Q1_Q2_Q3_Q4_Q5_Q6_Q7_Q8_Facebook_Instagram_YouTube_Snapchat_Twitter_Discord_Reddit_Pinterest_TikTok with accuracy=0.7083333333333334, precision=0.609375, recall=0.7083333333333334, f1_score=0.6346153846153846\n",
      "Starting run: SVM_poly_C=0.1_gamma=scale_features=Age_Relationship Status_Occupation_Time Spent_Social Media User?_Q1_Q2_Q3_Q4_Q5_Q6_Q7_Facebook_Instagram_YouTube_Snapchat_Twitter_Discord_Reddit_Pinterest_TikTok\n"
     ]
    },
    {
     "name": "stderr",
     "output_type": "stream",
     "text": [
      "C:\\Users\\ASUS\\anaconda3\\envs\\mycondaenv\\Lib\\site-packages\\sklearn\\metrics\\_classification.py:1517: UndefinedMetricWarning: Precision is ill-defined and being set to 0.0 in labels with no predicted samples. Use `zero_division` parameter to control this behavior.\n",
      "  _warn_prf(average, modifier, f\"{metric.capitalize()} is\", len(result))\n"
     ]
    },
    {
     "name": "stdout",
     "output_type": "stream",
     "text": [
      "Logged run: SVM_poly_C=0.1_gamma=scale_features=Age_Relationship Status_Occupation_Time Spent_Social Media User?_Q1_Q2_Q3_Q4_Q5_Q6_Q7_Facebook_Instagram_YouTube_Snapchat_Twitter_Discord_Reddit_Pinterest_TikTok with accuracy=0.7083333333333334, precision=0.609375, recall=0.7083333333333334, f1_score=0.6346153846153846\n",
      "Starting run: SVM_poly_C=0.1_gamma=scale_features=Age_Sex_Relationship Status_Time Spent_Social Media User?_Q1_Q2_Q3_Q4_Q5_Q6_Q7_Q8_Facebook_Instagram_YouTube_Snapchat_Twitter_Discord_Reddit_Pinterest_TikTok\n"
     ]
    },
    {
     "name": "stderr",
     "output_type": "stream",
     "text": [
      "C:\\Users\\ASUS\\anaconda3\\envs\\mycondaenv\\Lib\\site-packages\\sklearn\\metrics\\_classification.py:1517: UndefinedMetricWarning: Precision is ill-defined and being set to 0.0 in labels with no predicted samples. Use `zero_division` parameter to control this behavior.\n",
      "  _warn_prf(average, modifier, f\"{metric.capitalize()} is\", len(result))\n"
     ]
    },
    {
     "name": "stdout",
     "output_type": "stream",
     "text": [
      "Logged run: SVM_poly_C=0.1_gamma=scale_features=Age_Sex_Relationship Status_Time Spent_Social Media User?_Q1_Q2_Q3_Q4_Q5_Q6_Q7_Q8_Facebook_Instagram_YouTube_Snapchat_Twitter_Discord_Reddit_Pinterest_TikTok with accuracy=0.7083333333333334, precision=0.609375, recall=0.7083333333333334, f1_score=0.6346153846153846\n",
      "Starting run: SVM_poly_C=0.1_gamma=auto_features=Age_Sex_Relationship Status_Occupation_Time Spent_Social Media User?_Q1_Q2_Q3_Q4_Q5_Q6_Q7_Q8_Facebook_Instagram_YouTube_Snapchat_Twitter_Discord_Reddit_Pinterest_TikTok\n",
      "Logged run: SVM_poly_C=0.1_gamma=auto_features=Age_Sex_Relationship Status_Occupation_Time Spent_Social Media User?_Q1_Q2_Q3_Q4_Q5_Q6_Q7_Q8_Facebook_Instagram_YouTube_Snapchat_Twitter_Discord_Reddit_Pinterest_TikTok with accuracy=0.59375, precision=0.575, recall=0.59375, f1_score=0.5836397058823529\n",
      "Starting run: SVM_poly_C=0.1_gamma=auto_features=Age_Relationship Status_Occupation_Time Spent_Social Media User?_Q1_Q2_Q3_Q4_Q5_Q6_Q7_Facebook_Instagram_YouTube_Snapchat_Twitter_Discord_Reddit_Pinterest_TikTok\n",
      "Logged run: SVM_poly_C=0.1_gamma=auto_features=Age_Relationship Status_Occupation_Time Spent_Social Media User?_Q1_Q2_Q3_Q4_Q5_Q6_Q7_Facebook_Instagram_YouTube_Snapchat_Twitter_Discord_Reddit_Pinterest_TikTok with accuracy=0.59375, precision=0.6011904761904762, recall=0.59375, f1_score=0.5970493966817496\n",
      "Starting run: SVM_poly_C=0.1_gamma=auto_features=Age_Sex_Relationship Status_Time Spent_Social Media User?_Q1_Q2_Q3_Q4_Q5_Q6_Q7_Q8_Facebook_Instagram_YouTube_Snapchat_Twitter_Discord_Reddit_Pinterest_TikTok\n",
      "Logged run: SVM_poly_C=0.1_gamma=auto_features=Age_Sex_Relationship Status_Time Spent_Social Media User?_Q1_Q2_Q3_Q4_Q5_Q6_Q7_Q8_Facebook_Instagram_YouTube_Snapchat_Twitter_Discord_Reddit_Pinterest_TikTok with accuracy=0.6041666666666666, precision=0.5933382740447958, recall=0.6041666666666666, f1_score=0.5981789334091124\n",
      "Starting run: SVM_poly_C=1_gamma=scale_features=Age_Sex_Relationship Status_Occupation_Time Spent_Social Media User?_Q1_Q2_Q3_Q4_Q5_Q6_Q7_Q8_Facebook_Instagram_YouTube_Snapchat_Twitter_Discord_Reddit_Pinterest_TikTok\n"
     ]
    },
    {
     "name": "stderr",
     "output_type": "stream",
     "text": [
      "C:\\Users\\ASUS\\anaconda3\\envs\\mycondaenv\\Lib\\site-packages\\sklearn\\metrics\\_classification.py:1517: UndefinedMetricWarning: Precision is ill-defined and being set to 0.0 in labels with no predicted samples. Use `zero_division` parameter to control this behavior.\n",
      "  _warn_prf(average, modifier, f\"{metric.capitalize()} is\", len(result))\n"
     ]
    },
    {
     "name": "stdout",
     "output_type": "stream",
     "text": [
      "Logged run: SVM_poly_C=1_gamma=scale_features=Age_Sex_Relationship Status_Occupation_Time Spent_Social Media User?_Q1_Q2_Q3_Q4_Q5_Q6_Q7_Q8_Facebook_Instagram_YouTube_Snapchat_Twitter_Discord_Reddit_Pinterest_TikTok with accuracy=0.71875, precision=0.6283105939004816, recall=0.71875, f1_score=0.6427419354838709\n",
      "Starting run: SVM_poly_C=1_gamma=scale_features=Age_Relationship Status_Occupation_Time Spent_Social Media User?_Q1_Q2_Q3_Q4_Q5_Q6_Q7_Facebook_Instagram_YouTube_Snapchat_Twitter_Discord_Reddit_Pinterest_TikTok\n"
     ]
    },
    {
     "name": "stderr",
     "output_type": "stream",
     "text": [
      "C:\\Users\\ASUS\\anaconda3\\envs\\mycondaenv\\Lib\\site-packages\\sklearn\\metrics\\_classification.py:1517: UndefinedMetricWarning: Precision is ill-defined and being set to 0.0 in labels with no predicted samples. Use `zero_division` parameter to control this behavior.\n",
      "  _warn_prf(average, modifier, f\"{metric.capitalize()} is\", len(result))\n"
     ]
    },
    {
     "name": "stdout",
     "output_type": "stream",
     "text": [
      "Logged run: SVM_poly_C=1_gamma=scale_features=Age_Relationship Status_Occupation_Time Spent_Social Media User?_Q1_Q2_Q3_Q4_Q5_Q6_Q7_Facebook_Instagram_YouTube_Snapchat_Twitter_Discord_Reddit_Pinterest_TikTok with accuracy=0.7083333333333334, precision=0.6138888888888889, recall=0.7083333333333334, f1_score=0.6266025641025641\n",
      "Starting run: SVM_poly_C=1_gamma=scale_features=Age_Sex_Relationship Status_Time Spent_Social Media User?_Q1_Q2_Q3_Q4_Q5_Q6_Q7_Q8_Facebook_Instagram_YouTube_Snapchat_Twitter_Discord_Reddit_Pinterest_TikTok\n"
     ]
    },
    {
     "name": "stderr",
     "output_type": "stream",
     "text": [
      "C:\\Users\\ASUS\\anaconda3\\envs\\mycondaenv\\Lib\\site-packages\\sklearn\\metrics\\_classification.py:1517: UndefinedMetricWarning: Precision is ill-defined and being set to 0.0 in labels with no predicted samples. Use `zero_division` parameter to control this behavior.\n",
      "  _warn_prf(average, modifier, f\"{metric.capitalize()} is\", len(result))\n"
     ]
    },
    {
     "name": "stdout",
     "output_type": "stream",
     "text": [
      "Logged run: SVM_poly_C=1_gamma=scale_features=Age_Sex_Relationship Status_Time Spent_Social Media User?_Q1_Q2_Q3_Q4_Q5_Q6_Q7_Q8_Facebook_Instagram_YouTube_Snapchat_Twitter_Discord_Reddit_Pinterest_TikTok with accuracy=0.71875, precision=0.6283105939004816, recall=0.71875, f1_score=0.6427419354838709\n",
      "Starting run: SVM_poly_C=1_gamma=auto_features=Age_Sex_Relationship Status_Occupation_Time Spent_Social Media User?_Q1_Q2_Q3_Q4_Q5_Q6_Q7_Q8_Facebook_Instagram_YouTube_Snapchat_Twitter_Discord_Reddit_Pinterest_TikTok\n",
      "Logged run: SVM_poly_C=1_gamma=auto_features=Age_Sex_Relationship Status_Occupation_Time Spent_Social Media User?_Q1_Q2_Q3_Q4_Q5_Q6_Q7_Q8_Facebook_Instagram_YouTube_Snapchat_Twitter_Discord_Reddit_Pinterest_TikTok with accuracy=0.46875, precision=0.5240942028985507, recall=0.46875, f1_score=0.4911862527716186\n",
      "Starting run: SVM_poly_C=1_gamma=auto_features=Age_Relationship Status_Occupation_Time Spent_Social Media User?_Q1_Q2_Q3_Q4_Q5_Q6_Q7_Facebook_Instagram_YouTube_Snapchat_Twitter_Discord_Reddit_Pinterest_TikTok\n",
      "Logged run: SVM_poly_C=1_gamma=auto_features=Age_Relationship Status_Occupation_Time Spent_Social Media User?_Q1_Q2_Q3_Q4_Q5_Q6_Q7_Facebook_Instagram_YouTube_Snapchat_Twitter_Discord_Reddit_Pinterest_TikTok with accuracy=0.5520833333333334, precision=0.5916126620139581, recall=0.5520833333333334, f1_score=0.56825\n",
      "Starting run: SVM_poly_C=1_gamma=auto_features=Age_Sex_Relationship Status_Time Spent_Social Media User?_Q1_Q2_Q3_Q4_Q5_Q6_Q7_Q8_Facebook_Instagram_YouTube_Snapchat_Twitter_Discord_Reddit_Pinterest_TikTok\n",
      "Logged run: SVM_poly_C=1_gamma=auto_features=Age_Sex_Relationship Status_Time Spent_Social Media User?_Q1_Q2_Q3_Q4_Q5_Q6_Q7_Q8_Facebook_Instagram_YouTube_Snapchat_Twitter_Discord_Reddit_Pinterest_TikTok with accuracy=0.5, precision=0.5597225670307845, recall=0.5, f1_score=0.5214150176199513\n",
      "Starting run: SVM_poly_C=10_gamma=scale_features=Age_Sex_Relationship Status_Occupation_Time Spent_Social Media User?_Q1_Q2_Q3_Q4_Q5_Q6_Q7_Q8_Facebook_Instagram_YouTube_Snapchat_Twitter_Discord_Reddit_Pinterest_TikTok\n"
     ]
    },
    {
     "name": "stderr",
     "output_type": "stream",
     "text": [
      "C:\\Users\\ASUS\\anaconda3\\envs\\mycondaenv\\Lib\\site-packages\\sklearn\\metrics\\_classification.py:1517: UndefinedMetricWarning: Precision is ill-defined and being set to 0.0 in labels with no predicted samples. Use `zero_division` parameter to control this behavior.\n",
      "  _warn_prf(average, modifier, f\"{metric.capitalize()} is\", len(result))\n"
     ]
    },
    {
     "name": "stdout",
     "output_type": "stream",
     "text": [
      "Logged run: SVM_poly_C=10_gamma=scale_features=Age_Sex_Relationship Status_Occupation_Time Spent_Social Media User?_Q1_Q2_Q3_Q4_Q5_Q6_Q7_Q8_Facebook_Instagram_YouTube_Snapchat_Twitter_Discord_Reddit_Pinterest_TikTok with accuracy=0.7395833333333334, precision=0.64140625, recall=0.7395833333333334, f1_score=0.6847804190169219\n",
      "Starting run: SVM_poly_C=10_gamma=scale_features=Age_Relationship Status_Occupation_Time Spent_Social Media User?_Q1_Q2_Q3_Q4_Q5_Q6_Q7_Facebook_Instagram_YouTube_Snapchat_Twitter_Discord_Reddit_Pinterest_TikTok\n"
     ]
    },
    {
     "name": "stderr",
     "output_type": "stream",
     "text": [
      "C:\\Users\\ASUS\\anaconda3\\envs\\mycondaenv\\Lib\\site-packages\\sklearn\\metrics\\_classification.py:1517: UndefinedMetricWarning: Precision is ill-defined and being set to 0.0 in labels with no predicted samples. Use `zero_division` parameter to control this behavior.\n",
      "  _warn_prf(average, modifier, f\"{metric.capitalize()} is\", len(result))\n"
     ]
    },
    {
     "name": "stdout",
     "output_type": "stream",
     "text": [
      "Logged run: SVM_poly_C=10_gamma=scale_features=Age_Relationship Status_Occupation_Time Spent_Social Media User?_Q1_Q2_Q3_Q4_Q5_Q6_Q7_Facebook_Instagram_YouTube_Snapchat_Twitter_Discord_Reddit_Pinterest_TikTok with accuracy=0.7395833333333334, precision=0.64140625, recall=0.7395833333333334, f1_score=0.6847804190169219\n",
      "Starting run: SVM_poly_C=10_gamma=scale_features=Age_Sex_Relationship Status_Time Spent_Social Media User?_Q1_Q2_Q3_Q4_Q5_Q6_Q7_Q8_Facebook_Instagram_YouTube_Snapchat_Twitter_Discord_Reddit_Pinterest_TikTok\n"
     ]
    },
    {
     "name": "stderr",
     "output_type": "stream",
     "text": [
      "C:\\Users\\ASUS\\anaconda3\\envs\\mycondaenv\\Lib\\site-packages\\sklearn\\metrics\\_classification.py:1517: UndefinedMetricWarning: Precision is ill-defined and being set to 0.0 in labels with no predicted samples. Use `zero_division` parameter to control this behavior.\n",
      "  _warn_prf(average, modifier, f\"{metric.capitalize()} is\", len(result))\n"
     ]
    },
    {
     "name": "stdout",
     "output_type": "stream",
     "text": [
      "Logged run: SVM_poly_C=10_gamma=scale_features=Age_Sex_Relationship Status_Time Spent_Social Media User?_Q1_Q2_Q3_Q4_Q5_Q6_Q7_Q8_Facebook_Instagram_YouTube_Snapchat_Twitter_Discord_Reddit_Pinterest_TikTok with accuracy=0.7291666666666666, precision=0.6324460163812361, recall=0.7291666666666666, f1_score=0.6761083743842363\n",
      "Starting run: SVM_poly_C=10_gamma=auto_features=Age_Sex_Relationship Status_Occupation_Time Spent_Social Media User?_Q1_Q2_Q3_Q4_Q5_Q6_Q7_Q8_Facebook_Instagram_YouTube_Snapchat_Twitter_Discord_Reddit_Pinterest_TikTok\n",
      "Logged run: SVM_poly_C=10_gamma=auto_features=Age_Sex_Relationship Status_Occupation_Time Spent_Social Media User?_Q1_Q2_Q3_Q4_Q5_Q6_Q7_Q8_Facebook_Instagram_YouTube_Snapchat_Twitter_Discord_Reddit_Pinterest_TikTok with accuracy=0.4895833333333333, precision=0.5368303571428571, recall=0.4895833333333333, f1_score=0.5086358313817331\n",
      "Starting run: SVM_poly_C=10_gamma=auto_features=Age_Relationship Status_Occupation_Time Spent_Social Media User?_Q1_Q2_Q3_Q4_Q5_Q6_Q7_Facebook_Instagram_YouTube_Snapchat_Twitter_Discord_Reddit_Pinterest_TikTok\n",
      "Logged run: SVM_poly_C=10_gamma=auto_features=Age_Relationship Status_Occupation_Time Spent_Social Media User?_Q1_Q2_Q3_Q4_Q5_Q6_Q7_Facebook_Instagram_YouTube_Snapchat_Twitter_Discord_Reddit_Pinterest_TikTok with accuracy=0.5416666666666666, precision=0.5835883994746224, recall=0.5416666666666666, f1_score=0.5584410919540229\n",
      "Starting run: SVM_poly_C=10_gamma=auto_features=Age_Sex_Relationship Status_Time Spent_Social Media User?_Q1_Q2_Q3_Q4_Q5_Q6_Q7_Q8_Facebook_Instagram_YouTube_Snapchat_Twitter_Discord_Reddit_Pinterest_TikTok\n",
      "Logged run: SVM_poly_C=10_gamma=auto_features=Age_Sex_Relationship Status_Time Spent_Social Media User?_Q1_Q2_Q3_Q4_Q5_Q6_Q7_Q8_Facebook_Instagram_YouTube_Snapchat_Twitter_Discord_Reddit_Pinterest_TikTok with accuracy=0.5208333333333334, precision=0.5801700034150089, recall=0.5208333333333334, f1_score=0.5418381694370539\n",
      "Experiment complete. Check MLFlow UI for results.\n"
     ]
    }
   ],
   "source": [
    "kernels = [\"linear\", \"rbf\", \"poly\"]\n",
    "C_values = [0.1, 1, 10]\n",
    "gamma_values = [\"scale\", \"auto\"]\n",
    "feature_combinations = [\n",
    "    [\n",
    "        \"Age\",\n",
    "        \"Sex\",\n",
    "        \"Relationship Status\",\n",
    "        \"Occupation\",\n",
    "        \"Time Spent\",\n",
    "        \"Social Media User?\",\n",
    "        \"Q1\",\n",
    "        \"Q2\",\n",
    "        \"Q3\",\n",
    "        \"Q4\",\n",
    "        \"Q5\",\n",
    "        \"Q6\",\n",
    "        \"Q7\",\n",
    "        \"Q8\",\n",
    "        \"Facebook\",\n",
    "        \"Instagram\",\n",
    "        \"YouTube\",\n",
    "        \"Snapchat\",\n",
    "        \"Twitter\",\n",
    "        \"Discord\",\n",
    "        \"Reddit\",\n",
    "        \"Pinterest\",\n",
    "        \"TikTok\",\n",
    "    ],\n",
    "    [\n",
    "        \"Age\",\n",
    "        \"Relationship Status\",\n",
    "        \"Occupation\",\n",
    "        \"Time Spent\",\n",
    "        \"Social Media User?\",\n",
    "        \"Q1\",\n",
    "        \"Q2\",\n",
    "        \"Q3\",\n",
    "        \"Q4\",\n",
    "        \"Q5\",\n",
    "        \"Q6\",\n",
    "        \"Q7\",\n",
    "        \"Facebook\",\n",
    "        \"Instagram\",\n",
    "        \"YouTube\",\n",
    "        \"Snapchat\",\n",
    "        \"Twitter\",\n",
    "        \"Discord\",\n",
    "        \"Reddit\",\n",
    "        \"Pinterest\",\n",
    "        \"TikTok\",\n",
    "    ],\n",
    "    [\n",
    "        \"Age\",\n",
    "        \"Sex\",\n",
    "        \"Relationship Status\",\n",
    "        \"Time Spent\",\n",
    "        \"Social Media User?\",\n",
    "        \"Q1\",\n",
    "        \"Q2\",\n",
    "        \"Q3\",\n",
    "        \"Q4\",\n",
    "        \"Q5\",\n",
    "        \"Q6\",\n",
    "        \"Q7\",\n",
    "        \"Q8\",\n",
    "        \"Facebook\",\n",
    "        \"Instagram\",\n",
    "        \"YouTube\",\n",
    "        \"Snapchat\",\n",
    "        \"Twitter\",\n",
    "        \"Discord\",\n",
    "        \"Reddit\",\n",
    "        \"Pinterest\",\n",
    "        \"TikTok\",\n",
    "    ],\n",
    "    # Add more feature combinations as needed\n",
    "]\n",
    "\n",
    "for kernel in kernels:\n",
    "    for C in C_values:\n",
    "        for gamma in gamma_values:\n",
    "            for feature_subset in feature_combinations:\n",
    "                train_and_log_model(kernel, C, gamma, feature_subset)\n",
    "\n",
    "print(\"Experiment complete. Check MLFlow UI for results.\")"
   ]
  }
 ],
 "metadata": {
  "kernelspec": {
   "display_name": "mycondaenv",
   "language": "python",
   "name": "mycondaenv"
  }
 },
 "nbformat": 4,
 "nbformat_minor": 5
}
