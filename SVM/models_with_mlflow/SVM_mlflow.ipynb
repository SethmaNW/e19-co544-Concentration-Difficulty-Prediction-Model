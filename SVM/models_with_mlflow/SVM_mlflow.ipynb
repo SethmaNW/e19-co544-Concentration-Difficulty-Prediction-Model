{
 "cells": [
  {
   "cell_type": "code",
   "execution_count": 1,
   "id": "c462dcac-1776-4a9d-814b-38ff8db0c284",
   "metadata": {},
   "outputs": [
    {
     "name": "stdout",
     "output_type": "stream",
     "text": [
      "C:\\Users\\ASUS\\anaconda3\\envs\\mlflowcondaenv\\python.exe\n"
     ]
    }
   ],
   "source": [
    "import sys\n",
    "print(sys.executable)"
   ]
  },
  {
   "cell_type": "code",
   "execution_count": 2,
   "id": "5623c30f",
   "metadata": {},
   "outputs": [
    {
     "name": "stdout",
     "output_type": "stream",
     "text": [
      "Python 3.12.2\n"
     ]
    }
   ],
   "source": [
    "!python --version\n"
   ]
  },
  {
   "cell_type": "markdown",
   "id": "3dcc30d6",
   "metadata": {},
   "source": [
    "Without SMOTE"
   ]
  },
  {
   "cell_type": "code",
   "execution_count": 10,
   "id": "c06f9420",
   "metadata": {},
   "outputs": [],
   "source": [
    "import mlflow\n",
    "import mlflow.sklearn\n",
    "import pandas as pd\n",
    "from sklearn.model_selection import train_test_split\n",
    "from sklearn.svm import SVC\n",
    "from sklearn.metrics import accuracy_score, precision_score, recall_score, f1_score"
   ]
  },
  {
   "cell_type": "code",
   "execution_count": 11,
   "id": "8ae04645",
   "metadata": {},
   "outputs": [
    {
     "data": {
      "text/plain": [
       "<Experiment: artifact_location='file:///C:/Users/ASUS/e19-co544-Concentration-Difficulty-Prediction-Model-1/SVM/models_with_mlflow/mlruns/1', creation_time=1719295951403, experiment_id='1', last_update_time=1719295951403, lifecycle_stage='active', name='SVM Concentration Experiments', tags={}>"
      ]
     },
     "execution_count": 11,
     "metadata": {},
     "output_type": "execute_result"
    }
   ],
   "source": [
    "# Set up MLFlow to use a SQLite database\n",
    "mlflow.set_tracking_uri(\"sqlite:///mlflow.db\")\n",
    "mlflow.set_experiment(\"SVM Concentration Experiments\")"
   ]
  },
  {
   "cell_type": "code",
   "execution_count": 12,
   "id": "9ff3bf1e",
   "metadata": {},
   "outputs": [
    {
     "data": {
      "text/html": [
       "<div>\n",
       "<style scoped>\n",
       "    .dataframe tbody tr th:only-of-type {\n",
       "        vertical-align: middle;\n",
       "    }\n",
       "\n",
       "    .dataframe tbody tr th {\n",
       "        vertical-align: top;\n",
       "    }\n",
       "\n",
       "    .dataframe thead th {\n",
       "        text-align: right;\n",
       "    }\n",
       "</style>\n",
       "<table border=\"1\" class=\"dataframe\">\n",
       "  <thead>\n",
       "    <tr style=\"text-align: right;\">\n",
       "      <th></th>\n",
       "      <th>Age</th>\n",
       "      <th>Sex</th>\n",
       "      <th>Relationship Status</th>\n",
       "      <th>Occupation</th>\n",
       "      <th>Social Media User?</th>\n",
       "      <th>Time Spent</th>\n",
       "      <th>Q1</th>\n",
       "      <th>Q2</th>\n",
       "      <th>Q3</th>\n",
       "      <th>Q4</th>\n",
       "      <th>...</th>\n",
       "      <th>Difficulty_level</th>\n",
       "      <th>Facebook</th>\n",
       "      <th>Instagram</th>\n",
       "      <th>YouTube</th>\n",
       "      <th>Snapchat</th>\n",
       "      <th>Twitter</th>\n",
       "      <th>Discord</th>\n",
       "      <th>Reddit</th>\n",
       "      <th>Pinterest</th>\n",
       "      <th>TikTok</th>\n",
       "    </tr>\n",
       "  </thead>\n",
       "  <tbody>\n",
       "    <tr>\n",
       "      <th>0</th>\n",
       "      <td>24</td>\n",
       "      <td>0</td>\n",
       "      <td>1</td>\n",
       "      <td>2</td>\n",
       "      <td>1</td>\n",
       "      <td>2</td>\n",
       "      <td>3</td>\n",
       "      <td>3</td>\n",
       "      <td>2</td>\n",
       "      <td>2</td>\n",
       "      <td>...</td>\n",
       "      <td>0</td>\n",
       "      <td>1</td>\n",
       "      <td>1</td>\n",
       "      <td>1</td>\n",
       "      <td>0</td>\n",
       "      <td>1</td>\n",
       "      <td>0</td>\n",
       "      <td>0</td>\n",
       "      <td>0</td>\n",
       "      <td>0</td>\n",
       "    </tr>\n",
       "    <tr>\n",
       "      <th>1</th>\n",
       "      <td>46</td>\n",
       "      <td>0</td>\n",
       "      <td>2</td>\n",
       "      <td>2</td>\n",
       "      <td>1</td>\n",
       "      <td>0</td>\n",
       "      <td>2</td>\n",
       "      <td>1</td>\n",
       "      <td>1</td>\n",
       "      <td>1</td>\n",
       "      <td>...</td>\n",
       "      <td>0</td>\n",
       "      <td>1</td>\n",
       "      <td>0</td>\n",
       "      <td>1</td>\n",
       "      <td>0</td>\n",
       "      <td>0</td>\n",
       "      <td>0</td>\n",
       "      <td>0</td>\n",
       "      <td>0</td>\n",
       "      <td>0</td>\n",
       "    </tr>\n",
       "    <tr>\n",
       "      <th>2</th>\n",
       "      <td>30</td>\n",
       "      <td>1</td>\n",
       "      <td>2</td>\n",
       "      <td>2</td>\n",
       "      <td>1</td>\n",
       "      <td>4</td>\n",
       "      <td>2</td>\n",
       "      <td>4</td>\n",
       "      <td>4</td>\n",
       "      <td>2</td>\n",
       "      <td>...</td>\n",
       "      <td>1</td>\n",
       "      <td>1</td>\n",
       "      <td>1</td>\n",
       "      <td>0</td>\n",
       "      <td>0</td>\n",
       "      <td>0</td>\n",
       "      <td>0</td>\n",
       "      <td>0</td>\n",
       "      <td>0</td>\n",
       "      <td>0</td>\n",
       "    </tr>\n",
       "    <tr>\n",
       "      <th>3</th>\n",
       "      <td>56</td>\n",
       "      <td>1</td>\n",
       "      <td>2</td>\n",
       "      <td>3</td>\n",
       "      <td>1</td>\n",
       "      <td>1</td>\n",
       "      <td>1</td>\n",
       "      <td>1</td>\n",
       "      <td>1</td>\n",
       "      <td>1</td>\n",
       "      <td>...</td>\n",
       "      <td>0</td>\n",
       "      <td>0</td>\n",
       "      <td>0</td>\n",
       "      <td>1</td>\n",
       "      <td>0</td>\n",
       "      <td>0</td>\n",
       "      <td>0</td>\n",
       "      <td>0</td>\n",
       "      <td>0</td>\n",
       "      <td>0</td>\n",
       "    </tr>\n",
       "    <tr>\n",
       "      <th>4</th>\n",
       "      <td>19</td>\n",
       "      <td>0</td>\n",
       "      <td>1</td>\n",
       "      <td>1</td>\n",
       "      <td>1</td>\n",
       "      <td>4</td>\n",
       "      <td>3</td>\n",
       "      <td>3</td>\n",
       "      <td>4</td>\n",
       "      <td>3</td>\n",
       "      <td>...</td>\n",
       "      <td>1</td>\n",
       "      <td>1</td>\n",
       "      <td>1</td>\n",
       "      <td>1</td>\n",
       "      <td>0</td>\n",
       "      <td>0</td>\n",
       "      <td>0</td>\n",
       "      <td>0</td>\n",
       "      <td>0</td>\n",
       "      <td>1</td>\n",
       "    </tr>\n",
       "  </tbody>\n",
       "</table>\n",
       "<p>5 rows × 24 columns</p>\n",
       "</div>"
      ],
      "text/plain": [
       "   Age  Sex  Relationship Status  Occupation  Social Media User?  Time Spent  \\\n",
       "0   24    0                    1           2                   1           2   \n",
       "1   46    0                    2           2                   1           0   \n",
       "2   30    1                    2           2                   1           4   \n",
       "3   56    1                    2           3                   1           1   \n",
       "4   19    0                    1           1                   1           4   \n",
       "\n",
       "   Q1  Q2  Q3  Q4  ...  Difficulty_level  Facebook  Instagram  YouTube  \\\n",
       "0   3   3   2   2  ...                 0         1          1        1   \n",
       "1   2   1   1   1  ...                 0         1          0        1   \n",
       "2   2   4   4   2  ...                 1         1          1        0   \n",
       "3   1   1   1   1  ...                 0         0          0        1   \n",
       "4   3   3   4   3  ...                 1         1          1        1   \n",
       "\n",
       "   Snapchat  Twitter  Discord  Reddit  Pinterest  TikTok  \n",
       "0         0        1        0       0          0       0  \n",
       "1         0        0        0       0          0       0  \n",
       "2         0        0        0       0          0       0  \n",
       "3         0        0        0       0          0       0  \n",
       "4         0        0        0       0          0       1  \n",
       "\n",
       "[5 rows x 24 columns]"
      ]
     },
     "execution_count": 12,
     "metadata": {},
     "output_type": "execute_result"
    }
   ],
   "source": [
    "# Load your cleaned dataset\n",
    "train_df = pd.read_csv(\"../../Preprocessing_pipeline/final_data_sets/train_set.csv\")\n",
    "train_df.head()"
   ]
  },
  {
   "cell_type": "code",
   "execution_count": 13,
   "id": "5eb84d0a",
   "metadata": {},
   "outputs": [
    {
     "data": {
      "text/html": [
       "<div>\n",
       "<style scoped>\n",
       "    .dataframe tbody tr th:only-of-type {\n",
       "        vertical-align: middle;\n",
       "    }\n",
       "\n",
       "    .dataframe tbody tr th {\n",
       "        vertical-align: top;\n",
       "    }\n",
       "\n",
       "    .dataframe thead th {\n",
       "        text-align: right;\n",
       "    }\n",
       "</style>\n",
       "<table border=\"1\" class=\"dataframe\">\n",
       "  <thead>\n",
       "    <tr style=\"text-align: right;\">\n",
       "      <th></th>\n",
       "      <th>Age</th>\n",
       "      <th>Sex</th>\n",
       "      <th>Relationship Status</th>\n",
       "      <th>Occupation</th>\n",
       "      <th>Social Media User?</th>\n",
       "      <th>Time Spent</th>\n",
       "      <th>Q1</th>\n",
       "      <th>Q2</th>\n",
       "      <th>Q3</th>\n",
       "      <th>Q4</th>\n",
       "      <th>...</th>\n",
       "      <th>Difficulty_level</th>\n",
       "      <th>Facebook</th>\n",
       "      <th>Instagram</th>\n",
       "      <th>YouTube</th>\n",
       "      <th>Snapchat</th>\n",
       "      <th>Twitter</th>\n",
       "      <th>Discord</th>\n",
       "      <th>Reddit</th>\n",
       "      <th>Pinterest</th>\n",
       "      <th>TikTok</th>\n",
       "    </tr>\n",
       "  </thead>\n",
       "  <tbody>\n",
       "    <tr>\n",
       "      <th>0</th>\n",
       "      <td>38</td>\n",
       "      <td>0</td>\n",
       "      <td>2</td>\n",
       "      <td>2</td>\n",
       "      <td>1</td>\n",
       "      <td>1</td>\n",
       "      <td>5</td>\n",
       "      <td>2</td>\n",
       "      <td>1</td>\n",
       "      <td>1</td>\n",
       "      <td>...</td>\n",
       "      <td>0</td>\n",
       "      <td>0</td>\n",
       "      <td>0</td>\n",
       "      <td>1</td>\n",
       "      <td>0</td>\n",
       "      <td>1</td>\n",
       "      <td>1</td>\n",
       "      <td>1</td>\n",
       "      <td>0</td>\n",
       "      <td>0</td>\n",
       "    </tr>\n",
       "    <tr>\n",
       "      <th>1</th>\n",
       "      <td>18</td>\n",
       "      <td>0</td>\n",
       "      <td>1</td>\n",
       "      <td>1</td>\n",
       "      <td>1</td>\n",
       "      <td>3</td>\n",
       "      <td>4</td>\n",
       "      <td>5</td>\n",
       "      <td>4</td>\n",
       "      <td>3</td>\n",
       "      <td>...</td>\n",
       "      <td>1</td>\n",
       "      <td>1</td>\n",
       "      <td>1</td>\n",
       "      <td>1</td>\n",
       "      <td>0</td>\n",
       "      <td>0</td>\n",
       "      <td>1</td>\n",
       "      <td>0</td>\n",
       "      <td>0</td>\n",
       "      <td>0</td>\n",
       "    </tr>\n",
       "    <tr>\n",
       "      <th>2</th>\n",
       "      <td>27</td>\n",
       "      <td>1</td>\n",
       "      <td>2</td>\n",
       "      <td>2</td>\n",
       "      <td>1</td>\n",
       "      <td>1</td>\n",
       "      <td>4</td>\n",
       "      <td>2</td>\n",
       "      <td>1</td>\n",
       "      <td>4</td>\n",
       "      <td>...</td>\n",
       "      <td>0</td>\n",
       "      <td>1</td>\n",
       "      <td>1</td>\n",
       "      <td>1</td>\n",
       "      <td>1</td>\n",
       "      <td>0</td>\n",
       "      <td>0</td>\n",
       "      <td>0</td>\n",
       "      <td>0</td>\n",
       "      <td>0</td>\n",
       "    </tr>\n",
       "    <tr>\n",
       "      <th>3</th>\n",
       "      <td>26</td>\n",
       "      <td>0</td>\n",
       "      <td>1</td>\n",
       "      <td>2</td>\n",
       "      <td>1</td>\n",
       "      <td>5</td>\n",
       "      <td>5</td>\n",
       "      <td>5</td>\n",
       "      <td>5</td>\n",
       "      <td>1</td>\n",
       "      <td>...</td>\n",
       "      <td>2</td>\n",
       "      <td>1</td>\n",
       "      <td>1</td>\n",
       "      <td>1</td>\n",
       "      <td>0</td>\n",
       "      <td>0</td>\n",
       "      <td>1</td>\n",
       "      <td>0</td>\n",
       "      <td>0</td>\n",
       "      <td>0</td>\n",
       "    </tr>\n",
       "    <tr>\n",
       "      <th>4</th>\n",
       "      <td>19</td>\n",
       "      <td>0</td>\n",
       "      <td>1</td>\n",
       "      <td>0</td>\n",
       "      <td>1</td>\n",
       "      <td>3</td>\n",
       "      <td>4</td>\n",
       "      <td>2</td>\n",
       "      <td>3</td>\n",
       "      <td>2</td>\n",
       "      <td>...</td>\n",
       "      <td>1</td>\n",
       "      <td>1</td>\n",
       "      <td>0</td>\n",
       "      <td>1</td>\n",
       "      <td>0</td>\n",
       "      <td>0</td>\n",
       "      <td>0</td>\n",
       "      <td>0</td>\n",
       "      <td>0</td>\n",
       "      <td>0</td>\n",
       "    </tr>\n",
       "  </tbody>\n",
       "</table>\n",
       "<p>5 rows × 24 columns</p>\n",
       "</div>"
      ],
      "text/plain": [
       "   Age  Sex  Relationship Status  Occupation  Social Media User?  Time Spent  \\\n",
       "0   38    0                    2           2                   1           1   \n",
       "1   18    0                    1           1                   1           3   \n",
       "2   27    1                    2           2                   1           1   \n",
       "3   26    0                    1           2                   1           5   \n",
       "4   19    0                    1           0                   1           3   \n",
       "\n",
       "   Q1  Q2  Q3  Q4  ...  Difficulty_level  Facebook  Instagram  YouTube  \\\n",
       "0   5   2   1   1  ...                 0         0          0        1   \n",
       "1   4   5   4   3  ...                 1         1          1        1   \n",
       "2   4   2   1   4  ...                 0         1          1        1   \n",
       "3   5   5   5   1  ...                 2         1          1        1   \n",
       "4   4   2   3   2  ...                 1         1          0        1   \n",
       "\n",
       "   Snapchat  Twitter  Discord  Reddit  Pinterest  TikTok  \n",
       "0         0        1        1       1          0       0  \n",
       "1         0        0        1       0          0       0  \n",
       "2         1        0        0       0          0       0  \n",
       "3         0        0        1       0          0       0  \n",
       "4         0        0        0       0          0       0  \n",
       "\n",
       "[5 rows x 24 columns]"
      ]
     },
     "execution_count": 13,
     "metadata": {},
     "output_type": "execute_result"
    }
   ],
   "source": [
    "test_df = pd.read_csv(\"../../Preprocessing_pipeline/final_data_sets/test_set.csv\")\n",
    "test_df.head()"
   ]
  },
  {
   "cell_type": "code",
   "execution_count": 14,
   "id": "fdacd9fe",
   "metadata": {},
   "outputs": [],
   "source": [
    "x_train = train_df.drop(columns=[\"Difficulty_level\"])\n",
    "y_train = train_df[\"Difficulty_level\"]"
   ]
  },
  {
   "cell_type": "code",
   "execution_count": 15,
   "id": "7cfa4e3c",
   "metadata": {},
   "outputs": [],
   "source": [
    "x_test = test_df.drop(columns=[\"Difficulty_level\"])\n",
    "y_test = test_df[\"Difficulty_level\"]"
   ]
  },
  {
   "cell_type": "code",
   "execution_count": 16,
   "id": "faddf26e",
   "metadata": {},
   "outputs": [],
   "source": [
    "def train_and_log_model(kernel, C, gamma, feature_subset):\n",
    "    # Select the subset of features\n",
    "    X_train_subset = x_train[feature_subset]\n",
    "    X_test_subset = x_test[feature_subset]\n",
    "\n",
    "    # Initialize the SVM model with parameters\n",
    "    model = SVC(kernel=kernel, C=C, gamma=gamma)\n",
    "\n",
    "    # Create a unique run name\n",
    "    run_name = f\"SVM_{kernel}_C={C}_gamma={gamma}_features={'_'.join(feature_subset)}\"\n",
    "\n",
    "    # Print the run details for debugging\n",
    "    print(f\"Starting run: {run_name}\")\n",
    "\n",
    "    # Start an MLFlow run\n",
    "    with mlflow.start_run(run_name=run_name):\n",
    "        # Train the model\n",
    "        model.fit(X_train_subset, y_train)\n",
    "\n",
    "        # Make predictions\n",
    "        y_pred = model.predict(X_test_subset)\n",
    "\n",
    "        # Calculate metrics\n",
    "        accuracy = accuracy_score(y_test, y_pred)\n",
    "        precision = precision_score(y_test, y_pred, average=\"weighted\")\n",
    "        recall = recall_score(y_test, y_pred, average=\"weighted\")\n",
    "        f1 = f1_score(y_test, y_pred, average=\"weighted\")\n",
    "\n",
    "        # Log parameters and metrics\n",
    "        mlflow.log_param(\"kernel\", kernel)\n",
    "        mlflow.log_param(\"C\", C)\n",
    "        mlflow.log_param(\"gamma\", gamma)\n",
    "        mlflow.log_param(\"features\", feature_subset)\n",
    "\n",
    "        mlflow.log_metric(\"accuracy\", accuracy)\n",
    "        mlflow.log_metric(\"precision\", precision)\n",
    "        mlflow.log_metric(\"recall\", recall)\n",
    "        mlflow.log_metric(\"f1_score\", f1)\n",
    "\n",
    "        # Log the model\n",
    "        mlflow.sklearn.log_model(model, \"model\")\n",
    "\n",
    "        # Print the metrics for debugging\n",
    "        print(\n",
    "            f\"Logged run: {run_name} with accuracy={accuracy}, precision={precision}, recall={recall}, f1_score={f1}\"\n",
    "        )"
   ]
  },
  {
   "cell_type": "code",
   "execution_count": 17,
   "id": "55185f78",
   "metadata": {},
   "outputs": [],
   "source": [
    "kernels = [\"linear\", \"rbf\", \"poly\"]\n",
    "C_values = [0.1, 1, 10]\n",
    "gamma_values = [\"scale\", \"auto\"]\n",
    "feature_combinations = [\n",
    "    [\n",
    "        \"Age\",\n",
    "        \"Sex\",\n",
    "        \"Relationship Status\",\n",
    "        \"Occupation\",\n",
    "        \"Time Spent\",\n",
    "        \"Social Media User?\",\n",
    "        \"Q1\",\n",
    "        \"Q2\",\n",
    "        \"Q3\",\n",
    "        \"Q4\",\n",
    "        \"Q5\",\n",
    "        \"Q6\",\n",
    "        \"Q7\",\n",
    "        \"Q8\",\n",
    "        \"Facebook\",\n",
    "        \"Instagram\",\n",
    "        \"YouTube\",\n",
    "        \"Snapchat\",\n",
    "        \"Twitter\",\n",
    "        \"Discord\",\n",
    "        \"Reddit\",\n",
    "        \"Pinterest\",\n",
    "        \"TikTok\",\n",
    "    ],\n",
    "    [\n",
    "        \"Age\",\n",
    "        \"Relationship Status\",\n",
    "        \"Occupation\",\n",
    "        \"Time Spent\",\n",
    "        \"Social Media User?\",\n",
    "        \"Q1\",\n",
    "        \"Q2\",\n",
    "        \"Q3\",\n",
    "        \"Q4\",\n",
    "        \"Q5\",\n",
    "        \"Q6\",\n",
    "        \"Q7\",\n",
    "        \"Facebook\",\n",
    "        \"Instagram\",\n",
    "        \"YouTube\",\n",
    "        \"Snapchat\",\n",
    "        \"Twitter\",\n",
    "        \"Discord\",\n",
    "        \"Reddit\",\n",
    "        \"Pinterest\",\n",
    "        \"TikTok\",\n",
    "    ],\n",
    "    [\n",
    "        \"Age\",\n",
    "        \"Sex\",\n",
    "        \"Relationship Status\",\n",
    "        \"Time Spent\",\n",
    "        \"Social Media User?\",\n",
    "        \"Q1\",\n",
    "        \"Q2\",\n",
    "        \"Q3\",\n",
    "        \"Q4\",\n",
    "        \"Q5\",\n",
    "        \"Q6\",\n",
    "        \"Q7\",\n",
    "        \"Q8\",\n",
    "        \"Facebook\",\n",
    "        \"Instagram\",\n",
    "        \"YouTube\",\n",
    "        \"Snapchat\",\n",
    "        \"Twitter\",\n",
    "        \"Discord\",\n",
    "        \"Reddit\",\n",
    "        \"Pinterest\",\n",
    "        \"TikTok\",\n",
    "    ],\n",
    "    # Add more feature combinations as needed\n",
    "]"
   ]
  },
  {
   "cell_type": "code",
   "execution_count": 18,
   "id": "65c29b6c",
   "metadata": {},
   "outputs": [
    {
     "name": "stdout",
     "output_type": "stream",
     "text": [
      "Starting run: SVM_linear_C=0.1_gamma=scale_features=Age_Sex_Relationship Status_Occupation_Time Spent_Social Media User?_Q1_Q2_Q3_Q4_Q5_Q6_Q7_Q8_Facebook_Instagram_YouTube_Snapchat_Twitter_Discord_Reddit_Pinterest_TikTok\n"
     ]
    },
    {
     "name": "stderr",
     "output_type": "stream",
     "text": [
      "C:\\Users\\ASUS\\anaconda3\\envs\\mlflowcondaenv\\Lib\\site-packages\\sklearn\\metrics\\_classification.py:1517: UndefinedMetricWarning: Precision is ill-defined and being set to 0.0 in labels with no predicted samples. Use `zero_division` parameter to control this behavior.\n",
      "  _warn_prf(average, modifier, f\"{metric.capitalize()} is\", len(result))\n"
     ]
    },
    {
     "name": "stdout",
     "output_type": "stream",
     "text": [
      "Logged run: SVM_linear_C=0.1_gamma=scale_features=Age_Sex_Relationship Status_Occupation_Time Spent_Social Media User?_Q1_Q2_Q3_Q4_Q5_Q6_Q7_Q8_Facebook_Instagram_YouTube_Snapchat_Twitter_Discord_Reddit_Pinterest_TikTok with accuracy=0.7291666666666666, precision=0.6353383458646618, recall=0.7291666666666666, f1_score=0.6787941787941789\n",
      "Starting run: SVM_linear_C=0.1_gamma=scale_features=Age_Relationship Status_Occupation_Time Spent_Social Media User?_Q1_Q2_Q3_Q4_Q5_Q6_Q7_Facebook_Instagram_YouTube_Snapchat_Twitter_Discord_Reddit_Pinterest_TikTok\n"
     ]
    },
    {
     "name": "stderr",
     "output_type": "stream",
     "text": [
      "C:\\Users\\ASUS\\anaconda3\\envs\\mlflowcondaenv\\Lib\\site-packages\\sklearn\\metrics\\_classification.py:1517: UndefinedMetricWarning: Precision is ill-defined and being set to 0.0 in labels with no predicted samples. Use `zero_division` parameter to control this behavior.\n",
      "  _warn_prf(average, modifier, f\"{metric.capitalize()} is\", len(result))\n"
     ]
    },
    {
     "name": "stdout",
     "output_type": "stream",
     "text": [
      "Logged run: SVM_linear_C=0.1_gamma=scale_features=Age_Relationship Status_Occupation_Time Spent_Social Media User?_Q1_Q2_Q3_Q4_Q5_Q6_Q7_Facebook_Instagram_YouTube_Snapchat_Twitter_Discord_Reddit_Pinterest_TikTok with accuracy=0.7395833333333334, precision=0.6434294871794872, recall=0.7395833333333334, f1_score=0.6875\n",
      "Starting run: SVM_linear_C=0.1_gamma=scale_features=Age_Sex_Relationship Status_Time Spent_Social Media User?_Q1_Q2_Q3_Q4_Q5_Q6_Q7_Q8_Facebook_Instagram_YouTube_Snapchat_Twitter_Discord_Reddit_Pinterest_TikTok\n"
     ]
    },
    {
     "name": "stderr",
     "output_type": "stream",
     "text": [
      "C:\\Users\\ASUS\\anaconda3\\envs\\mlflowcondaenv\\Lib\\site-packages\\sklearn\\metrics\\_classification.py:1517: UndefinedMetricWarning: Precision is ill-defined and being set to 0.0 in labels with no predicted samples. Use `zero_division` parameter to control this behavior.\n",
      "  _warn_prf(average, modifier, f\"{metric.capitalize()} is\", len(result))\n"
     ]
    },
    {
     "name": "stdout",
     "output_type": "stream",
     "text": [
      "Logged run: SVM_linear_C=0.1_gamma=scale_features=Age_Sex_Relationship Status_Time Spent_Social Media User?_Q1_Q2_Q3_Q4_Q5_Q6_Q7_Q8_Facebook_Instagram_YouTube_Snapchat_Twitter_Discord_Reddit_Pinterest_TikTok with accuracy=0.7395833333333334, precision=0.6434294871794872, recall=0.7395833333333334, f1_score=0.6875\n",
      "Starting run: SVM_linear_C=0.1_gamma=auto_features=Age_Sex_Relationship Status_Occupation_Time Spent_Social Media User?_Q1_Q2_Q3_Q4_Q5_Q6_Q7_Q8_Facebook_Instagram_YouTube_Snapchat_Twitter_Discord_Reddit_Pinterest_TikTok\n"
     ]
    },
    {
     "name": "stderr",
     "output_type": "stream",
     "text": [
      "C:\\Users\\ASUS\\anaconda3\\envs\\mlflowcondaenv\\Lib\\site-packages\\sklearn\\metrics\\_classification.py:1517: UndefinedMetricWarning: Precision is ill-defined and being set to 0.0 in labels with no predicted samples. Use `zero_division` parameter to control this behavior.\n",
      "  _warn_prf(average, modifier, f\"{metric.capitalize()} is\", len(result))\n"
     ]
    },
    {
     "name": "stdout",
     "output_type": "stream",
     "text": [
      "Logged run: SVM_linear_C=0.1_gamma=auto_features=Age_Sex_Relationship Status_Occupation_Time Spent_Social Media User?_Q1_Q2_Q3_Q4_Q5_Q6_Q7_Q8_Facebook_Instagram_YouTube_Snapchat_Twitter_Discord_Reddit_Pinterest_TikTok with accuracy=0.7291666666666666, precision=0.6353383458646618, recall=0.7291666666666666, f1_score=0.6787941787941789\n",
      "Starting run: SVM_linear_C=0.1_gamma=auto_features=Age_Relationship Status_Occupation_Time Spent_Social Media User?_Q1_Q2_Q3_Q4_Q5_Q6_Q7_Facebook_Instagram_YouTube_Snapchat_Twitter_Discord_Reddit_Pinterest_TikTok\n"
     ]
    },
    {
     "name": "stderr",
     "output_type": "stream",
     "text": [
      "C:\\Users\\ASUS\\anaconda3\\envs\\mlflowcondaenv\\Lib\\site-packages\\sklearn\\metrics\\_classification.py:1517: UndefinedMetricWarning: Precision is ill-defined and being set to 0.0 in labels with no predicted samples. Use `zero_division` parameter to control this behavior.\n",
      "  _warn_prf(average, modifier, f\"{metric.capitalize()} is\", len(result))\n"
     ]
    },
    {
     "name": "stdout",
     "output_type": "stream",
     "text": [
      "Logged run: SVM_linear_C=0.1_gamma=auto_features=Age_Relationship Status_Occupation_Time Spent_Social Media User?_Q1_Q2_Q3_Q4_Q5_Q6_Q7_Facebook_Instagram_YouTube_Snapchat_Twitter_Discord_Reddit_Pinterest_TikTok with accuracy=0.7395833333333334, precision=0.6434294871794872, recall=0.7395833333333334, f1_score=0.6875\n",
      "Starting run: SVM_linear_C=0.1_gamma=auto_features=Age_Sex_Relationship Status_Time Spent_Social Media User?_Q1_Q2_Q3_Q4_Q5_Q6_Q7_Q8_Facebook_Instagram_YouTube_Snapchat_Twitter_Discord_Reddit_Pinterest_TikTok\n"
     ]
    },
    {
     "name": "stderr",
     "output_type": "stream",
     "text": [
      "C:\\Users\\ASUS\\anaconda3\\envs\\mlflowcondaenv\\Lib\\site-packages\\sklearn\\metrics\\_classification.py:1517: UndefinedMetricWarning: Precision is ill-defined and being set to 0.0 in labels with no predicted samples. Use `zero_division` parameter to control this behavior.\n",
      "  _warn_prf(average, modifier, f\"{metric.capitalize()} is\", len(result))\n"
     ]
    },
    {
     "name": "stdout",
     "output_type": "stream",
     "text": [
      "Logged run: SVM_linear_C=0.1_gamma=auto_features=Age_Sex_Relationship Status_Time Spent_Social Media User?_Q1_Q2_Q3_Q4_Q5_Q6_Q7_Q8_Facebook_Instagram_YouTube_Snapchat_Twitter_Discord_Reddit_Pinterest_TikTok with accuracy=0.7395833333333334, precision=0.6434294871794872, recall=0.7395833333333334, f1_score=0.6875\n",
      "Starting run: SVM_linear_C=1_gamma=scale_features=Age_Sex_Relationship Status_Occupation_Time Spent_Social Media User?_Q1_Q2_Q3_Q4_Q5_Q6_Q7_Q8_Facebook_Instagram_YouTube_Snapchat_Twitter_Discord_Reddit_Pinterest_TikTok\n",
      "Logged run: SVM_linear_C=1_gamma=scale_features=Age_Sex_Relationship Status_Occupation_Time Spent_Social Media User?_Q1_Q2_Q3_Q4_Q5_Q6_Q7_Q8_Facebook_Instagram_YouTube_Snapchat_Twitter_Discord_Reddit_Pinterest_TikTok with accuracy=0.6979166666666666, precision=0.6237179487179487, recall=0.6979166666666666, f1_score=0.6560921717171717\n",
      "Starting run: SVM_linear_C=1_gamma=scale_features=Age_Relationship Status_Occupation_Time Spent_Social Media User?_Q1_Q2_Q3_Q4_Q5_Q6_Q7_Facebook_Instagram_YouTube_Snapchat_Twitter_Discord_Reddit_Pinterest_TikTok\n",
      "Logged run: SVM_linear_C=1_gamma=scale_features=Age_Relationship Status_Occupation_Time Spent_Social Media User?_Q1_Q2_Q3_Q4_Q5_Q6_Q7_Facebook_Instagram_YouTube_Snapchat_Twitter_Discord_Reddit_Pinterest_TikTok with accuracy=0.71875, precision=0.6766318369453045, recall=0.71875, f1_score=0.6854292421193829\n",
      "Starting run: SVM_linear_C=1_gamma=scale_features=Age_Sex_Relationship Status_Time Spent_Social Media User?_Q1_Q2_Q3_Q4_Q5_Q6_Q7_Q8_Facebook_Instagram_YouTube_Snapchat_Twitter_Discord_Reddit_Pinterest_TikTok\n",
      "Logged run: SVM_linear_C=1_gamma=scale_features=Age_Sex_Relationship Status_Time Spent_Social Media User?_Q1_Q2_Q3_Q4_Q5_Q6_Q7_Q8_Facebook_Instagram_YouTube_Snapchat_Twitter_Discord_Reddit_Pinterest_TikTok with accuracy=0.7083333333333334, precision=0.6616071428571428, recall=0.7083333333333334, f1_score=0.6755900349650349\n",
      "Starting run: SVM_linear_C=1_gamma=auto_features=Age_Sex_Relationship Status_Occupation_Time Spent_Social Media User?_Q1_Q2_Q3_Q4_Q5_Q6_Q7_Q8_Facebook_Instagram_YouTube_Snapchat_Twitter_Discord_Reddit_Pinterest_TikTok\n",
      "Logged run: SVM_linear_C=1_gamma=auto_features=Age_Sex_Relationship Status_Occupation_Time Spent_Social Media User?_Q1_Q2_Q3_Q4_Q5_Q6_Q7_Q8_Facebook_Instagram_YouTube_Snapchat_Twitter_Discord_Reddit_Pinterest_TikTok with accuracy=0.6979166666666666, precision=0.6237179487179487, recall=0.6979166666666666, f1_score=0.6560921717171717\n",
      "Starting run: SVM_linear_C=1_gamma=auto_features=Age_Relationship Status_Occupation_Time Spent_Social Media User?_Q1_Q2_Q3_Q4_Q5_Q6_Q7_Facebook_Instagram_YouTube_Snapchat_Twitter_Discord_Reddit_Pinterest_TikTok\n",
      "Logged run: SVM_linear_C=1_gamma=auto_features=Age_Relationship Status_Occupation_Time Spent_Social Media User?_Q1_Q2_Q3_Q4_Q5_Q6_Q7_Facebook_Instagram_YouTube_Snapchat_Twitter_Discord_Reddit_Pinterest_TikTok with accuracy=0.71875, precision=0.6766318369453045, recall=0.71875, f1_score=0.6854292421193829\n",
      "Starting run: SVM_linear_C=1_gamma=auto_features=Age_Sex_Relationship Status_Time Spent_Social Media User?_Q1_Q2_Q3_Q4_Q5_Q6_Q7_Q8_Facebook_Instagram_YouTube_Snapchat_Twitter_Discord_Reddit_Pinterest_TikTok\n",
      "Logged run: SVM_linear_C=1_gamma=auto_features=Age_Sex_Relationship Status_Time Spent_Social Media User?_Q1_Q2_Q3_Q4_Q5_Q6_Q7_Q8_Facebook_Instagram_YouTube_Snapchat_Twitter_Discord_Reddit_Pinterest_TikTok with accuracy=0.7083333333333334, precision=0.6616071428571428, recall=0.7083333333333334, f1_score=0.6755900349650349\n",
      "Starting run: SVM_linear_C=10_gamma=scale_features=Age_Sex_Relationship Status_Occupation_Time Spent_Social Media User?_Q1_Q2_Q3_Q4_Q5_Q6_Q7_Q8_Facebook_Instagram_YouTube_Snapchat_Twitter_Discord_Reddit_Pinterest_TikTok\n",
      "Logged run: SVM_linear_C=10_gamma=scale_features=Age_Sex_Relationship Status_Occupation_Time Spent_Social Media User?_Q1_Q2_Q3_Q4_Q5_Q6_Q7_Q8_Facebook_Instagram_YouTube_Snapchat_Twitter_Discord_Reddit_Pinterest_TikTok with accuracy=0.7083333333333334, precision=0.6259493670886075, recall=0.7083333333333334, f1_score=0.6617554858934169\n",
      "Starting run: SVM_linear_C=10_gamma=scale_features=Age_Relationship Status_Occupation_Time Spent_Social Media User?_Q1_Q2_Q3_Q4_Q5_Q6_Q7_Facebook_Instagram_YouTube_Snapchat_Twitter_Discord_Reddit_Pinterest_TikTok\n",
      "Logged run: SVM_linear_C=10_gamma=scale_features=Age_Relationship Status_Occupation_Time Spent_Social Media User?_Q1_Q2_Q3_Q4_Q5_Q6_Q7_Facebook_Instagram_YouTube_Snapchat_Twitter_Discord_Reddit_Pinterest_TikTok with accuracy=0.7083333333333334, precision=0.6281512605042017, recall=0.7083333333333334, f1_score=0.6648351648351648\n",
      "Starting run: SVM_linear_C=10_gamma=scale_features=Age_Sex_Relationship Status_Time Spent_Social Media User?_Q1_Q2_Q3_Q4_Q5_Q6_Q7_Q8_Facebook_Instagram_YouTube_Snapchat_Twitter_Discord_Reddit_Pinterest_TikTok\n",
      "Logged run: SVM_linear_C=10_gamma=scale_features=Age_Sex_Relationship Status_Time Spent_Social Media User?_Q1_Q2_Q3_Q4_Q5_Q6_Q7_Q8_Facebook_Instagram_YouTube_Snapchat_Twitter_Discord_Reddit_Pinterest_TikTok with accuracy=0.7083333333333334, precision=0.6616071428571428, recall=0.7083333333333334, f1_score=0.6755900349650349\n",
      "Starting run: SVM_linear_C=10_gamma=auto_features=Age_Sex_Relationship Status_Occupation_Time Spent_Social Media User?_Q1_Q2_Q3_Q4_Q5_Q6_Q7_Q8_Facebook_Instagram_YouTube_Snapchat_Twitter_Discord_Reddit_Pinterest_TikTok\n",
      "Logged run: SVM_linear_C=10_gamma=auto_features=Age_Sex_Relationship Status_Occupation_Time Spent_Social Media User?_Q1_Q2_Q3_Q4_Q5_Q6_Q7_Q8_Facebook_Instagram_YouTube_Snapchat_Twitter_Discord_Reddit_Pinterest_TikTok with accuracy=0.7083333333333334, precision=0.6259493670886075, recall=0.7083333333333334, f1_score=0.6617554858934169\n",
      "Starting run: SVM_linear_C=10_gamma=auto_features=Age_Relationship Status_Occupation_Time Spent_Social Media User?_Q1_Q2_Q3_Q4_Q5_Q6_Q7_Facebook_Instagram_YouTube_Snapchat_Twitter_Discord_Reddit_Pinterest_TikTok\n",
      "Logged run: SVM_linear_C=10_gamma=auto_features=Age_Relationship Status_Occupation_Time Spent_Social Media User?_Q1_Q2_Q3_Q4_Q5_Q6_Q7_Facebook_Instagram_YouTube_Snapchat_Twitter_Discord_Reddit_Pinterest_TikTok with accuracy=0.7083333333333334, precision=0.6281512605042017, recall=0.7083333333333334, f1_score=0.6648351648351648\n",
      "Starting run: SVM_linear_C=10_gamma=auto_features=Age_Sex_Relationship Status_Time Spent_Social Media User?_Q1_Q2_Q3_Q4_Q5_Q6_Q7_Q8_Facebook_Instagram_YouTube_Snapchat_Twitter_Discord_Reddit_Pinterest_TikTok\n",
      "Logged run: SVM_linear_C=10_gamma=auto_features=Age_Sex_Relationship Status_Time Spent_Social Media User?_Q1_Q2_Q3_Q4_Q5_Q6_Q7_Q8_Facebook_Instagram_YouTube_Snapchat_Twitter_Discord_Reddit_Pinterest_TikTok with accuracy=0.7083333333333334, precision=0.6616071428571428, recall=0.7083333333333334, f1_score=0.6755900349650349\n",
      "Starting run: SVM_rbf_C=0.1_gamma=scale_features=Age_Sex_Relationship Status_Occupation_Time Spent_Social Media User?_Q1_Q2_Q3_Q4_Q5_Q6_Q7_Q8_Facebook_Instagram_YouTube_Snapchat_Twitter_Discord_Reddit_Pinterest_TikTok\n"
     ]
    },
    {
     "name": "stderr",
     "output_type": "stream",
     "text": [
      "C:\\Users\\ASUS\\anaconda3\\envs\\mlflowcondaenv\\Lib\\site-packages\\sklearn\\metrics\\_classification.py:1517: UndefinedMetricWarning: Precision is ill-defined and being set to 0.0 in labels with no predicted samples. Use `zero_division` parameter to control this behavior.\n",
      "  _warn_prf(average, modifier, f\"{metric.capitalize()} is\", len(result))\n"
     ]
    },
    {
     "name": "stdout",
     "output_type": "stream",
     "text": [
      "Logged run: SVM_rbf_C=0.1_gamma=scale_features=Age_Sex_Relationship Status_Occupation_Time Spent_Social Media User?_Q1_Q2_Q3_Q4_Q5_Q6_Q7_Q8_Facebook_Instagram_YouTube_Snapchat_Twitter_Discord_Reddit_Pinterest_TikTok with accuracy=0.7083333333333334, precision=0.609375, recall=0.7083333333333334, f1_score=0.6346153846153846\n",
      "Starting run: SVM_rbf_C=0.1_gamma=scale_features=Age_Relationship Status_Occupation_Time Spent_Social Media User?_Q1_Q2_Q3_Q4_Q5_Q6_Q7_Facebook_Instagram_YouTube_Snapchat_Twitter_Discord_Reddit_Pinterest_TikTok\n"
     ]
    },
    {
     "name": "stderr",
     "output_type": "stream",
     "text": [
      "C:\\Users\\ASUS\\anaconda3\\envs\\mlflowcondaenv\\Lib\\site-packages\\sklearn\\metrics\\_classification.py:1517: UndefinedMetricWarning: Precision is ill-defined and being set to 0.0 in labels with no predicted samples. Use `zero_division` parameter to control this behavior.\n",
      "  _warn_prf(average, modifier, f\"{metric.capitalize()} is\", len(result))\n"
     ]
    },
    {
     "name": "stdout",
     "output_type": "stream",
     "text": [
      "Logged run: SVM_rbf_C=0.1_gamma=scale_features=Age_Relationship Status_Occupation_Time Spent_Social Media User?_Q1_Q2_Q3_Q4_Q5_Q6_Q7_Facebook_Instagram_YouTube_Snapchat_Twitter_Discord_Reddit_Pinterest_TikTok with accuracy=0.7083333333333334, precision=0.609375, recall=0.7083333333333334, f1_score=0.6346153846153846\n",
      "Starting run: SVM_rbf_C=0.1_gamma=scale_features=Age_Sex_Relationship Status_Time Spent_Social Media User?_Q1_Q2_Q3_Q4_Q5_Q6_Q7_Q8_Facebook_Instagram_YouTube_Snapchat_Twitter_Discord_Reddit_Pinterest_TikTok\n"
     ]
    },
    {
     "name": "stderr",
     "output_type": "stream",
     "text": [
      "C:\\Users\\ASUS\\anaconda3\\envs\\mlflowcondaenv\\Lib\\site-packages\\sklearn\\metrics\\_classification.py:1517: UndefinedMetricWarning: Precision is ill-defined and being set to 0.0 in labels with no predicted samples. Use `zero_division` parameter to control this behavior.\n",
      "  _warn_prf(average, modifier, f\"{metric.capitalize()} is\", len(result))\n"
     ]
    },
    {
     "name": "stdout",
     "output_type": "stream",
     "text": [
      "Logged run: SVM_rbf_C=0.1_gamma=scale_features=Age_Sex_Relationship Status_Time Spent_Social Media User?_Q1_Q2_Q3_Q4_Q5_Q6_Q7_Q8_Facebook_Instagram_YouTube_Snapchat_Twitter_Discord_Reddit_Pinterest_TikTok with accuracy=0.7083333333333334, precision=0.609375, recall=0.7083333333333334, f1_score=0.6346153846153846\n",
      "Starting run: SVM_rbf_C=0.1_gamma=auto_features=Age_Sex_Relationship Status_Occupation_Time Spent_Social Media User?_Q1_Q2_Q3_Q4_Q5_Q6_Q7_Q8_Facebook_Instagram_YouTube_Snapchat_Twitter_Discord_Reddit_Pinterest_TikTok\n"
     ]
    },
    {
     "name": "stderr",
     "output_type": "stream",
     "text": [
      "C:\\Users\\ASUS\\anaconda3\\envs\\mlflowcondaenv\\Lib\\site-packages\\sklearn\\metrics\\_classification.py:1517: UndefinedMetricWarning: Precision is ill-defined and being set to 0.0 in labels with no predicted samples. Use `zero_division` parameter to control this behavior.\n",
      "  _warn_prf(average, modifier, f\"{metric.capitalize()} is\", len(result))\n"
     ]
    },
    {
     "name": "stdout",
     "output_type": "stream",
     "text": [
      "Logged run: SVM_rbf_C=0.1_gamma=auto_features=Age_Sex_Relationship Status_Occupation_Time Spent_Social Media User?_Q1_Q2_Q3_Q4_Q5_Q6_Q7_Q8_Facebook_Instagram_YouTube_Snapchat_Twitter_Discord_Reddit_Pinterest_TikTok with accuracy=0.6875, precision=0.47265625, recall=0.6875, f1_score=0.5601851851851851\n",
      "Starting run: SVM_rbf_C=0.1_gamma=auto_features=Age_Relationship Status_Occupation_Time Spent_Social Media User?_Q1_Q2_Q3_Q4_Q5_Q6_Q7_Facebook_Instagram_YouTube_Snapchat_Twitter_Discord_Reddit_Pinterest_TikTok\n"
     ]
    },
    {
     "name": "stderr",
     "output_type": "stream",
     "text": [
      "C:\\Users\\ASUS\\anaconda3\\envs\\mlflowcondaenv\\Lib\\site-packages\\sklearn\\metrics\\_classification.py:1517: UndefinedMetricWarning: Precision is ill-defined and being set to 0.0 in labels with no predicted samples. Use `zero_division` parameter to control this behavior.\n",
      "  _warn_prf(average, modifier, f\"{metric.capitalize()} is\", len(result))\n"
     ]
    },
    {
     "name": "stdout",
     "output_type": "stream",
     "text": [
      "Logged run: SVM_rbf_C=0.1_gamma=auto_features=Age_Relationship Status_Occupation_Time Spent_Social Media User?_Q1_Q2_Q3_Q4_Q5_Q6_Q7_Facebook_Instagram_YouTube_Snapchat_Twitter_Discord_Reddit_Pinterest_TikTok with accuracy=0.6875, precision=0.47265625, recall=0.6875, f1_score=0.5601851851851851\n",
      "Starting run: SVM_rbf_C=0.1_gamma=auto_features=Age_Sex_Relationship Status_Time Spent_Social Media User?_Q1_Q2_Q3_Q4_Q5_Q6_Q7_Q8_Facebook_Instagram_YouTube_Snapchat_Twitter_Discord_Reddit_Pinterest_TikTok\n"
     ]
    },
    {
     "name": "stderr",
     "output_type": "stream",
     "text": [
      "C:\\Users\\ASUS\\anaconda3\\envs\\mlflowcondaenv\\Lib\\site-packages\\sklearn\\metrics\\_classification.py:1517: UndefinedMetricWarning: Precision is ill-defined and being set to 0.0 in labels with no predicted samples. Use `zero_division` parameter to control this behavior.\n",
      "  _warn_prf(average, modifier, f\"{metric.capitalize()} is\", len(result))\n"
     ]
    },
    {
     "name": "stdout",
     "output_type": "stream",
     "text": [
      "Logged run: SVM_rbf_C=0.1_gamma=auto_features=Age_Sex_Relationship Status_Time Spent_Social Media User?_Q1_Q2_Q3_Q4_Q5_Q6_Q7_Q8_Facebook_Instagram_YouTube_Snapchat_Twitter_Discord_Reddit_Pinterest_TikTok with accuracy=0.6875, precision=0.47265625, recall=0.6875, f1_score=0.5601851851851851\n",
      "Starting run: SVM_rbf_C=1_gamma=scale_features=Age_Sex_Relationship Status_Occupation_Time Spent_Social Media User?_Q1_Q2_Q3_Q4_Q5_Q6_Q7_Q8_Facebook_Instagram_YouTube_Snapchat_Twitter_Discord_Reddit_Pinterest_TikTok\n"
     ]
    },
    {
     "name": "stderr",
     "output_type": "stream",
     "text": [
      "C:\\Users\\ASUS\\anaconda3\\envs\\mlflowcondaenv\\Lib\\site-packages\\sklearn\\metrics\\_classification.py:1517: UndefinedMetricWarning: Precision is ill-defined and being set to 0.0 in labels with no predicted samples. Use `zero_division` parameter to control this behavior.\n",
      "  _warn_prf(average, modifier, f\"{metric.capitalize()} is\", len(result))\n"
     ]
    },
    {
     "name": "stdout",
     "output_type": "stream",
     "text": [
      "Logged run: SVM_rbf_C=1_gamma=scale_features=Age_Sex_Relationship Status_Occupation_Time Spent_Social Media User?_Q1_Q2_Q3_Q4_Q5_Q6_Q7_Q8_Facebook_Instagram_YouTube_Snapchat_Twitter_Discord_Reddit_Pinterest_TikTok with accuracy=0.7395833333333334, precision=0.6433619091751621, recall=0.7395833333333334, f1_score=0.6810186187486469\n",
      "Starting run: SVM_rbf_C=1_gamma=scale_features=Age_Relationship Status_Occupation_Time Spent_Social Media User?_Q1_Q2_Q3_Q4_Q5_Q6_Q7_Facebook_Instagram_YouTube_Snapchat_Twitter_Discord_Reddit_Pinterest_TikTok\n"
     ]
    },
    {
     "name": "stderr",
     "output_type": "stream",
     "text": [
      "C:\\Users\\ASUS\\anaconda3\\envs\\mlflowcondaenv\\Lib\\site-packages\\sklearn\\metrics\\_classification.py:1517: UndefinedMetricWarning: Precision is ill-defined and being set to 0.0 in labels with no predicted samples. Use `zero_division` parameter to control this behavior.\n",
      "  _warn_prf(average, modifier, f\"{metric.capitalize()} is\", len(result))\n"
     ]
    },
    {
     "name": "stdout",
     "output_type": "stream",
     "text": [
      "Logged run: SVM_rbf_C=1_gamma=scale_features=Age_Relationship Status_Occupation_Time Spent_Social Media User?_Q1_Q2_Q3_Q4_Q5_Q6_Q7_Facebook_Instagram_YouTube_Snapchat_Twitter_Discord_Reddit_Pinterest_TikTok with accuracy=0.7395833333333334, precision=0.6433619091751621, recall=0.7395833333333334, f1_score=0.6810186187486469\n",
      "Starting run: SVM_rbf_C=1_gamma=scale_features=Age_Sex_Relationship Status_Time Spent_Social Media User?_Q1_Q2_Q3_Q4_Q5_Q6_Q7_Q8_Facebook_Instagram_YouTube_Snapchat_Twitter_Discord_Reddit_Pinterest_TikTok\n"
     ]
    },
    {
     "name": "stderr",
     "output_type": "stream",
     "text": [
      "C:\\Users\\ASUS\\anaconda3\\envs\\mlflowcondaenv\\Lib\\site-packages\\sklearn\\metrics\\_classification.py:1517: UndefinedMetricWarning: Precision is ill-defined and being set to 0.0 in labels with no predicted samples. Use `zero_division` parameter to control this behavior.\n",
      "  _warn_prf(average, modifier, f\"{metric.capitalize()} is\", len(result))\n"
     ]
    },
    {
     "name": "stdout",
     "output_type": "stream",
     "text": [
      "Logged run: SVM_rbf_C=1_gamma=scale_features=Age_Sex_Relationship Status_Time Spent_Social Media User?_Q1_Q2_Q3_Q4_Q5_Q6_Q7_Q8_Facebook_Instagram_YouTube_Snapchat_Twitter_Discord_Reddit_Pinterest_TikTok with accuracy=0.7395833333333334, precision=0.6433619091751621, recall=0.7395833333333334, f1_score=0.6810186187486469\n",
      "Starting run: SVM_rbf_C=1_gamma=auto_features=Age_Sex_Relationship Status_Occupation_Time Spent_Social Media User?_Q1_Q2_Q3_Q4_Q5_Q6_Q7_Q8_Facebook_Instagram_YouTube_Snapchat_Twitter_Discord_Reddit_Pinterest_TikTok\n"
     ]
    },
    {
     "name": "stderr",
     "output_type": "stream",
     "text": [
      "C:\\Users\\ASUS\\anaconda3\\envs\\mlflowcondaenv\\Lib\\site-packages\\sklearn\\metrics\\_classification.py:1517: UndefinedMetricWarning: Precision is ill-defined and being set to 0.0 in labels with no predicted samples. Use `zero_division` parameter to control this behavior.\n",
      "  _warn_prf(average, modifier, f\"{metric.capitalize()} is\", len(result))\n"
     ]
    },
    {
     "name": "stdout",
     "output_type": "stream",
     "text": [
      "Logged run: SVM_rbf_C=1_gamma=auto_features=Age_Sex_Relationship Status_Occupation_Time Spent_Social Media User?_Q1_Q2_Q3_Q4_Q5_Q6_Q7_Q8_Facebook_Instagram_YouTube_Snapchat_Twitter_Discord_Reddit_Pinterest_TikTok with accuracy=0.7395833333333334, precision=0.64140625, recall=0.7395833333333334, f1_score=0.6847804190169219\n",
      "Starting run: SVM_rbf_C=1_gamma=auto_features=Age_Relationship Status_Occupation_Time Spent_Social Media User?_Q1_Q2_Q3_Q4_Q5_Q6_Q7_Facebook_Instagram_YouTube_Snapchat_Twitter_Discord_Reddit_Pinterest_TikTok\n"
     ]
    },
    {
     "name": "stderr",
     "output_type": "stream",
     "text": [
      "C:\\Users\\ASUS\\anaconda3\\envs\\mlflowcondaenv\\Lib\\site-packages\\sklearn\\metrics\\_classification.py:1517: UndefinedMetricWarning: Precision is ill-defined and being set to 0.0 in labels with no predicted samples. Use `zero_division` parameter to control this behavior.\n",
      "  _warn_prf(average, modifier, f\"{metric.capitalize()} is\", len(result))\n"
     ]
    },
    {
     "name": "stdout",
     "output_type": "stream",
     "text": [
      "Logged run: SVM_rbf_C=1_gamma=auto_features=Age_Relationship Status_Occupation_Time Spent_Social Media User?_Q1_Q2_Q3_Q4_Q5_Q6_Q7_Facebook_Instagram_YouTube_Snapchat_Twitter_Discord_Reddit_Pinterest_TikTok with accuracy=0.7604166666666666, precision=0.6621297909407665, recall=0.7604166666666666, f1_score=0.7024915540540541\n",
      "Starting run: SVM_rbf_C=1_gamma=auto_features=Age_Sex_Relationship Status_Time Spent_Social Media User?_Q1_Q2_Q3_Q4_Q5_Q6_Q7_Q8_Facebook_Instagram_YouTube_Snapchat_Twitter_Discord_Reddit_Pinterest_TikTok\n"
     ]
    },
    {
     "name": "stderr",
     "output_type": "stream",
     "text": [
      "C:\\Users\\ASUS\\anaconda3\\envs\\mlflowcondaenv\\Lib\\site-packages\\sklearn\\metrics\\_classification.py:1517: UndefinedMetricWarning: Precision is ill-defined and being set to 0.0 in labels with no predicted samples. Use `zero_division` parameter to control this behavior.\n",
      "  _warn_prf(average, modifier, f\"{metric.capitalize()} is\", len(result))\n"
     ]
    },
    {
     "name": "stdout",
     "output_type": "stream",
     "text": [
      "Logged run: SVM_rbf_C=1_gamma=auto_features=Age_Sex_Relationship Status_Time Spent_Social Media User?_Q1_Q2_Q3_Q4_Q5_Q6_Q7_Q8_Facebook_Instagram_YouTube_Snapchat_Twitter_Discord_Reddit_Pinterest_TikTok with accuracy=0.7395833333333334, precision=0.64140625, recall=0.7395833333333334, f1_score=0.6847804190169219\n",
      "Starting run: SVM_rbf_C=10_gamma=scale_features=Age_Sex_Relationship Status_Occupation_Time Spent_Social Media User?_Q1_Q2_Q3_Q4_Q5_Q6_Q7_Q8_Facebook_Instagram_YouTube_Snapchat_Twitter_Discord_Reddit_Pinterest_TikTok\n"
     ]
    },
    {
     "name": "stderr",
     "output_type": "stream",
     "text": [
      "C:\\Users\\ASUS\\anaconda3\\envs\\mlflowcondaenv\\Lib\\site-packages\\sklearn\\metrics\\_classification.py:1517: UndefinedMetricWarning: Precision is ill-defined and being set to 0.0 in labels with no predicted samples. Use `zero_division` parameter to control this behavior.\n",
      "  _warn_prf(average, modifier, f\"{metric.capitalize()} is\", len(result))\n"
     ]
    },
    {
     "name": "stdout",
     "output_type": "stream",
     "text": [
      "Logged run: SVM_rbf_C=10_gamma=scale_features=Age_Sex_Relationship Status_Occupation_Time Spent_Social Media User?_Q1_Q2_Q3_Q4_Q5_Q6_Q7_Q8_Facebook_Instagram_YouTube_Snapchat_Twitter_Discord_Reddit_Pinterest_TikTok with accuracy=0.7395833333333334, precision=0.6434294871794872, recall=0.7395833333333334, f1_score=0.6875\n",
      "Starting run: SVM_rbf_C=10_gamma=scale_features=Age_Relationship Status_Occupation_Time Spent_Social Media User?_Q1_Q2_Q3_Q4_Q5_Q6_Q7_Facebook_Instagram_YouTube_Snapchat_Twitter_Discord_Reddit_Pinterest_TikTok\n"
     ]
    },
    {
     "name": "stderr",
     "output_type": "stream",
     "text": [
      "C:\\Users\\ASUS\\anaconda3\\envs\\mlflowcondaenv\\Lib\\site-packages\\sklearn\\metrics\\_classification.py:1517: UndefinedMetricWarning: Precision is ill-defined and being set to 0.0 in labels with no predicted samples. Use `zero_division` parameter to control this behavior.\n",
      "  _warn_prf(average, modifier, f\"{metric.capitalize()} is\", len(result))\n"
     ]
    },
    {
     "name": "stdout",
     "output_type": "stream",
     "text": [
      "Logged run: SVM_rbf_C=10_gamma=scale_features=Age_Relationship Status_Occupation_Time Spent_Social Media User?_Q1_Q2_Q3_Q4_Q5_Q6_Q7_Facebook_Instagram_YouTube_Snapchat_Twitter_Discord_Reddit_Pinterest_TikTok with accuracy=0.7708333333333334, precision=0.67435125115848, recall=0.7708333333333334, f1_score=0.7115717687811215\n",
      "Starting run: SVM_rbf_C=10_gamma=scale_features=Age_Sex_Relationship Status_Time Spent_Social Media User?_Q1_Q2_Q3_Q4_Q5_Q6_Q7_Q8_Facebook_Instagram_YouTube_Snapchat_Twitter_Discord_Reddit_Pinterest_TikTok\n"
     ]
    },
    {
     "name": "stderr",
     "output_type": "stream",
     "text": [
      "C:\\Users\\ASUS\\anaconda3\\envs\\mlflowcondaenv\\Lib\\site-packages\\sklearn\\metrics\\_classification.py:1517: UndefinedMetricWarning: Precision is ill-defined and being set to 0.0 in labels with no predicted samples. Use `zero_division` parameter to control this behavior.\n",
      "  _warn_prf(average, modifier, f\"{metric.capitalize()} is\", len(result))\n"
     ]
    },
    {
     "name": "stdout",
     "output_type": "stream",
     "text": [
      "Logged run: SVM_rbf_C=10_gamma=scale_features=Age_Sex_Relationship Status_Time Spent_Social Media User?_Q1_Q2_Q3_Q4_Q5_Q6_Q7_Q8_Facebook_Instagram_YouTube_Snapchat_Twitter_Discord_Reddit_Pinterest_TikTok with accuracy=0.7395833333333334, precision=0.6434294871794872, recall=0.7395833333333334, f1_score=0.6875\n",
      "Starting run: SVM_rbf_C=10_gamma=auto_features=Age_Sex_Relationship Status_Occupation_Time Spent_Social Media User?_Q1_Q2_Q3_Q4_Q5_Q6_Q7_Q8_Facebook_Instagram_YouTube_Snapchat_Twitter_Discord_Reddit_Pinterest_TikTok\n",
      "Logged run: SVM_rbf_C=10_gamma=auto_features=Age_Sex_Relationship Status_Occupation_Time Spent_Social Media User?_Q1_Q2_Q3_Q4_Q5_Q6_Q7_Q8_Facebook_Instagram_YouTube_Snapchat_Twitter_Discord_Reddit_Pinterest_TikTok with accuracy=0.6979166666666666, precision=0.6912600267379679, recall=0.6979166666666666, f1_score=0.6943091220914063\n",
      "Starting run: SVM_rbf_C=10_gamma=auto_features=Age_Relationship Status_Occupation_Time Spent_Social Media User?_Q1_Q2_Q3_Q4_Q5_Q6_Q7_Facebook_Instagram_YouTube_Snapchat_Twitter_Discord_Reddit_Pinterest_TikTok\n",
      "Logged run: SVM_rbf_C=10_gamma=auto_features=Age_Relationship Status_Occupation_Time Spent_Social Media User?_Q1_Q2_Q3_Q4_Q5_Q6_Q7_Facebook_Instagram_YouTube_Snapchat_Twitter_Discord_Reddit_Pinterest_TikTok with accuracy=0.65625, precision=0.6519021739130434, recall=0.65625, f1_score=0.6529671717171718\n",
      "Starting run: SVM_rbf_C=10_gamma=auto_features=Age_Sex_Relationship Status_Time Spent_Social Media User?_Q1_Q2_Q3_Q4_Q5_Q6_Q7_Q8_Facebook_Instagram_YouTube_Snapchat_Twitter_Discord_Reddit_Pinterest_TikTok\n",
      "Logged run: SVM_rbf_C=10_gamma=auto_features=Age_Sex_Relationship Status_Time Spent_Social Media User?_Q1_Q2_Q3_Q4_Q5_Q6_Q7_Q8_Facebook_Instagram_YouTube_Snapchat_Twitter_Discord_Reddit_Pinterest_TikTok with accuracy=0.6875, precision=0.6678526017214398, recall=0.6875, f1_score=0.6760744443762907\n",
      "Starting run: SVM_poly_C=0.1_gamma=scale_features=Age_Sex_Relationship Status_Occupation_Time Spent_Social Media User?_Q1_Q2_Q3_Q4_Q5_Q6_Q7_Q8_Facebook_Instagram_YouTube_Snapchat_Twitter_Discord_Reddit_Pinterest_TikTok\n"
     ]
    },
    {
     "name": "stderr",
     "output_type": "stream",
     "text": [
      "C:\\Users\\ASUS\\anaconda3\\envs\\mlflowcondaenv\\Lib\\site-packages\\sklearn\\metrics\\_classification.py:1517: UndefinedMetricWarning: Precision is ill-defined and being set to 0.0 in labels with no predicted samples. Use `zero_division` parameter to control this behavior.\n",
      "  _warn_prf(average, modifier, f\"{metric.capitalize()} is\", len(result))\n"
     ]
    },
    {
     "name": "stdout",
     "output_type": "stream",
     "text": [
      "Logged run: SVM_poly_C=0.1_gamma=scale_features=Age_Sex_Relationship Status_Occupation_Time Spent_Social Media User?_Q1_Q2_Q3_Q4_Q5_Q6_Q7_Q8_Facebook_Instagram_YouTube_Snapchat_Twitter_Discord_Reddit_Pinterest_TikTok with accuracy=0.7083333333333334, precision=0.609375, recall=0.7083333333333334, f1_score=0.6346153846153846\n",
      "Starting run: SVM_poly_C=0.1_gamma=scale_features=Age_Relationship Status_Occupation_Time Spent_Social Media User?_Q1_Q2_Q3_Q4_Q5_Q6_Q7_Facebook_Instagram_YouTube_Snapchat_Twitter_Discord_Reddit_Pinterest_TikTok\n"
     ]
    },
    {
     "name": "stderr",
     "output_type": "stream",
     "text": [
      "C:\\Users\\ASUS\\anaconda3\\envs\\mlflowcondaenv\\Lib\\site-packages\\sklearn\\metrics\\_classification.py:1517: UndefinedMetricWarning: Precision is ill-defined and being set to 0.0 in labels with no predicted samples. Use `zero_division` parameter to control this behavior.\n",
      "  _warn_prf(average, modifier, f\"{metric.capitalize()} is\", len(result))\n"
     ]
    },
    {
     "name": "stdout",
     "output_type": "stream",
     "text": [
      "Logged run: SVM_poly_C=0.1_gamma=scale_features=Age_Relationship Status_Occupation_Time Spent_Social Media User?_Q1_Q2_Q3_Q4_Q5_Q6_Q7_Facebook_Instagram_YouTube_Snapchat_Twitter_Discord_Reddit_Pinterest_TikTok with accuracy=0.7083333333333334, precision=0.609375, recall=0.7083333333333334, f1_score=0.6346153846153846\n",
      "Starting run: SVM_poly_C=0.1_gamma=scale_features=Age_Sex_Relationship Status_Time Spent_Social Media User?_Q1_Q2_Q3_Q4_Q5_Q6_Q7_Q8_Facebook_Instagram_YouTube_Snapchat_Twitter_Discord_Reddit_Pinterest_TikTok\n"
     ]
    },
    {
     "name": "stderr",
     "output_type": "stream",
     "text": [
      "C:\\Users\\ASUS\\anaconda3\\envs\\mlflowcondaenv\\Lib\\site-packages\\sklearn\\metrics\\_classification.py:1517: UndefinedMetricWarning: Precision is ill-defined and being set to 0.0 in labels with no predicted samples. Use `zero_division` parameter to control this behavior.\n",
      "  _warn_prf(average, modifier, f\"{metric.capitalize()} is\", len(result))\n"
     ]
    },
    {
     "name": "stdout",
     "output_type": "stream",
     "text": [
      "Logged run: SVM_poly_C=0.1_gamma=scale_features=Age_Sex_Relationship Status_Time Spent_Social Media User?_Q1_Q2_Q3_Q4_Q5_Q6_Q7_Q8_Facebook_Instagram_YouTube_Snapchat_Twitter_Discord_Reddit_Pinterest_TikTok with accuracy=0.7083333333333334, precision=0.609375, recall=0.7083333333333334, f1_score=0.6346153846153846\n",
      "Starting run: SVM_poly_C=0.1_gamma=auto_features=Age_Sex_Relationship Status_Occupation_Time Spent_Social Media User?_Q1_Q2_Q3_Q4_Q5_Q6_Q7_Q8_Facebook_Instagram_YouTube_Snapchat_Twitter_Discord_Reddit_Pinterest_TikTok\n",
      "Logged run: SVM_poly_C=0.1_gamma=auto_features=Age_Sex_Relationship Status_Occupation_Time Spent_Social Media User?_Q1_Q2_Q3_Q4_Q5_Q6_Q7_Q8_Facebook_Instagram_YouTube_Snapchat_Twitter_Discord_Reddit_Pinterest_TikTok with accuracy=0.59375, precision=0.575, recall=0.59375, f1_score=0.5836397058823529\n",
      "Starting run: SVM_poly_C=0.1_gamma=auto_features=Age_Relationship Status_Occupation_Time Spent_Social Media User?_Q1_Q2_Q3_Q4_Q5_Q6_Q7_Facebook_Instagram_YouTube_Snapchat_Twitter_Discord_Reddit_Pinterest_TikTok\n",
      "Logged run: SVM_poly_C=0.1_gamma=auto_features=Age_Relationship Status_Occupation_Time Spent_Social Media User?_Q1_Q2_Q3_Q4_Q5_Q6_Q7_Facebook_Instagram_YouTube_Snapchat_Twitter_Discord_Reddit_Pinterest_TikTok with accuracy=0.59375, precision=0.6011904761904762, recall=0.59375, f1_score=0.5970493966817496\n",
      "Starting run: SVM_poly_C=0.1_gamma=auto_features=Age_Sex_Relationship Status_Time Spent_Social Media User?_Q1_Q2_Q3_Q4_Q5_Q6_Q7_Q8_Facebook_Instagram_YouTube_Snapchat_Twitter_Discord_Reddit_Pinterest_TikTok\n",
      "Logged run: SVM_poly_C=0.1_gamma=auto_features=Age_Sex_Relationship Status_Time Spent_Social Media User?_Q1_Q2_Q3_Q4_Q5_Q6_Q7_Q8_Facebook_Instagram_YouTube_Snapchat_Twitter_Discord_Reddit_Pinterest_TikTok with accuracy=0.6041666666666666, precision=0.5933382740447958, recall=0.6041666666666666, f1_score=0.5981789334091124\n",
      "Starting run: SVM_poly_C=1_gamma=scale_features=Age_Sex_Relationship Status_Occupation_Time Spent_Social Media User?_Q1_Q2_Q3_Q4_Q5_Q6_Q7_Q8_Facebook_Instagram_YouTube_Snapchat_Twitter_Discord_Reddit_Pinterest_TikTok\n"
     ]
    },
    {
     "name": "stderr",
     "output_type": "stream",
     "text": [
      "C:\\Users\\ASUS\\anaconda3\\envs\\mlflowcondaenv\\Lib\\site-packages\\sklearn\\metrics\\_classification.py:1517: UndefinedMetricWarning: Precision is ill-defined and being set to 0.0 in labels with no predicted samples. Use `zero_division` parameter to control this behavior.\n",
      "  _warn_prf(average, modifier, f\"{metric.capitalize()} is\", len(result))\n"
     ]
    },
    {
     "name": "stdout",
     "output_type": "stream",
     "text": [
      "Logged run: SVM_poly_C=1_gamma=scale_features=Age_Sex_Relationship Status_Occupation_Time Spent_Social Media User?_Q1_Q2_Q3_Q4_Q5_Q6_Q7_Q8_Facebook_Instagram_YouTube_Snapchat_Twitter_Discord_Reddit_Pinterest_TikTok with accuracy=0.71875, precision=0.6283105939004816, recall=0.71875, f1_score=0.6427419354838709\n",
      "Starting run: SVM_poly_C=1_gamma=scale_features=Age_Relationship Status_Occupation_Time Spent_Social Media User?_Q1_Q2_Q3_Q4_Q5_Q6_Q7_Facebook_Instagram_YouTube_Snapchat_Twitter_Discord_Reddit_Pinterest_TikTok\n"
     ]
    },
    {
     "name": "stderr",
     "output_type": "stream",
     "text": [
      "C:\\Users\\ASUS\\anaconda3\\envs\\mlflowcondaenv\\Lib\\site-packages\\sklearn\\metrics\\_classification.py:1517: UndefinedMetricWarning: Precision is ill-defined and being set to 0.0 in labels with no predicted samples. Use `zero_division` parameter to control this behavior.\n",
      "  _warn_prf(average, modifier, f\"{metric.capitalize()} is\", len(result))\n"
     ]
    },
    {
     "name": "stdout",
     "output_type": "stream",
     "text": [
      "Logged run: SVM_poly_C=1_gamma=scale_features=Age_Relationship Status_Occupation_Time Spent_Social Media User?_Q1_Q2_Q3_Q4_Q5_Q6_Q7_Facebook_Instagram_YouTube_Snapchat_Twitter_Discord_Reddit_Pinterest_TikTok with accuracy=0.7083333333333334, precision=0.6138888888888889, recall=0.7083333333333334, f1_score=0.6266025641025641\n",
      "Starting run: SVM_poly_C=1_gamma=scale_features=Age_Sex_Relationship Status_Time Spent_Social Media User?_Q1_Q2_Q3_Q4_Q5_Q6_Q7_Q8_Facebook_Instagram_YouTube_Snapchat_Twitter_Discord_Reddit_Pinterest_TikTok\n"
     ]
    },
    {
     "name": "stderr",
     "output_type": "stream",
     "text": [
      "C:\\Users\\ASUS\\anaconda3\\envs\\mlflowcondaenv\\Lib\\site-packages\\sklearn\\metrics\\_classification.py:1517: UndefinedMetricWarning: Precision is ill-defined and being set to 0.0 in labels with no predicted samples. Use `zero_division` parameter to control this behavior.\n",
      "  _warn_prf(average, modifier, f\"{metric.capitalize()} is\", len(result))\n"
     ]
    },
    {
     "name": "stdout",
     "output_type": "stream",
     "text": [
      "Logged run: SVM_poly_C=1_gamma=scale_features=Age_Sex_Relationship Status_Time Spent_Social Media User?_Q1_Q2_Q3_Q4_Q5_Q6_Q7_Q8_Facebook_Instagram_YouTube_Snapchat_Twitter_Discord_Reddit_Pinterest_TikTok with accuracy=0.71875, precision=0.6283105939004816, recall=0.71875, f1_score=0.6427419354838709\n",
      "Starting run: SVM_poly_C=1_gamma=auto_features=Age_Sex_Relationship Status_Occupation_Time Spent_Social Media User?_Q1_Q2_Q3_Q4_Q5_Q6_Q7_Q8_Facebook_Instagram_YouTube_Snapchat_Twitter_Discord_Reddit_Pinterest_TikTok\n",
      "Logged run: SVM_poly_C=1_gamma=auto_features=Age_Sex_Relationship Status_Occupation_Time Spent_Social Media User?_Q1_Q2_Q3_Q4_Q5_Q6_Q7_Q8_Facebook_Instagram_YouTube_Snapchat_Twitter_Discord_Reddit_Pinterest_TikTok with accuracy=0.46875, precision=0.5240942028985507, recall=0.46875, f1_score=0.4911862527716186\n",
      "Starting run: SVM_poly_C=1_gamma=auto_features=Age_Relationship Status_Occupation_Time Spent_Social Media User?_Q1_Q2_Q3_Q4_Q5_Q6_Q7_Facebook_Instagram_YouTube_Snapchat_Twitter_Discord_Reddit_Pinterest_TikTok\n",
      "Logged run: SVM_poly_C=1_gamma=auto_features=Age_Relationship Status_Occupation_Time Spent_Social Media User?_Q1_Q2_Q3_Q4_Q5_Q6_Q7_Facebook_Instagram_YouTube_Snapchat_Twitter_Discord_Reddit_Pinterest_TikTok with accuracy=0.5520833333333334, precision=0.5916126620139581, recall=0.5520833333333334, f1_score=0.56825\n",
      "Starting run: SVM_poly_C=1_gamma=auto_features=Age_Sex_Relationship Status_Time Spent_Social Media User?_Q1_Q2_Q3_Q4_Q5_Q6_Q7_Q8_Facebook_Instagram_YouTube_Snapchat_Twitter_Discord_Reddit_Pinterest_TikTok\n",
      "Logged run: SVM_poly_C=1_gamma=auto_features=Age_Sex_Relationship Status_Time Spent_Social Media User?_Q1_Q2_Q3_Q4_Q5_Q6_Q7_Q8_Facebook_Instagram_YouTube_Snapchat_Twitter_Discord_Reddit_Pinterest_TikTok with accuracy=0.5, precision=0.5597225670307845, recall=0.5, f1_score=0.5214150176199513\n",
      "Starting run: SVM_poly_C=10_gamma=scale_features=Age_Sex_Relationship Status_Occupation_Time Spent_Social Media User?_Q1_Q2_Q3_Q4_Q5_Q6_Q7_Q8_Facebook_Instagram_YouTube_Snapchat_Twitter_Discord_Reddit_Pinterest_TikTok\n"
     ]
    },
    {
     "name": "stderr",
     "output_type": "stream",
     "text": [
      "C:\\Users\\ASUS\\anaconda3\\envs\\mlflowcondaenv\\Lib\\site-packages\\sklearn\\metrics\\_classification.py:1517: UndefinedMetricWarning: Precision is ill-defined and being set to 0.0 in labels with no predicted samples. Use `zero_division` parameter to control this behavior.\n",
      "  _warn_prf(average, modifier, f\"{metric.capitalize()} is\", len(result))\n"
     ]
    },
    {
     "name": "stdout",
     "output_type": "stream",
     "text": [
      "Logged run: SVM_poly_C=10_gamma=scale_features=Age_Sex_Relationship Status_Occupation_Time Spent_Social Media User?_Q1_Q2_Q3_Q4_Q5_Q6_Q7_Q8_Facebook_Instagram_YouTube_Snapchat_Twitter_Discord_Reddit_Pinterest_TikTok with accuracy=0.7395833333333334, precision=0.64140625, recall=0.7395833333333334, f1_score=0.6847804190169219\n",
      "Starting run: SVM_poly_C=10_gamma=scale_features=Age_Relationship Status_Occupation_Time Spent_Social Media User?_Q1_Q2_Q3_Q4_Q5_Q6_Q7_Facebook_Instagram_YouTube_Snapchat_Twitter_Discord_Reddit_Pinterest_TikTok\n"
     ]
    },
    {
     "name": "stderr",
     "output_type": "stream",
     "text": [
      "C:\\Users\\ASUS\\anaconda3\\envs\\mlflowcondaenv\\Lib\\site-packages\\sklearn\\metrics\\_classification.py:1517: UndefinedMetricWarning: Precision is ill-defined and being set to 0.0 in labels with no predicted samples. Use `zero_division` parameter to control this behavior.\n",
      "  _warn_prf(average, modifier, f\"{metric.capitalize()} is\", len(result))\n"
     ]
    },
    {
     "name": "stdout",
     "output_type": "stream",
     "text": [
      "Logged run: SVM_poly_C=10_gamma=scale_features=Age_Relationship Status_Occupation_Time Spent_Social Media User?_Q1_Q2_Q3_Q4_Q5_Q6_Q7_Facebook_Instagram_YouTube_Snapchat_Twitter_Discord_Reddit_Pinterest_TikTok with accuracy=0.7395833333333334, precision=0.64140625, recall=0.7395833333333334, f1_score=0.6847804190169219\n",
      "Starting run: SVM_poly_C=10_gamma=scale_features=Age_Sex_Relationship Status_Time Spent_Social Media User?_Q1_Q2_Q3_Q4_Q5_Q6_Q7_Q8_Facebook_Instagram_YouTube_Snapchat_Twitter_Discord_Reddit_Pinterest_TikTok\n"
     ]
    },
    {
     "name": "stderr",
     "output_type": "stream",
     "text": [
      "C:\\Users\\ASUS\\anaconda3\\envs\\mlflowcondaenv\\Lib\\site-packages\\sklearn\\metrics\\_classification.py:1517: UndefinedMetricWarning: Precision is ill-defined and being set to 0.0 in labels with no predicted samples. Use `zero_division` parameter to control this behavior.\n",
      "  _warn_prf(average, modifier, f\"{metric.capitalize()} is\", len(result))\n"
     ]
    },
    {
     "name": "stdout",
     "output_type": "stream",
     "text": [
      "Logged run: SVM_poly_C=10_gamma=scale_features=Age_Sex_Relationship Status_Time Spent_Social Media User?_Q1_Q2_Q3_Q4_Q5_Q6_Q7_Q8_Facebook_Instagram_YouTube_Snapchat_Twitter_Discord_Reddit_Pinterest_TikTok with accuracy=0.7291666666666666, precision=0.6324460163812361, recall=0.7291666666666666, f1_score=0.6761083743842363\n",
      "Starting run: SVM_poly_C=10_gamma=auto_features=Age_Sex_Relationship Status_Occupation_Time Spent_Social Media User?_Q1_Q2_Q3_Q4_Q5_Q6_Q7_Q8_Facebook_Instagram_YouTube_Snapchat_Twitter_Discord_Reddit_Pinterest_TikTok\n",
      "Logged run: SVM_poly_C=10_gamma=auto_features=Age_Sex_Relationship Status_Occupation_Time Spent_Social Media User?_Q1_Q2_Q3_Q4_Q5_Q6_Q7_Q8_Facebook_Instagram_YouTube_Snapchat_Twitter_Discord_Reddit_Pinterest_TikTok with accuracy=0.4895833333333333, precision=0.5368303571428571, recall=0.4895833333333333, f1_score=0.5086358313817331\n",
      "Starting run: SVM_poly_C=10_gamma=auto_features=Age_Relationship Status_Occupation_Time Spent_Social Media User?_Q1_Q2_Q3_Q4_Q5_Q6_Q7_Facebook_Instagram_YouTube_Snapchat_Twitter_Discord_Reddit_Pinterest_TikTok\n",
      "Logged run: SVM_poly_C=10_gamma=auto_features=Age_Relationship Status_Occupation_Time Spent_Social Media User?_Q1_Q2_Q3_Q4_Q5_Q6_Q7_Facebook_Instagram_YouTube_Snapchat_Twitter_Discord_Reddit_Pinterest_TikTok with accuracy=0.5416666666666666, precision=0.5835883994746224, recall=0.5416666666666666, f1_score=0.5584410919540229\n",
      "Starting run: SVM_poly_C=10_gamma=auto_features=Age_Sex_Relationship Status_Time Spent_Social Media User?_Q1_Q2_Q3_Q4_Q5_Q6_Q7_Q8_Facebook_Instagram_YouTube_Snapchat_Twitter_Discord_Reddit_Pinterest_TikTok\n",
      "Logged run: SVM_poly_C=10_gamma=auto_features=Age_Sex_Relationship Status_Time Spent_Social Media User?_Q1_Q2_Q3_Q4_Q5_Q6_Q7_Q8_Facebook_Instagram_YouTube_Snapchat_Twitter_Discord_Reddit_Pinterest_TikTok with accuracy=0.5208333333333334, precision=0.5801700034150089, recall=0.5208333333333334, f1_score=0.5418381694370539\n",
      "Experiment complete. Check MLFlow UI for results.\n"
     ]
    }
   ],
   "source": [
    "for kernel in kernels:\n",
    "    for C in C_values:\n",
    "        for gamma in gamma_values:\n",
    "            for feature_subset in feature_combinations:\n",
    "                train_and_log_model(kernel, C, gamma, feature_subset)\n",
    "\n",
    "print(\"Experiment complete. Check MLFlow UI for results.\")"
   ]
  },
  {
   "cell_type": "code",
   "execution_count": 19,
   "id": "3dcc7eea",
   "metadata": {},
   "outputs": [
    {
     "name": "stderr",
     "output_type": "stream",
     "text": [
      "2024/06/25 12:09:40 INFO mlflow.tracking.fluent: Experiment with name 'SVM SMOTE Concentration Experiments' does not exist. Creating a new experiment.\n"
     ]
    },
    {
     "data": {
      "text/plain": [
       "<Experiment: artifact_location='file:///C:/Users/ASUS/e19-co544-Concentration-Difficulty-Prediction-Model-1/SVM/models_with_mlflow/mlruns/2', creation_time=1719297580322, experiment_id='2', last_update_time=1719297580322, lifecycle_stage='active', name='SVM SMOTE Concentration Experiments', tags={}>"
      ]
     },
     "execution_count": 19,
     "metadata": {},
     "output_type": "execute_result"
    }
   ],
   "source": [
    "mlflow.set_experiment(\"SVM SMOTE Concentration Experiments\")"
   ]
  },
  {
   "cell_type": "code",
   "execution_count": 20,
   "id": "3ff17cd3",
   "metadata": {},
   "outputs": [
    {
     "data": {
      "text/html": [
       "<div>\n",
       "<style scoped>\n",
       "    .dataframe tbody tr th:only-of-type {\n",
       "        vertical-align: middle;\n",
       "    }\n",
       "\n",
       "    .dataframe tbody tr th {\n",
       "        vertical-align: top;\n",
       "    }\n",
       "\n",
       "    .dataframe thead th {\n",
       "        text-align: right;\n",
       "    }\n",
       "</style>\n",
       "<table border=\"1\" class=\"dataframe\">\n",
       "  <thead>\n",
       "    <tr style=\"text-align: right;\">\n",
       "      <th></th>\n",
       "      <th>Age</th>\n",
       "      <th>Sex</th>\n",
       "      <th>Relationship Status</th>\n",
       "      <th>Occupation</th>\n",
       "      <th>Social Media User?</th>\n",
       "      <th>Time Spent</th>\n",
       "      <th>Q1</th>\n",
       "      <th>Q2</th>\n",
       "      <th>Q3</th>\n",
       "      <th>Q4</th>\n",
       "      <th>...</th>\n",
       "      <th>Facebook</th>\n",
       "      <th>Instagram</th>\n",
       "      <th>YouTube</th>\n",
       "      <th>Snapchat</th>\n",
       "      <th>Twitter</th>\n",
       "      <th>Discord</th>\n",
       "      <th>Reddit</th>\n",
       "      <th>Pinterest</th>\n",
       "      <th>TikTok</th>\n",
       "      <th>Difficulty_level</th>\n",
       "    </tr>\n",
       "  </thead>\n",
       "  <tbody>\n",
       "    <tr>\n",
       "      <th>0</th>\n",
       "      <td>24</td>\n",
       "      <td>0</td>\n",
       "      <td>1</td>\n",
       "      <td>2</td>\n",
       "      <td>1</td>\n",
       "      <td>2</td>\n",
       "      <td>3</td>\n",
       "      <td>3</td>\n",
       "      <td>2</td>\n",
       "      <td>2</td>\n",
       "      <td>...</td>\n",
       "      <td>1</td>\n",
       "      <td>1</td>\n",
       "      <td>1</td>\n",
       "      <td>0</td>\n",
       "      <td>1</td>\n",
       "      <td>0</td>\n",
       "      <td>0</td>\n",
       "      <td>0</td>\n",
       "      <td>0</td>\n",
       "      <td>0</td>\n",
       "    </tr>\n",
       "    <tr>\n",
       "      <th>1</th>\n",
       "      <td>46</td>\n",
       "      <td>0</td>\n",
       "      <td>2</td>\n",
       "      <td>2</td>\n",
       "      <td>1</td>\n",
       "      <td>0</td>\n",
       "      <td>2</td>\n",
       "      <td>1</td>\n",
       "      <td>1</td>\n",
       "      <td>1</td>\n",
       "      <td>...</td>\n",
       "      <td>1</td>\n",
       "      <td>0</td>\n",
       "      <td>1</td>\n",
       "      <td>0</td>\n",
       "      <td>0</td>\n",
       "      <td>0</td>\n",
       "      <td>0</td>\n",
       "      <td>0</td>\n",
       "      <td>0</td>\n",
       "      <td>0</td>\n",
       "    </tr>\n",
       "    <tr>\n",
       "      <th>2</th>\n",
       "      <td>30</td>\n",
       "      <td>1</td>\n",
       "      <td>2</td>\n",
       "      <td>2</td>\n",
       "      <td>1</td>\n",
       "      <td>4</td>\n",
       "      <td>2</td>\n",
       "      <td>4</td>\n",
       "      <td>4</td>\n",
       "      <td>2</td>\n",
       "      <td>...</td>\n",
       "      <td>1</td>\n",
       "      <td>1</td>\n",
       "      <td>0</td>\n",
       "      <td>0</td>\n",
       "      <td>0</td>\n",
       "      <td>0</td>\n",
       "      <td>0</td>\n",
       "      <td>0</td>\n",
       "      <td>0</td>\n",
       "      <td>1</td>\n",
       "    </tr>\n",
       "    <tr>\n",
       "      <th>3</th>\n",
       "      <td>56</td>\n",
       "      <td>1</td>\n",
       "      <td>2</td>\n",
       "      <td>3</td>\n",
       "      <td>1</td>\n",
       "      <td>1</td>\n",
       "      <td>1</td>\n",
       "      <td>1</td>\n",
       "      <td>1</td>\n",
       "      <td>1</td>\n",
       "      <td>...</td>\n",
       "      <td>0</td>\n",
       "      <td>0</td>\n",
       "      <td>1</td>\n",
       "      <td>0</td>\n",
       "      <td>0</td>\n",
       "      <td>0</td>\n",
       "      <td>0</td>\n",
       "      <td>0</td>\n",
       "      <td>0</td>\n",
       "      <td>0</td>\n",
       "    </tr>\n",
       "    <tr>\n",
       "      <th>4</th>\n",
       "      <td>19</td>\n",
       "      <td>0</td>\n",
       "      <td>1</td>\n",
       "      <td>1</td>\n",
       "      <td>1</td>\n",
       "      <td>4</td>\n",
       "      <td>3</td>\n",
       "      <td>3</td>\n",
       "      <td>4</td>\n",
       "      <td>3</td>\n",
       "      <td>...</td>\n",
       "      <td>1</td>\n",
       "      <td>1</td>\n",
       "      <td>1</td>\n",
       "      <td>0</td>\n",
       "      <td>0</td>\n",
       "      <td>0</td>\n",
       "      <td>0</td>\n",
       "      <td>0</td>\n",
       "      <td>1</td>\n",
       "      <td>1</td>\n",
       "    </tr>\n",
       "  </tbody>\n",
       "</table>\n",
       "<p>5 rows × 24 columns</p>\n",
       "</div>"
      ],
      "text/plain": [
       "   Age  Sex  Relationship Status  Occupation  Social Media User?  Time Spent  \\\n",
       "0   24    0                    1           2                   1           2   \n",
       "1   46    0                    2           2                   1           0   \n",
       "2   30    1                    2           2                   1           4   \n",
       "3   56    1                    2           3                   1           1   \n",
       "4   19    0                    1           1                   1           4   \n",
       "\n",
       "   Q1  Q2  Q3  Q4  ...  Facebook  Instagram  YouTube  Snapchat  Twitter  \\\n",
       "0   3   3   2   2  ...         1          1        1         0        1   \n",
       "1   2   1   1   1  ...         1          0        1         0        0   \n",
       "2   2   4   4   2  ...         1          1        0         0        0   \n",
       "3   1   1   1   1  ...         0          0        1         0        0   \n",
       "4   3   3   4   3  ...         1          1        1         0        0   \n",
       "\n",
       "   Discord  Reddit  Pinterest  TikTok  Difficulty_level  \n",
       "0        0       0          0       0                 0  \n",
       "1        0       0          0       0                 0  \n",
       "2        0       0          0       0                 1  \n",
       "3        0       0          0       0                 0  \n",
       "4        0       0          0       1                 1  \n",
       "\n",
       "[5 rows x 24 columns]"
      ]
     },
     "execution_count": 20,
     "metadata": {},
     "output_type": "execute_result"
    }
   ],
   "source": [
    "# Load your cleaned dataset\n",
    "train_df = pd.read_csv(\"../../Preprocessing_pipeline/final_data_sets/train_set_smote.csv\")\n",
    "train_df.head()"
   ]
  },
  {
   "cell_type": "code",
   "execution_count": 21,
   "id": "14000597",
   "metadata": {},
   "outputs": [],
   "source": [
    "x_train = train_df.drop(columns=[\"Difficulty_level\"])\n",
    "y_train = train_df[\"Difficulty_level\"]"
   ]
  },
  {
   "cell_type": "code",
   "execution_count": 22,
   "id": "6912e888",
   "metadata": {},
   "outputs": [],
   "source": [
    "def train_and_log_model(kernel, C, gamma, feature_subset):\n",
    "    # Select the subset of features\n",
    "    X_train_subset = x_train[feature_subset]\n",
    "    X_test_subset = x_test[feature_subset]\n",
    "\n",
    "    # Initialize the SVM model with parameters\n",
    "    model = SVC(kernel=kernel, C=C, gamma=gamma)\n",
    "\n",
    "    # Create a unique run name\n",
    "    run_name = f\"SVM_{kernel}_C={C}_gamma={gamma}_features={'_'.join(feature_subset)}\"\n",
    "\n",
    "    # Print the run details for debugging\n",
    "    print(f\"Starting run: {run_name}\")\n",
    "\n",
    "    # Start an MLFlow run\n",
    "    with mlflow.start_run(run_name=run_name):\n",
    "        # Train the model\n",
    "        model.fit(X_train_subset, y_train)\n",
    "\n",
    "        # Make predictions\n",
    "        y_pred = model.predict(X_test_subset)\n",
    "\n",
    "        # Calculate metrics\n",
    "        accuracy = accuracy_score(y_test, y_pred)\n",
    "        precision = precision_score(y_test, y_pred, average=\"weighted\")\n",
    "        recall = recall_score(y_test, y_pred, average=\"weighted\")\n",
    "        f1 = f1_score(y_test, y_pred, average=\"weighted\")\n",
    "\n",
    "        # Log parameters and metrics\n",
    "        mlflow.log_param(\"kernel\", kernel)\n",
    "        mlflow.log_param(\"C\", C)\n",
    "        mlflow.log_param(\"gamma\", gamma)\n",
    "        mlflow.log_param(\"features\", feature_subset)\n",
    "\n",
    "        mlflow.log_metric(\"accuracy\", accuracy)\n",
    "        mlflow.log_metric(\"precision\", precision)\n",
    "        mlflow.log_metric(\"recall\", recall)\n",
    "        mlflow.log_metric(\"f1_score\", f1)\n",
    "\n",
    "        # Log the model\n",
    "        mlflow.sklearn.log_model(model, \"model\")\n",
    "\n",
    "        # Print the metrics for debugging\n",
    "        print(\n",
    "            f\"Logged run: {run_name} with accuracy={accuracy}, precision={precision}, recall={recall}, f1_score={f1}\"\n",
    "        )"
   ]
  },
  {
   "cell_type": "code",
   "execution_count": 23,
   "id": "f1c19b31",
   "metadata": {},
   "outputs": [],
   "source": [
    "kernels = [\"linear\", \"rbf\", \"poly\"]\n",
    "C_values = [0.1, 1, 10]\n",
    "gamma_values = [\"scale\", \"auto\"]\n",
    "feature_combinations = [\n",
    "    [\n",
    "        \"Age\",\n",
    "        \"Sex\",\n",
    "        \"Relationship Status\",\n",
    "        \"Occupation\",\n",
    "        \"Time Spent\",\n",
    "        \"Social Media User?\",\n",
    "        \"Q1\",\n",
    "        \"Q2\",\n",
    "        \"Q3\",\n",
    "        \"Q4\",\n",
    "        \"Q5\",\n",
    "        \"Q6\",\n",
    "        \"Q7\",\n",
    "        \"Q8\",\n",
    "        \"Facebook\",\n",
    "        \"Instagram\",\n",
    "        \"YouTube\",\n",
    "        \"Snapchat\",\n",
    "        \"Twitter\",\n",
    "        \"Discord\",\n",
    "        \"Reddit\",\n",
    "        \"Pinterest\",\n",
    "        \"TikTok\",\n",
    "    ],\n",
    "    [\n",
    "        \"Age\",\n",
    "        \"Relationship Status\",\n",
    "        \"Occupation\",\n",
    "        \"Time Spent\",\n",
    "        \"Social Media User?\",\n",
    "        \"Q1\",\n",
    "        \"Q2\",\n",
    "        \"Q3\",\n",
    "        \"Q4\",\n",
    "        \"Q5\",\n",
    "        \"Q6\",\n",
    "        \"Q7\",\n",
    "        \"Facebook\",\n",
    "        \"Instagram\",\n",
    "        \"YouTube\",\n",
    "        \"Snapchat\",\n",
    "        \"Twitter\",\n",
    "        \"Discord\",\n",
    "        \"Reddit\",\n",
    "        \"Pinterest\",\n",
    "        \"TikTok\",\n",
    "    ],\n",
    "    [\n",
    "        \"Age\",\n",
    "        \"Sex\",\n",
    "        \"Relationship Status\",\n",
    "        \"Time Spent\",\n",
    "        \"Social Media User?\",\n",
    "        \"Q1\",\n",
    "        \"Q2\",\n",
    "        \"Q3\",\n",
    "        \"Q4\",\n",
    "        \"Q5\",\n",
    "        \"Q6\",\n",
    "        \"Q7\",\n",
    "        \"Q8\",\n",
    "        \"Facebook\",\n",
    "        \"Instagram\",\n",
    "        \"YouTube\",\n",
    "        \"Snapchat\",\n",
    "        \"Twitter\",\n",
    "        \"Discord\",\n",
    "        \"Reddit\",\n",
    "        \"Pinterest\",\n",
    "        \"TikTok\",\n",
    "    ],\n",
    "    # Add more feature combinations as needed\n",
    "]"
   ]
  },
  {
   "cell_type": "code",
   "execution_count": 24,
   "id": "2b45a09f",
   "metadata": {},
   "outputs": [
    {
     "name": "stdout",
     "output_type": "stream",
     "text": [
      "Starting run: SVM_linear_C=0.1_gamma=scale_features=Age_Sex_Relationship Status_Occupation_Time Spent_Social Media User?_Q1_Q2_Q3_Q4_Q5_Q6_Q7_Q8_Facebook_Instagram_YouTube_Snapchat_Twitter_Discord_Reddit_Pinterest_TikTok\n",
      "Logged run: SVM_linear_C=0.1_gamma=scale_features=Age_Sex_Relationship Status_Occupation_Time Spent_Social Media User?_Q1_Q2_Q3_Q4_Q5_Q6_Q7_Q8_Facebook_Instagram_YouTube_Snapchat_Twitter_Discord_Reddit_Pinterest_TikTok with accuracy=0.5416666666666666, precision=0.6515386928628709, recall=0.5416666666666666, f1_score=0.5661101876418502\n",
      "Starting run: SVM_linear_C=0.1_gamma=scale_features=Age_Relationship Status_Occupation_Time Spent_Social Media User?_Q1_Q2_Q3_Q4_Q5_Q6_Q7_Facebook_Instagram_YouTube_Snapchat_Twitter_Discord_Reddit_Pinterest_TikTok\n",
      "Logged run: SVM_linear_C=0.1_gamma=scale_features=Age_Relationship Status_Occupation_Time Spent_Social Media User?_Q1_Q2_Q3_Q4_Q5_Q6_Q7_Facebook_Instagram_YouTube_Snapchat_Twitter_Discord_Reddit_Pinterest_TikTok with accuracy=0.5625, precision=0.6560600303951368, recall=0.5625, f1_score=0.5875723281143634\n",
      "Starting run: SVM_linear_C=0.1_gamma=scale_features=Age_Sex_Relationship Status_Time Spent_Social Media User?_Q1_Q2_Q3_Q4_Q5_Q6_Q7_Q8_Facebook_Instagram_YouTube_Snapchat_Twitter_Discord_Reddit_Pinterest_TikTok\n",
      "Logged run: SVM_linear_C=0.1_gamma=scale_features=Age_Sex_Relationship Status_Time Spent_Social Media User?_Q1_Q2_Q3_Q4_Q5_Q6_Q7_Q8_Facebook_Instagram_YouTube_Snapchat_Twitter_Discord_Reddit_Pinterest_TikTok with accuracy=0.5625, precision=0.6608796296296297, recall=0.5625, f1_score=0.5855732105732105\n",
      "Starting run: SVM_linear_C=0.1_gamma=auto_features=Age_Sex_Relationship Status_Occupation_Time Spent_Social Media User?_Q1_Q2_Q3_Q4_Q5_Q6_Q7_Q8_Facebook_Instagram_YouTube_Snapchat_Twitter_Discord_Reddit_Pinterest_TikTok\n",
      "Logged run: SVM_linear_C=0.1_gamma=auto_features=Age_Sex_Relationship Status_Occupation_Time Spent_Social Media User?_Q1_Q2_Q3_Q4_Q5_Q6_Q7_Q8_Facebook_Instagram_YouTube_Snapchat_Twitter_Discord_Reddit_Pinterest_TikTok with accuracy=0.5416666666666666, precision=0.6515386928628709, recall=0.5416666666666666, f1_score=0.5661101876418502\n",
      "Starting run: SVM_linear_C=0.1_gamma=auto_features=Age_Relationship Status_Occupation_Time Spent_Social Media User?_Q1_Q2_Q3_Q4_Q5_Q6_Q7_Facebook_Instagram_YouTube_Snapchat_Twitter_Discord_Reddit_Pinterest_TikTok\n",
      "Logged run: SVM_linear_C=0.1_gamma=auto_features=Age_Relationship Status_Occupation_Time Spent_Social Media User?_Q1_Q2_Q3_Q4_Q5_Q6_Q7_Facebook_Instagram_YouTube_Snapchat_Twitter_Discord_Reddit_Pinterest_TikTok with accuracy=0.5625, precision=0.6560600303951368, recall=0.5625, f1_score=0.5875723281143634\n",
      "Starting run: SVM_linear_C=0.1_gamma=auto_features=Age_Sex_Relationship Status_Time Spent_Social Media User?_Q1_Q2_Q3_Q4_Q5_Q6_Q7_Q8_Facebook_Instagram_YouTube_Snapchat_Twitter_Discord_Reddit_Pinterest_TikTok\n",
      "Logged run: SVM_linear_C=0.1_gamma=auto_features=Age_Sex_Relationship Status_Time Spent_Social Media User?_Q1_Q2_Q3_Q4_Q5_Q6_Q7_Q8_Facebook_Instagram_YouTube_Snapchat_Twitter_Discord_Reddit_Pinterest_TikTok with accuracy=0.5625, precision=0.6608796296296297, recall=0.5625, f1_score=0.5855732105732105\n",
      "Starting run: SVM_linear_C=1_gamma=scale_features=Age_Sex_Relationship Status_Occupation_Time Spent_Social Media User?_Q1_Q2_Q3_Q4_Q5_Q6_Q7_Q8_Facebook_Instagram_YouTube_Snapchat_Twitter_Discord_Reddit_Pinterest_TikTok\n",
      "Logged run: SVM_linear_C=1_gamma=scale_features=Age_Sex_Relationship Status_Occupation_Time Spent_Social Media User?_Q1_Q2_Q3_Q4_Q5_Q6_Q7_Q8_Facebook_Instagram_YouTube_Snapchat_Twitter_Discord_Reddit_Pinterest_TikTok with accuracy=0.5625, precision=0.6400565661047027, recall=0.5625, f1_score=0.5846677271120537\n",
      "Starting run: SVM_linear_C=1_gamma=scale_features=Age_Relationship Status_Occupation_Time Spent_Social Media User?_Q1_Q2_Q3_Q4_Q5_Q6_Q7_Facebook_Instagram_YouTube_Snapchat_Twitter_Discord_Reddit_Pinterest_TikTok\n",
      "Logged run: SVM_linear_C=1_gamma=scale_features=Age_Relationship Status_Occupation_Time Spent_Social Media User?_Q1_Q2_Q3_Q4_Q5_Q6_Q7_Facebook_Instagram_YouTube_Snapchat_Twitter_Discord_Reddit_Pinterest_TikTok with accuracy=0.5729166666666666, precision=0.6443092105263158, recall=0.5729166666666666, f1_score=0.5963410444342648\n",
      "Starting run: SVM_linear_C=1_gamma=scale_features=Age_Sex_Relationship Status_Time Spent_Social Media User?_Q1_Q2_Q3_Q4_Q5_Q6_Q7_Q8_Facebook_Instagram_YouTube_Snapchat_Twitter_Discord_Reddit_Pinterest_TikTok\n",
      "Logged run: SVM_linear_C=1_gamma=scale_features=Age_Sex_Relationship Status_Time Spent_Social Media User?_Q1_Q2_Q3_Q4_Q5_Q6_Q7_Q8_Facebook_Instagram_YouTube_Snapchat_Twitter_Discord_Reddit_Pinterest_TikTok with accuracy=0.59375, precision=0.6739447463768116, recall=0.59375, f1_score=0.6129971434849484\n",
      "Starting run: SVM_linear_C=1_gamma=auto_features=Age_Sex_Relationship Status_Occupation_Time Spent_Social Media User?_Q1_Q2_Q3_Q4_Q5_Q6_Q7_Q8_Facebook_Instagram_YouTube_Snapchat_Twitter_Discord_Reddit_Pinterest_TikTok\n",
      "Logged run: SVM_linear_C=1_gamma=auto_features=Age_Sex_Relationship Status_Occupation_Time Spent_Social Media User?_Q1_Q2_Q3_Q4_Q5_Q6_Q7_Q8_Facebook_Instagram_YouTube_Snapchat_Twitter_Discord_Reddit_Pinterest_TikTok with accuracy=0.5625, precision=0.6400565661047027, recall=0.5625, f1_score=0.5846677271120537\n",
      "Starting run: SVM_linear_C=1_gamma=auto_features=Age_Relationship Status_Occupation_Time Spent_Social Media User?_Q1_Q2_Q3_Q4_Q5_Q6_Q7_Facebook_Instagram_YouTube_Snapchat_Twitter_Discord_Reddit_Pinterest_TikTok\n",
      "Logged run: SVM_linear_C=1_gamma=auto_features=Age_Relationship Status_Occupation_Time Spent_Social Media User?_Q1_Q2_Q3_Q4_Q5_Q6_Q7_Facebook_Instagram_YouTube_Snapchat_Twitter_Discord_Reddit_Pinterest_TikTok with accuracy=0.5729166666666666, precision=0.6443092105263158, recall=0.5729166666666666, f1_score=0.5963410444342648\n",
      "Starting run: SVM_linear_C=1_gamma=auto_features=Age_Sex_Relationship Status_Time Spent_Social Media User?_Q1_Q2_Q3_Q4_Q5_Q6_Q7_Q8_Facebook_Instagram_YouTube_Snapchat_Twitter_Discord_Reddit_Pinterest_TikTok\n",
      "Logged run: SVM_linear_C=1_gamma=auto_features=Age_Sex_Relationship Status_Time Spent_Social Media User?_Q1_Q2_Q3_Q4_Q5_Q6_Q7_Q8_Facebook_Instagram_YouTube_Snapchat_Twitter_Discord_Reddit_Pinterest_TikTok with accuracy=0.59375, precision=0.6739447463768116, recall=0.59375, f1_score=0.6129971434849484\n",
      "Starting run: SVM_linear_C=10_gamma=scale_features=Age_Sex_Relationship Status_Occupation_Time Spent_Social Media User?_Q1_Q2_Q3_Q4_Q5_Q6_Q7_Q8_Facebook_Instagram_YouTube_Snapchat_Twitter_Discord_Reddit_Pinterest_TikTok\n",
      "Logged run: SVM_linear_C=10_gamma=scale_features=Age_Sex_Relationship Status_Occupation_Time Spent_Social Media User?_Q1_Q2_Q3_Q4_Q5_Q6_Q7_Q8_Facebook_Instagram_YouTube_Snapchat_Twitter_Discord_Reddit_Pinterest_TikTok with accuracy=0.5625, precision=0.646193092621664, recall=0.5625, f1_score=0.5876342193275831\n",
      "Starting run: SVM_linear_C=10_gamma=scale_features=Age_Relationship Status_Occupation_Time Spent_Social Media User?_Q1_Q2_Q3_Q4_Q5_Q6_Q7_Facebook_Instagram_YouTube_Snapchat_Twitter_Discord_Reddit_Pinterest_TikTok\n",
      "Logged run: SVM_linear_C=10_gamma=scale_features=Age_Relationship Status_Occupation_Time Spent_Social Media User?_Q1_Q2_Q3_Q4_Q5_Q6_Q7_Facebook_Instagram_YouTube_Snapchat_Twitter_Discord_Reddit_Pinterest_TikTok with accuracy=0.5729166666666666, precision=0.6507142857142858, recall=0.5729166666666666, f1_score=0.59674080579253\n",
      "Starting run: SVM_linear_C=10_gamma=scale_features=Age_Sex_Relationship Status_Time Spent_Social Media User?_Q1_Q2_Q3_Q4_Q5_Q6_Q7_Q8_Facebook_Instagram_YouTube_Snapchat_Twitter_Discord_Reddit_Pinterest_TikTok\n",
      "Logged run: SVM_linear_C=10_gamma=scale_features=Age_Sex_Relationship Status_Time Spent_Social Media User?_Q1_Q2_Q3_Q4_Q5_Q6_Q7_Q8_Facebook_Instagram_YouTube_Snapchat_Twitter_Discord_Reddit_Pinterest_TikTok with accuracy=0.6041666666666666, precision=0.6785344572611653, recall=0.6041666666666666, f1_score=0.6224696594792035\n",
      "Starting run: SVM_linear_C=10_gamma=auto_features=Age_Sex_Relationship Status_Occupation_Time Spent_Social Media User?_Q1_Q2_Q3_Q4_Q5_Q6_Q7_Q8_Facebook_Instagram_YouTube_Snapchat_Twitter_Discord_Reddit_Pinterest_TikTok\n",
      "Logged run: SVM_linear_C=10_gamma=auto_features=Age_Sex_Relationship Status_Occupation_Time Spent_Social Media User?_Q1_Q2_Q3_Q4_Q5_Q6_Q7_Q8_Facebook_Instagram_YouTube_Snapchat_Twitter_Discord_Reddit_Pinterest_TikTok with accuracy=0.5625, precision=0.646193092621664, recall=0.5625, f1_score=0.5876342193275831\n",
      "Starting run: SVM_linear_C=10_gamma=auto_features=Age_Relationship Status_Occupation_Time Spent_Social Media User?_Q1_Q2_Q3_Q4_Q5_Q6_Q7_Facebook_Instagram_YouTube_Snapchat_Twitter_Discord_Reddit_Pinterest_TikTok\n",
      "Logged run: SVM_linear_C=10_gamma=auto_features=Age_Relationship Status_Occupation_Time Spent_Social Media User?_Q1_Q2_Q3_Q4_Q5_Q6_Q7_Facebook_Instagram_YouTube_Snapchat_Twitter_Discord_Reddit_Pinterest_TikTok with accuracy=0.5729166666666666, precision=0.6507142857142858, recall=0.5729166666666666, f1_score=0.59674080579253\n",
      "Starting run: SVM_linear_C=10_gamma=auto_features=Age_Sex_Relationship Status_Time Spent_Social Media User?_Q1_Q2_Q3_Q4_Q5_Q6_Q7_Q8_Facebook_Instagram_YouTube_Snapchat_Twitter_Discord_Reddit_Pinterest_TikTok\n",
      "Logged run: SVM_linear_C=10_gamma=auto_features=Age_Sex_Relationship Status_Time Spent_Social Media User?_Q1_Q2_Q3_Q4_Q5_Q6_Q7_Q8_Facebook_Instagram_YouTube_Snapchat_Twitter_Discord_Reddit_Pinterest_TikTok with accuracy=0.6041666666666666, precision=0.6785344572611653, recall=0.6041666666666666, f1_score=0.6224696594792035\n",
      "Starting run: SVM_rbf_C=0.1_gamma=scale_features=Age_Sex_Relationship Status_Occupation_Time Spent_Social Media User?_Q1_Q2_Q3_Q4_Q5_Q6_Q7_Q8_Facebook_Instagram_YouTube_Snapchat_Twitter_Discord_Reddit_Pinterest_TikTok\n",
      "Logged run: SVM_rbf_C=0.1_gamma=scale_features=Age_Sex_Relationship Status_Occupation_Time Spent_Social Media User?_Q1_Q2_Q3_Q4_Q5_Q6_Q7_Q8_Facebook_Instagram_YouTube_Snapchat_Twitter_Discord_Reddit_Pinterest_TikTok with accuracy=0.2604166666666667, precision=0.5597395833333333, recall=0.2604166666666667, f1_score=0.21103131636335934\n",
      "Starting run: SVM_rbf_C=0.1_gamma=scale_features=Age_Relationship Status_Occupation_Time Spent_Social Media User?_Q1_Q2_Q3_Q4_Q5_Q6_Q7_Facebook_Instagram_YouTube_Snapchat_Twitter_Discord_Reddit_Pinterest_TikTok\n",
      "Logged run: SVM_rbf_C=0.1_gamma=scale_features=Age_Relationship Status_Occupation_Time Spent_Social Media User?_Q1_Q2_Q3_Q4_Q5_Q6_Q7_Facebook_Instagram_YouTube_Snapchat_Twitter_Discord_Reddit_Pinterest_TikTok with accuracy=0.2604166666666667, precision=0.5597395833333333, recall=0.2604166666666667, f1_score=0.21103131636335934\n",
      "Starting run: SVM_rbf_C=0.1_gamma=scale_features=Age_Sex_Relationship Status_Time Spent_Social Media User?_Q1_Q2_Q3_Q4_Q5_Q6_Q7_Q8_Facebook_Instagram_YouTube_Snapchat_Twitter_Discord_Reddit_Pinterest_TikTok\n",
      "Logged run: SVM_rbf_C=0.1_gamma=scale_features=Age_Sex_Relationship Status_Time Spent_Social Media User?_Q1_Q2_Q3_Q4_Q5_Q6_Q7_Q8_Facebook_Instagram_YouTube_Snapchat_Twitter_Discord_Reddit_Pinterest_TikTok with accuracy=0.2708333333333333, precision=0.6663112745098039, recall=0.2708333333333333, f1_score=0.21910919540229887\n",
      "Starting run: SVM_rbf_C=0.1_gamma=auto_features=Age_Sex_Relationship Status_Occupation_Time Spent_Social Media User?_Q1_Q2_Q3_Q4_Q5_Q6_Q7_Q8_Facebook_Instagram_YouTube_Snapchat_Twitter_Discord_Reddit_Pinterest_TikTok\n",
      "Logged run: SVM_rbf_C=0.1_gamma=auto_features=Age_Sex_Relationship Status_Occupation_Time Spent_Social Media User?_Q1_Q2_Q3_Q4_Q5_Q6_Q7_Q8_Facebook_Instagram_YouTube_Snapchat_Twitter_Discord_Reddit_Pinterest_TikTok with accuracy=0.5729166666666666, precision=0.6673627112135176, recall=0.5729166666666666, f1_score=0.5901747062461348\n",
      "Starting run: SVM_rbf_C=0.1_gamma=auto_features=Age_Relationship Status_Occupation_Time Spent_Social Media User?_Q1_Q2_Q3_Q4_Q5_Q6_Q7_Facebook_Instagram_YouTube_Snapchat_Twitter_Discord_Reddit_Pinterest_TikTok\n",
      "Logged run: SVM_rbf_C=0.1_gamma=auto_features=Age_Relationship Status_Occupation_Time Spent_Social Media User?_Q1_Q2_Q3_Q4_Q5_Q6_Q7_Facebook_Instagram_YouTube_Snapchat_Twitter_Discord_Reddit_Pinterest_TikTok with accuracy=0.6041666666666666, precision=0.6812990925036223, recall=0.6041666666666666, f1_score=0.6188519655649871\n",
      "Starting run: SVM_rbf_C=0.1_gamma=auto_features=Age_Sex_Relationship Status_Time Spent_Social Media User?_Q1_Q2_Q3_Q4_Q5_Q6_Q7_Q8_Facebook_Instagram_YouTube_Snapchat_Twitter_Discord_Reddit_Pinterest_TikTok\n",
      "Logged run: SVM_rbf_C=0.1_gamma=auto_features=Age_Sex_Relationship Status_Time Spent_Social Media User?_Q1_Q2_Q3_Q4_Q5_Q6_Q7_Q8_Facebook_Instagram_YouTube_Snapchat_Twitter_Discord_Reddit_Pinterest_TikTok with accuracy=0.5729166666666666, precision=0.6673627112135176, recall=0.5729166666666666, f1_score=0.5901747062461348\n",
      "Starting run: SVM_rbf_C=1_gamma=scale_features=Age_Sex_Relationship Status_Occupation_Time Spent_Social Media User?_Q1_Q2_Q3_Q4_Q5_Q6_Q7_Q8_Facebook_Instagram_YouTube_Snapchat_Twitter_Discord_Reddit_Pinterest_TikTok\n",
      "Logged run: SVM_rbf_C=1_gamma=scale_features=Age_Sex_Relationship Status_Occupation_Time Spent_Social Media User?_Q1_Q2_Q3_Q4_Q5_Q6_Q7_Q8_Facebook_Instagram_YouTube_Snapchat_Twitter_Discord_Reddit_Pinterest_TikTok with accuracy=0.4895833333333333, precision=0.6643867029352227, recall=0.4895833333333333, f1_score=0.5100834879406309\n",
      "Starting run: SVM_rbf_C=1_gamma=scale_features=Age_Relationship Status_Occupation_Time Spent_Social Media User?_Q1_Q2_Q3_Q4_Q5_Q6_Q7_Facebook_Instagram_YouTube_Snapchat_Twitter_Discord_Reddit_Pinterest_TikTok\n",
      "Logged run: SVM_rbf_C=1_gamma=scale_features=Age_Relationship Status_Occupation_Time Spent_Social Media User?_Q1_Q2_Q3_Q4_Q5_Q6_Q7_Facebook_Instagram_YouTube_Snapchat_Twitter_Discord_Reddit_Pinterest_TikTok with accuracy=0.4895833333333333, precision=0.6677504006410256, recall=0.4895833333333333, f1_score=0.5120740156527728\n",
      "Starting run: SVM_rbf_C=1_gamma=scale_features=Age_Sex_Relationship Status_Time Spent_Social Media User?_Q1_Q2_Q3_Q4_Q5_Q6_Q7_Q8_Facebook_Instagram_YouTube_Snapchat_Twitter_Discord_Reddit_Pinterest_TikTok\n",
      "Logged run: SVM_rbf_C=1_gamma=scale_features=Age_Sex_Relationship Status_Time Spent_Social Media User?_Q1_Q2_Q3_Q4_Q5_Q6_Q7_Q8_Facebook_Instagram_YouTube_Snapchat_Twitter_Discord_Reddit_Pinterest_TikTok with accuracy=0.4895833333333333, precision=0.6760683760683762, recall=0.4895833333333333, f1_score=0.5045343137254902\n",
      "Starting run: SVM_rbf_C=1_gamma=auto_features=Age_Sex_Relationship Status_Occupation_Time Spent_Social Media User?_Q1_Q2_Q3_Q4_Q5_Q6_Q7_Q8_Facebook_Instagram_YouTube_Snapchat_Twitter_Discord_Reddit_Pinterest_TikTok\n",
      "Logged run: SVM_rbf_C=1_gamma=auto_features=Age_Sex_Relationship Status_Occupation_Time Spent_Social Media User?_Q1_Q2_Q3_Q4_Q5_Q6_Q7_Q8_Facebook_Instagram_YouTube_Snapchat_Twitter_Discord_Reddit_Pinterest_TikTok with accuracy=0.5833333333333334, precision=0.6063183060109291, recall=0.5833333333333334, f1_score=0.5935806818007398\n",
      "Starting run: SVM_rbf_C=1_gamma=auto_features=Age_Relationship Status_Occupation_Time Spent_Social Media User?_Q1_Q2_Q3_Q4_Q5_Q6_Q7_Facebook_Instagram_YouTube_Snapchat_Twitter_Discord_Reddit_Pinterest_TikTok\n",
      "Logged run: SVM_rbf_C=1_gamma=auto_features=Age_Relationship Status_Occupation_Time Spent_Social Media User?_Q1_Q2_Q3_Q4_Q5_Q6_Q7_Facebook_Instagram_YouTube_Snapchat_Twitter_Discord_Reddit_Pinterest_TikTok with accuracy=0.5729166666666666, precision=0.6065096003134797, recall=0.5729166666666666, f1_score=0.5862615207373271\n",
      "Starting run: SVM_rbf_C=1_gamma=auto_features=Age_Sex_Relationship Status_Time Spent_Social Media User?_Q1_Q2_Q3_Q4_Q5_Q6_Q7_Q8_Facebook_Instagram_YouTube_Snapchat_Twitter_Discord_Reddit_Pinterest_TikTok\n",
      "Logged run: SVM_rbf_C=1_gamma=auto_features=Age_Sex_Relationship Status_Time Spent_Social Media User?_Q1_Q2_Q3_Q4_Q5_Q6_Q7_Q8_Facebook_Instagram_YouTube_Snapchat_Twitter_Discord_Reddit_Pinterest_TikTok with accuracy=0.59375, precision=0.6105990783410139, recall=0.59375, f1_score=0.601313417257085\n",
      "Starting run: SVM_rbf_C=10_gamma=scale_features=Age_Sex_Relationship Status_Occupation_Time Spent_Social Media User?_Q1_Q2_Q3_Q4_Q5_Q6_Q7_Q8_Facebook_Instagram_YouTube_Snapchat_Twitter_Discord_Reddit_Pinterest_TikTok\n",
      "Logged run: SVM_rbf_C=10_gamma=scale_features=Age_Sex_Relationship Status_Occupation_Time Spent_Social Media User?_Q1_Q2_Q3_Q4_Q5_Q6_Q7_Q8_Facebook_Instagram_YouTube_Snapchat_Twitter_Discord_Reddit_Pinterest_TikTok with accuracy=0.5625, precision=0.6637983091787439, recall=0.5625, f1_score=0.5870646561195342\n",
      "Starting run: SVM_rbf_C=10_gamma=scale_features=Age_Relationship Status_Occupation_Time Spent_Social Media User?_Q1_Q2_Q3_Q4_Q5_Q6_Q7_Facebook_Instagram_YouTube_Snapchat_Twitter_Discord_Reddit_Pinterest_TikTok\n",
      "Logged run: SVM_rbf_C=10_gamma=scale_features=Age_Relationship Status_Occupation_Time Spent_Social Media User?_Q1_Q2_Q3_Q4_Q5_Q6_Q7_Facebook_Instagram_YouTube_Snapchat_Twitter_Discord_Reddit_Pinterest_TikTok with accuracy=0.5416666666666666, precision=0.6515386928628709, recall=0.5416666666666666, f1_score=0.5661101876418502\n",
      "Starting run: SVM_rbf_C=10_gamma=scale_features=Age_Sex_Relationship Status_Time Spent_Social Media User?_Q1_Q2_Q3_Q4_Q5_Q6_Q7_Q8_Facebook_Instagram_YouTube_Snapchat_Twitter_Discord_Reddit_Pinterest_TikTok\n",
      "Logged run: SVM_rbf_C=10_gamma=scale_features=Age_Sex_Relationship Status_Time Spent_Social Media User?_Q1_Q2_Q3_Q4_Q5_Q6_Q7_Q8_Facebook_Instagram_YouTube_Snapchat_Twitter_Discord_Reddit_Pinterest_TikTok with accuracy=0.5833333333333334, precision=0.6622393522626442, recall=0.5833333333333334, f1_score=0.6057705903145988\n",
      "Starting run: SVM_rbf_C=10_gamma=auto_features=Age_Sex_Relationship Status_Occupation_Time Spent_Social Media User?_Q1_Q2_Q3_Q4_Q5_Q6_Q7_Q8_Facebook_Instagram_YouTube_Snapchat_Twitter_Discord_Reddit_Pinterest_TikTok\n",
      "Logged run: SVM_rbf_C=10_gamma=auto_features=Age_Sex_Relationship Status_Occupation_Time Spent_Social Media User?_Q1_Q2_Q3_Q4_Q5_Q6_Q7_Q8_Facebook_Instagram_YouTube_Snapchat_Twitter_Discord_Reddit_Pinterest_TikTok with accuracy=0.5729166666666666, precision=0.6065096003134797, recall=0.5729166666666666, f1_score=0.5862615207373271\n",
      "Starting run: SVM_rbf_C=10_gamma=auto_features=Age_Relationship Status_Occupation_Time Spent_Social Media User?_Q1_Q2_Q3_Q4_Q5_Q6_Q7_Facebook_Instagram_YouTube_Snapchat_Twitter_Discord_Reddit_Pinterest_TikTok\n",
      "Logged run: SVM_rbf_C=10_gamma=auto_features=Age_Relationship Status_Occupation_Time Spent_Social Media User?_Q1_Q2_Q3_Q4_Q5_Q6_Q7_Facebook_Instagram_YouTube_Snapchat_Twitter_Discord_Reddit_Pinterest_TikTok with accuracy=0.59375, precision=0.6197916666666666, recall=0.59375, f1_score=0.6046888053467001\n",
      "Starting run: SVM_rbf_C=10_gamma=auto_features=Age_Sex_Relationship Status_Time Spent_Social Media User?_Q1_Q2_Q3_Q4_Q5_Q6_Q7_Q8_Facebook_Instagram_YouTube_Snapchat_Twitter_Discord_Reddit_Pinterest_TikTok\n",
      "Logged run: SVM_rbf_C=10_gamma=auto_features=Age_Sex_Relationship Status_Time Spent_Social Media User?_Q1_Q2_Q3_Q4_Q5_Q6_Q7_Q8_Facebook_Instagram_YouTube_Snapchat_Twitter_Discord_Reddit_Pinterest_TikTok with accuracy=0.5729166666666666, precision=0.6127232142857143, recall=0.5729166666666666, f1_score=0.5870901639344263\n",
      "Starting run: SVM_poly_C=0.1_gamma=scale_features=Age_Sex_Relationship Status_Occupation_Time Spent_Social Media User?_Q1_Q2_Q3_Q4_Q5_Q6_Q7_Q8_Facebook_Instagram_YouTube_Snapchat_Twitter_Discord_Reddit_Pinterest_TikTok\n",
      "Logged run: SVM_poly_C=0.1_gamma=scale_features=Age_Sex_Relationship Status_Occupation_Time Spent_Social Media User?_Q1_Q2_Q3_Q4_Q5_Q6_Q7_Q8_Facebook_Instagram_YouTube_Snapchat_Twitter_Discord_Reddit_Pinterest_TikTok with accuracy=0.6145833333333334, precision=0.6700806451612903, recall=0.6145833333333334, f1_score=0.6247712556306306\n",
      "Starting run: SVM_poly_C=0.1_gamma=scale_features=Age_Relationship Status_Occupation_Time Spent_Social Media User?_Q1_Q2_Q3_Q4_Q5_Q6_Q7_Facebook_Instagram_YouTube_Snapchat_Twitter_Discord_Reddit_Pinterest_TikTok\n",
      "Logged run: SVM_poly_C=0.1_gamma=scale_features=Age_Relationship Status_Occupation_Time Spent_Social Media User?_Q1_Q2_Q3_Q4_Q5_Q6_Q7_Facebook_Instagram_YouTube_Snapchat_Twitter_Discord_Reddit_Pinterest_TikTok with accuracy=0.71875, precision=0.6927710843373495, recall=0.71875, f1_score=0.6775027964205816\n",
      "Starting run: SVM_poly_C=0.1_gamma=scale_features=Age_Sex_Relationship Status_Time Spent_Social Media User?_Q1_Q2_Q3_Q4_Q5_Q6_Q7_Q8_Facebook_Instagram_YouTube_Snapchat_Twitter_Discord_Reddit_Pinterest_TikTok\n",
      "Logged run: SVM_poly_C=0.1_gamma=scale_features=Age_Sex_Relationship Status_Time Spent_Social Media User?_Q1_Q2_Q3_Q4_Q5_Q6_Q7_Q8_Facebook_Instagram_YouTube_Snapchat_Twitter_Discord_Reddit_Pinterest_TikTok with accuracy=0.7291666666666666, precision=0.7536337209302326, recall=0.7291666666666666, f1_score=0.6724654183535762\n",
      "Starting run: SVM_poly_C=0.1_gamma=auto_features=Age_Sex_Relationship Status_Occupation_Time Spent_Social Media User?_Q1_Q2_Q3_Q4_Q5_Q6_Q7_Q8_Facebook_Instagram_YouTube_Snapchat_Twitter_Discord_Reddit_Pinterest_TikTok\n",
      "Logged run: SVM_poly_C=0.1_gamma=auto_features=Age_Sex_Relationship Status_Occupation_Time Spent_Social Media User?_Q1_Q2_Q3_Q4_Q5_Q6_Q7_Q8_Facebook_Instagram_YouTube_Snapchat_Twitter_Discord_Reddit_Pinterest_TikTok with accuracy=0.4895833333333333, precision=0.5754807692307692, recall=0.4895833333333333, f1_score=0.5201338475499092\n",
      "Starting run: SVM_poly_C=0.1_gamma=auto_features=Age_Relationship Status_Occupation_Time Spent_Social Media User?_Q1_Q2_Q3_Q4_Q5_Q6_Q7_Facebook_Instagram_YouTube_Snapchat_Twitter_Discord_Reddit_Pinterest_TikTok\n",
      "Logged run: SVM_poly_C=0.1_gamma=auto_features=Age_Relationship Status_Occupation_Time Spent_Social Media User?_Q1_Q2_Q3_Q4_Q5_Q6_Q7_Facebook_Instagram_YouTube_Snapchat_Twitter_Discord_Reddit_Pinterest_TikTok with accuracy=0.5208333333333334, precision=0.602192265795207, recall=0.5208333333333334, f1_score=0.5488782051282052\n",
      "Starting run: SVM_poly_C=0.1_gamma=auto_features=Age_Sex_Relationship Status_Time Spent_Social Media User?_Q1_Q2_Q3_Q4_Q5_Q6_Q7_Q8_Facebook_Instagram_YouTube_Snapchat_Twitter_Discord_Reddit_Pinterest_TikTok\n",
      "Logged run: SVM_poly_C=0.1_gamma=auto_features=Age_Sex_Relationship Status_Time Spent_Social Media User?_Q1_Q2_Q3_Q4_Q5_Q6_Q7_Q8_Facebook_Instagram_YouTube_Snapchat_Twitter_Discord_Reddit_Pinterest_TikTok with accuracy=0.5, precision=0.5877221736596737, recall=0.5, f1_score=0.5273574561403508\n",
      "Starting run: SVM_poly_C=1_gamma=scale_features=Age_Sex_Relationship Status_Occupation_Time Spent_Social Media User?_Q1_Q2_Q3_Q4_Q5_Q6_Q7_Q8_Facebook_Instagram_YouTube_Snapchat_Twitter_Discord_Reddit_Pinterest_TikTok\n",
      "Logged run: SVM_poly_C=1_gamma=scale_features=Age_Sex_Relationship Status_Occupation_Time Spent_Social Media User?_Q1_Q2_Q3_Q4_Q5_Q6_Q7_Q8_Facebook_Instagram_YouTube_Snapchat_Twitter_Discord_Reddit_Pinterest_TikTok with accuracy=0.5208333333333334, precision=0.64074098621421, recall=0.5208333333333334, f1_score=0.5444287875334148\n",
      "Starting run: SVM_poly_C=1_gamma=scale_features=Age_Relationship Status_Occupation_Time Spent_Social Media User?_Q1_Q2_Q3_Q4_Q5_Q6_Q7_Facebook_Instagram_YouTube_Snapchat_Twitter_Discord_Reddit_Pinterest_TikTok\n",
      "Logged run: SVM_poly_C=1_gamma=scale_features=Age_Relationship Status_Occupation_Time Spent_Social Media User?_Q1_Q2_Q3_Q4_Q5_Q6_Q7_Facebook_Instagram_YouTube_Snapchat_Twitter_Discord_Reddit_Pinterest_TikTok with accuracy=0.5104166666666666, precision=0.6356019433465085, recall=0.5104166666666666, f1_score=0.5342051439382319\n",
      "Starting run: SVM_poly_C=1_gamma=scale_features=Age_Sex_Relationship Status_Time Spent_Social Media User?_Q1_Q2_Q3_Q4_Q5_Q6_Q7_Q8_Facebook_Instagram_YouTube_Snapchat_Twitter_Discord_Reddit_Pinterest_TikTok\n",
      "Logged run: SVM_poly_C=1_gamma=scale_features=Age_Sex_Relationship Status_Time Spent_Social Media User?_Q1_Q2_Q3_Q4_Q5_Q6_Q7_Q8_Facebook_Instagram_YouTube_Snapchat_Twitter_Discord_Reddit_Pinterest_TikTok with accuracy=0.53125, precision=0.6457415013691311, recall=0.53125, f1_score=0.5545287914119451\n",
      "Starting run: SVM_poly_C=1_gamma=auto_features=Age_Sex_Relationship Status_Occupation_Time Spent_Social Media User?_Q1_Q2_Q3_Q4_Q5_Q6_Q7_Q8_Facebook_Instagram_YouTube_Snapchat_Twitter_Discord_Reddit_Pinterest_TikTok\n",
      "Logged run: SVM_poly_C=1_gamma=auto_features=Age_Sex_Relationship Status_Occupation_Time Spent_Social Media User?_Q1_Q2_Q3_Q4_Q5_Q6_Q7_Q8_Facebook_Instagram_YouTube_Snapchat_Twitter_Discord_Reddit_Pinterest_TikTok with accuracy=0.4791666666666667, precision=0.5852272727272727, recall=0.4791666666666667, f1_score=0.5075367647058823\n",
      "Starting run: SVM_poly_C=1_gamma=auto_features=Age_Relationship Status_Occupation_Time Spent_Social Media User?_Q1_Q2_Q3_Q4_Q5_Q6_Q7_Facebook_Instagram_YouTube_Snapchat_Twitter_Discord_Reddit_Pinterest_TikTok\n",
      "Logged run: SVM_poly_C=1_gamma=auto_features=Age_Relationship Status_Occupation_Time Spent_Social Media User?_Q1_Q2_Q3_Q4_Q5_Q6_Q7_Facebook_Instagram_YouTube_Snapchat_Twitter_Discord_Reddit_Pinterest_TikTok with accuracy=0.4791666666666667, precision=0.5679400386847195, recall=0.4791666666666667, f1_score=0.505960437272254\n",
      "Starting run: SVM_poly_C=1_gamma=auto_features=Age_Sex_Relationship Status_Time Spent_Social Media User?_Q1_Q2_Q3_Q4_Q5_Q6_Q7_Q8_Facebook_Instagram_YouTube_Snapchat_Twitter_Discord_Reddit_Pinterest_TikTok\n",
      "Logged run: SVM_poly_C=1_gamma=auto_features=Age_Sex_Relationship Status_Time Spent_Social Media User?_Q1_Q2_Q3_Q4_Q5_Q6_Q7_Q8_Facebook_Instagram_YouTube_Snapchat_Twitter_Discord_Reddit_Pinterest_TikTok with accuracy=0.5104166666666666, precision=0.6047705314009661, recall=0.5104166666666666, f1_score=0.5364583333333334\n",
      "Starting run: SVM_poly_C=10_gamma=scale_features=Age_Sex_Relationship Status_Occupation_Time Spent_Social Media User?_Q1_Q2_Q3_Q4_Q5_Q6_Q7_Q8_Facebook_Instagram_YouTube_Snapchat_Twitter_Discord_Reddit_Pinterest_TikTok\n",
      "Logged run: SVM_poly_C=10_gamma=scale_features=Age_Sex_Relationship Status_Occupation_Time Spent_Social Media User?_Q1_Q2_Q3_Q4_Q5_Q6_Q7_Q8_Facebook_Instagram_YouTube_Snapchat_Twitter_Discord_Reddit_Pinterest_TikTok with accuracy=0.5208333333333334, precision=0.6178819444444444, recall=0.5208333333333334, f1_score=0.545459607959608\n",
      "Starting run: SVM_poly_C=10_gamma=scale_features=Age_Relationship Status_Occupation_Time Spent_Social Media User?_Q1_Q2_Q3_Q4_Q5_Q6_Q7_Facebook_Instagram_YouTube_Snapchat_Twitter_Discord_Reddit_Pinterest_TikTok\n",
      "Logged run: SVM_poly_C=10_gamma=scale_features=Age_Relationship Status_Occupation_Time Spent_Social Media User?_Q1_Q2_Q3_Q4_Q5_Q6_Q7_Facebook_Instagram_YouTube_Snapchat_Twitter_Discord_Reddit_Pinterest_TikTok with accuracy=0.5208333333333334, precision=0.6155128205128205, recall=0.5208333333333334, f1_score=0.5441877005524497\n",
      "Starting run: SVM_poly_C=10_gamma=scale_features=Age_Sex_Relationship Status_Time Spent_Social Media User?_Q1_Q2_Q3_Q4_Q5_Q6_Q7_Q8_Facebook_Instagram_YouTube_Snapchat_Twitter_Discord_Reddit_Pinterest_TikTok\n",
      "Logged run: SVM_poly_C=10_gamma=scale_features=Age_Sex_Relationship Status_Time Spent_Social Media User?_Q1_Q2_Q3_Q4_Q5_Q6_Q7_Q8_Facebook_Instagram_YouTube_Snapchat_Twitter_Discord_Reddit_Pinterest_TikTok with accuracy=0.5416666666666666, precision=0.627905585106383, recall=0.5416666666666666, f1_score=0.5646397820070387\n",
      "Starting run: SVM_poly_C=10_gamma=auto_features=Age_Sex_Relationship Status_Occupation_Time Spent_Social Media User?_Q1_Q2_Q3_Q4_Q5_Q6_Q7_Q8_Facebook_Instagram_YouTube_Snapchat_Twitter_Discord_Reddit_Pinterest_TikTok\n",
      "Logged run: SVM_poly_C=10_gamma=auto_features=Age_Sex_Relationship Status_Occupation_Time Spent_Social Media User?_Q1_Q2_Q3_Q4_Q5_Q6_Q7_Q8_Facebook_Instagram_YouTube_Snapchat_Twitter_Discord_Reddit_Pinterest_TikTok with accuracy=0.4375, precision=0.5321428571428571, recall=0.4375, f1_score=0.46442465192465193\n",
      "Starting run: SVM_poly_C=10_gamma=auto_features=Age_Relationship Status_Occupation_Time Spent_Social Media User?_Q1_Q2_Q3_Q4_Q5_Q6_Q7_Facebook_Instagram_YouTube_Snapchat_Twitter_Discord_Reddit_Pinterest_TikTok\n",
      "Logged run: SVM_poly_C=10_gamma=auto_features=Age_Relationship Status_Occupation_Time Spent_Social Media User?_Q1_Q2_Q3_Q4_Q5_Q6_Q7_Facebook_Instagram_YouTube_Snapchat_Twitter_Discord_Reddit_Pinterest_TikTok with accuracy=0.46875, precision=0.5895743181222134, recall=0.46875, f1_score=0.496766853158709\n",
      "Starting run: SVM_poly_C=10_gamma=auto_features=Age_Sex_Relationship Status_Time Spent_Social Media User?_Q1_Q2_Q3_Q4_Q5_Q6_Q7_Q8_Facebook_Instagram_YouTube_Snapchat_Twitter_Discord_Reddit_Pinterest_TikTok\n",
      "Logged run: SVM_poly_C=10_gamma=auto_features=Age_Sex_Relationship Status_Time Spent_Social Media User?_Q1_Q2_Q3_Q4_Q5_Q6_Q7_Q8_Facebook_Instagram_YouTube_Snapchat_Twitter_Discord_Reddit_Pinterest_TikTok with accuracy=0.4479166666666667, precision=0.5570121951219512, recall=0.4479166666666667, f1_score=0.47172186789593323\n",
      "Experiment complete. Check MLFlow UI for results.\n"
     ]
    }
   ],
   "source": [
    "for kernel in kernels:\n",
    "    for C in C_values:\n",
    "        for gamma in gamma_values:\n",
    "            for feature_subset in feature_combinations:\n",
    "                train_and_log_model(kernel, C, gamma, feature_subset)\n",
    "\n",
    "print(\"Experiment complete. Check MLFlow UI for results.\")"
   ]
  }
 ],
 "metadata": {
  "kernelspec": {
   "display_name": "mlflowcondaenv",
   "language": "python",
   "name": "mlflowcondaenv"
  },
  "language_info": {
   "codemirror_mode": {
    "name": "ipython",
    "version": 3
   },
   "file_extension": ".py",
   "mimetype": "text/x-python",
   "name": "python",
   "nbconvert_exporter": "python",
   "pygments_lexer": "ipython3",
   "version": "3.12.2"
  }
 },
 "nbformat": 4,
 "nbformat_minor": 5
}
